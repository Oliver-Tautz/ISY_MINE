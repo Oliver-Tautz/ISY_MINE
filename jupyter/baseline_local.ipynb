{
 "cells": [
  {
   "cell_type": "markdown",
   "metadata": {
    "id": "Pxwl_yG1qhR7"
   },
   "source": [
    "<div style=\"text-align: center\">\n",
    "  <img src=\"https://github.com/KarolisRam/MineRL2021-Intro-baselines/blob/main/img/colab_banner.png?raw=true\">\n",
    "</div>"
   ]
  },
  {
   "cell_type": "markdown",
   "metadata": {
    "id": "-_BGlQwngccr"
   },
   "source": [
    "# Introduction\n",
    "This notebook contains the Behavioural Cloning baselines for the Research track of the [MineRL 2021](https://minerl.io/) competition. To run it you will need to enable GPU by going to `Runtime -> Change runtime type` and selecting GPU from the drop down list.\n",
    "\n",
    "These baselines differ slightly from the standalone version of these baselines on github - the DATA_SAMPLES parameter is set to 400,000 instead of the default 1,000,000. This is done to fit into the RAM limits of Colab.\n",
    "\n",
    "To train the agent using the obfuscated action space we first discretize the action space using KMeans clustering. We then train the agent using Behavioural cloning. The training takes 10-15 mins.\n",
    "\n",
    "You can find more details about the obfuscation here:  \n",
    "[K-means exploration](https://minerl.io/docs/tutorials/k-means.html)\n",
    "\n",
    "Also see the in-depth analysis of the obfuscation and the KMeans approach done by one of the teams in the 2020 competition:\n",
    "\n",
    "[Obfuscation and KMeans analysis](https://github.com/GJuceviciute/MineRL-2020)\n",
    "\n",
    "Please note that any attempt to work with the obfuscated state and action spaces should be general and work with a different dataset or even a completely new environment."
   ]
  },
  {
   "cell_type": "markdown",
   "metadata": {
    "id": "ysSTXmT3YUeF"
   },
   "source": [
    "# Setup"
   ]
  },
  {
   "cell_type": "code",
   "execution_count": null,
   "metadata": {},
   "outputs": [],
   "source": [
    "skip_install = True"
   ]
  },
  {
   "cell_type": "code",
   "execution_count": null,
   "metadata": {
    "execution": {
     "iopub.execute_input": "2021-09-07T07:21:46.591006Z",
     "iopub.status.busy": "2021-09-07T07:21:46.590603Z",
     "iopub.status.idle": "2021-09-07T07:22:50.788291Z",
     "shell.execute_reply": "2021-09-07T07:22:50.787170Z",
     "shell.execute_reply.started": "2021-09-07T07:21:46.590903Z"
    },
    "id": "_HTScYNljgXv"
   },
   "outputs": [],
   "source": [
    "#%%capture\n",
    "if not skip_install:\n",
    "    !add-apt-repository -y ppa:openjdk-r/ppa\n",
    "    !apt-get -y purge openjdk-*\n",
    "    !apt-get -y install openjdk-8-jdk\n",
    "    !apt-get -y install xvfb xserver-xephyr vnc4server python-opengl ffmpeg"
   ]
  },
  {
   "cell_type": "code",
   "execution_count": null,
   "metadata": {
    "execution": {
     "iopub.execute_input": "2021-09-07T07:22:50.790506Z",
     "iopub.status.busy": "2021-09-07T07:22:50.790140Z",
     "iopub.status.idle": "2021-09-07T07:27:16.158834Z",
     "shell.execute_reply": "2021-09-07T07:27:16.157603Z",
     "shell.execute_reply.started": "2021-09-07T07:22:50.790465Z"
    },
    "id": "xh6gb3UWjT3p"
   },
   "outputs": [],
   "source": [
    "%%capture\n",
    "if not skip_install:\n",
    "    !pip3 install --upgrade minerl\n",
    "    !pip3 install pyvirtualdisplay\n",
    "    !pip3 install torch\n",
    "    !pip3 install scikit-learn\n",
    "    !pip3 install -U colabgymrender"
   ]
  },
  {
   "cell_type": "markdown",
   "metadata": {
    "id": "ADmrUKxvYXGa"
   },
   "source": [
    "# Import Libraries"
   ]
  },
  {
   "cell_type": "code",
   "execution_count": 2,
   "metadata": {
    "execution": {
     "iopub.execute_input": "2021-09-07T07:27:16.163443Z",
     "iopub.status.busy": "2021-09-07T07:27:16.163176Z",
     "iopub.status.idle": "2021-09-07T07:27:19.390272Z",
     "shell.execute_reply": "2021-09-07T07:27:19.389258Z",
     "shell.execute_reply.started": "2021-09-07T07:27:16.163413Z"
    },
    "id": "g8_vZpMFpiD9",
    "outputId": "ef9f81b2-9c50-4ba2-801e-f1562df088a2"
   },
   "outputs": [
    {
     "name": "stderr",
     "output_type": "stream",
     "text": [
      "/home/olli/gits/Minecraft72/venv/lib/python3.9/site-packages/gym/logger.py:30: UserWarning: \u001b[33mWARN: Box bound precision lowered by casting to float32\u001b[0m\n",
      "  warnings.warn(colorize('%s: %s'%('WARN', msg % args), 'yellow'))\n"
     ]
    }
   ],
   "source": [
    "import random\n",
    "import numpy as np\n",
    "import torch as th\n",
    "from torch import nn\n",
    "import gym\n",
    "import minerl\n",
    "from tqdm.notebook import tqdm\n",
    "from colabgymrender.recorder import Recorder\n",
    "#from pyvirtualdisplay import Display\n",
    "from sklearn.cluster import KMeans\n",
    "import logging\n",
    "logging.disable(logging.ERROR) # reduce clutter, remove if something doesn't work to see the error logs."
   ]
  },
  {
   "cell_type": "code",
   "execution_count": 3,
   "metadata": {
    "execution": {
     "iopub.execute_input": "2021-09-07T07:27:19.392227Z",
     "iopub.status.busy": "2021-09-07T07:27:19.391881Z",
     "iopub.status.idle": "2021-09-07T07:27:19.441500Z",
     "shell.execute_reply": "2021-09-07T07:27:19.440065Z",
     "shell.execute_reply.started": "2021-09-07T07:27:19.392199Z"
    }
   },
   "outputs": [
    {
     "name": "stdout",
     "output_type": "stream",
     "text": [
      "False\n"
     ]
    }
   ],
   "source": [
    "print(th.cuda.is_available())\n",
    "dev = th.device(\"cuda:0\" if th.cuda.is_available() else \"cpu\")"
   ]
  },
  {
   "cell_type": "markdown",
   "metadata": {
    "id": "zKiasaipYa6l"
   },
   "source": [
    "# Neural network"
   ]
  },
  {
   "cell_type": "code",
   "execution_count": 4,
   "metadata": {
    "execution": {
     "iopub.execute_input": "2021-09-07T07:27:19.444357Z",
     "iopub.status.busy": "2021-09-07T07:27:19.443636Z",
     "iopub.status.idle": "2021-09-07T07:27:19.453979Z",
     "shell.execute_reply": "2021-09-07T07:27:19.453090Z",
     "shell.execute_reply.started": "2021-09-07T07:27:19.444314Z"
    }
   },
   "outputs": [],
   "source": [
    "class NatureCNN(nn.Module):\n",
    "    \"\"\"\n",
    "    CNN from DQN nature paper:\n",
    "        Mnih, Volodymyr, et al.\n",
    "        \"Human-level control through deep reinforcement learning.\"\n",
    "        Nature 518.7540 (2015): 529-533.\n",
    "\n",
    "    Nicked from stable-baselines3:\n",
    "        https://github.com/DLR-RM/stable-baselines3/blob/master/stable_baselines3/common/torch_layers.py\n",
    "\n",
    "    :param input_shape: A three-item tuple telling image dimensions in (C, H, W)\n",
    "    :param output_dim: Dimensionality of the output vector\n",
    "    \"\"\"\n",
    "\n",
    "    def __init__(self, input_shape, output_dim):\n",
    "        super().__init__()\n",
    "        n_input_channels = input_shape[0]\n",
    "        self.cnn = nn.Sequential(\n",
    "            nn.Conv2d(n_input_channels, 32, kernel_size=8, stride=4, padding=0),\n",
    "            nn.ReLU(),\n",
    "            nn.Conv2d(32, 64, kernel_size=4, stride=2, padding=0),\n",
    "            nn.ReLU(),\n",
    "            nn.Conv2d(64, 64, kernel_size=3, stride=1, padding=0),\n",
    "            nn.ReLU(),\n",
    "            nn.Flatten(),\n",
    "        )\n",
    "\n",
    "        # Compute shape by doing one forward pass\n",
    "        with th.no_grad():\n",
    "            n_flatten = self.cnn(th.zeros(1, *input_shape)).shape[1]\n",
    "\n",
    "        self.linear = nn.Sequential(\n",
    "            nn.Linear(n_flatten, 512),\n",
    "            nn.ReLU(),\n",
    "            nn.Linear(512, output_dim)\n",
    "        )\n",
    "\n",
    "    def forward(self, observations: th.Tensor) -> th.Tensor:\n",
    "        return self.linear(self.cnn(observations))"
   ]
  },
  {
   "cell_type": "markdown",
   "metadata": {
    "id": "BvrJks0gZCTW"
   },
   "source": [
    "# Setup training"
   ]
  },
  {
   "cell_type": "code",
   "execution_count": null,
   "metadata": {
    "execution": {
     "iopub.execute_input": "2021-09-07T07:27:19.456626Z",
     "iopub.status.busy": "2021-09-07T07:27:19.456349Z",
     "iopub.status.idle": "2021-09-07T07:27:19.467140Z",
     "shell.execute_reply": "2021-09-07T07:27:19.466248Z",
     "shell.execute_reply.started": "2021-09-07T07:27:19.456600Z"
    }
   },
   "outputs": [],
   "source": [
    "def filter_actions_ix(actions,rewards,min_reward=2,before_count=40,after_count=40,bypass=False):\n",
    "    \"\"\"\n",
    "    Crude, extremely slow...\n",
    "    Does not take into account overlapping ...\n",
    "    \"\"\"\n",
    "    \n",
    "    if bypass : return range(actions)\n",
    "    filtered_ix = []\n",
    "    for i,act in tqdm(enumerate(actions)):\n",
    "      if i-before_count<0:\n",
    "        before_ix = 0\n",
    "      else:\n",
    "        before_ix = i-before_count\n",
    "      if i+after_count>len(actions):\n",
    "        after_ix = len(actions)-1\n",
    "      else:\n",
    "        after_ix = i+after_count\n",
    "      if sum(rewards[before_ix:after_ix]) > min_reward:\n",
    "        filtered_ix.append(i)\n",
    "\n",
    "    print(f'Using {len(filtered_ix)} of {len(actions)} samples!')    \n",
    "    return filtered_ix\n",
    "\n",
    "def cluster(actions):\n",
    "    print(\"Running KMeans on the action vectors\")\n",
    "    kmeans = KMeans(n_clusters=NUM_ACTION_CENTROIDS,verbose=1)\n",
    "    kmeans.fit(actions)\n",
    "    action_centroids = kmeans.cluster_centers_\n",
    "    return action_centroids\n",
    "    print(\"KMeans done\")"
   ]
  },
  {
   "cell_type": "code",
   "execution_count": null,
   "metadata": {
    "execution": {
     "iopub.execute_input": "2021-09-07T07:27:19.468938Z",
     "iopub.status.busy": "2021-09-07T07:27:19.468568Z",
     "iopub.status.idle": "2021-09-07T07:27:19.487454Z",
     "shell.execute_reply": "2021-09-07T07:27:19.486504Z",
     "shell.execute_reply.started": "2021-09-07T07:27:19.468899Z"
    },
    "id": "OpH8vzpLBGRY"
   },
   "outputs": [],
   "source": [
    "def train():\n",
    "    # For demonstration purposes, we will only use ObtainPickaxe data which is smaller,\n",
    "    # but has the similar steps as ObtainDiamond in the beginning.\n",
    "    # \"VectorObf\" stands for vectorized (vector observation and action), where there is no\n",
    "    # clear mapping between original actions and the vectors (i.e. you need to learn it)\n",
    "    data = minerl.data.make(\"MineRLTreechopVectorObf-v0\",  data_dir='data', num_workers=1)\n",
    "\n",
    "    # First, use k-means to find actions that represent most of them.\n",
    "    # This proved to be a strong approach in the MineRL 2020 competition.\n",
    "    # See the following for more analysis:\n",
    "    # https://github.com/GJuceviciute/MineRL-2020\n",
    "\n",
    "    # Go over the dataset once and collect all actions and the observations (the \"pov\" image).\n",
    "    # We do this to later on have uniform sampling of the dataset and to avoid high memory use spikes.\n",
    "    all_actions = []\n",
    "    all_pov_obs = []\n",
    "    all_rewards = []\n",
    "\n",
    "    print(\"Loading data\")\n",
    "    trajectory_names = data.get_trajectory_names()\n",
    "    random.shuffle(trajectory_names)\n",
    "\n",
    "    # Add trajectories to the data until we reach the required DATA_SAMPLES.\n",
    "    for trajectory_name in trajectory_names:\n",
    "        trajectory = data.load_data(trajectory_name, skip_interval=0, include_metadata=False)\n",
    "        \n",
    "        for dataset_observation, dataset_action, dataset_reward, _, _ in trajectory:\n",
    "            all_actions.append(dataset_action[\"vector\"])\n",
    "            all_pov_obs.append(dataset_observation[\"pov\"])\n",
    "            all_rewards.append(dataset_reward)\n",
    "        if len(all_actions) >= DATA_SAMPLES:\n",
    "            break\n",
    "\n",
    "    all_actions = np.array(all_actions)\n",
    "    all_pov_obs = np.array(all_pov_obs)\n",
    "\n",
    "    # apply filtering of 'low reward' actions\n",
    "\n",
    "    ix = filter_actions_ix(all_actions,all_rewards,bypass=BYPASS_FILTER)\n",
    "\n",
    "\n",
    "    filtered_actions = all_actions[ix]\n",
    "    filtered_pov_obs = all_pov_obs[ix]\n",
    "\n",
    "    print(len(ix),max(ix))\n",
    "    print(all_actions.shape)\n",
    "    print(filtered_actions.shape)\n",
    "\n",
    "    # Run k-means clustering using scikit-learn.  \n",
    "    action_centroids = cluster(filtered_actions)\n",
    "\n",
    "\n",
    "    # Now onto behavioural cloning itself.\n",
    "    # Much like with intro track, we do behavioural cloning on the discrete actions,\n",
    "    # where we turn the original vectors into discrete choices by mapping them to the closest\n",
    "    # centroid (based on Euclidian distance).\n",
    "\n",
    "    network = NatureCNN((3, 64, 64), NUM_ACTION_CENTROIDS).to(dev)\n",
    "    optimizer = th.optim.Adam(network.parameters(), lr=LEARNING_RATE)\n",
    "    loss_function = nn.CrossEntropyLoss()\n",
    "\n",
    "    num_samples = filtered_actions.shape[0]\n",
    "    update_count = 0\n",
    "    losses = []\n",
    "    # We have the data loaded up already in all_actions and all_pov_obs arrays.\n",
    "    # Let's do a manual training loop\n",
    "    print(\"Training\")\n",
    "    for _ in range(EPOCHS):\n",
    "        # Randomize the order in which we go over the samples\n",
    "        epoch_indices = np.arange(num_samples)\n",
    "        np.random.shuffle(epoch_indices)\n",
    "        for batch_i in range(0, num_samples, BATCH_SIZE):\n",
    "            # NOTE: this will cut off incomplete batches from end of the random indices\n",
    "            batch_indices = epoch_indices[batch_i:batch_i + BATCH_SIZE]\n",
    "\n",
    "            # Load the inputs and preprocess\n",
    "            obs = filtered_pov_obs[batch_indices].astype(np.float32)\n",
    "            # Transpose observations to be channel-first (BCHW instead of BHWC)\n",
    "            obs = obs.transpose(0, 3, 1, 2)\n",
    "            # Normalize observations. Do this here to avoid using too much memory (images are uint8 by default)\n",
    "            obs /= 255.0\n",
    "\n",
    "            # Map actions to their closest centroids\n",
    "            action_vectors = filtered_actions[batch_indices]\n",
    "            # Use numpy broadcasting to compute the distance between all\n",
    "            # actions and centroids at once.\n",
    "            # \"None\" in indexing adds a new dimension that allows the broadcasting\n",
    "            distances = np.sum((action_vectors - action_centroids[:, None]) ** 2, axis=2)\n",
    "            # Get the index of the closest centroid to each action.\n",
    "            # This is an array of (batch_size,)\n",
    "            actions = np.argmin(distances, axis=0)\n",
    "\n",
    "            # Obtain logits of each action\n",
    "            logits = network(th.from_numpy(obs).float().to(dev))\n",
    "\n",
    "            # Minimize cross-entropy with target labels.\n",
    "            # We could also compute the probability of demonstration actions and\n",
    "            # maximize them.\n",
    "            loss = loss_function(logits, th.from_numpy(actions).long().to(dev))\n",
    "\n",
    "            # Standard PyTorch update\n",
    "            optimizer.zero_grad()\n",
    "            loss.backward()\n",
    "            optimizer.step()\n",
    "\n",
    "            update_count += 1\n",
    "            losses.append(loss.item())\n",
    "            if (update_count % 1000) == 0:\n",
    "                mean_loss = sum(losses) / len(losses)\n",
    "                tqdm.write(\"Iteration {}. Loss {:<10.3f}\".format(update_count, mean_loss))\n",
    "                losses.clear()\n",
    "    print(\"Training done\")\n",
    "\n",
    "    # Save network and the centroids into separate files\n",
    "    np.save(TRAIN_KMEANS_MODEL_NAME, action_centroids)\n",
    "    th.save(network.state_dict(), TRAIN_MODEL_NAME)\n",
    "    del data\n",
    "\n",
    "   "
   ]
  },
  {
   "cell_type": "markdown",
   "metadata": {
    "id": "fg68dO21ZsgG"
   },
   "source": [
    "# Parameters"
   ]
  },
  {
   "cell_type": "code",
   "execution_count": 5,
   "metadata": {
    "execution": {
     "iopub.execute_input": "2021-09-07T07:27:19.491152Z",
     "iopub.status.busy": "2021-09-07T07:27:19.490725Z",
     "iopub.status.idle": "2021-09-07T07:27:19.501665Z",
     "shell.execute_reply": "2021-09-07T07:27:19.500612Z",
     "shell.execute_reply.started": "2021-09-07T07:27:19.491115Z"
    },
    "id": "O5VCVeHyqDlm"
   },
   "outputs": [],
   "source": [
    "# Parameters:\n",
    "EPOCHS = 4  # how many times we train over dataset.\n",
    "LEARNING_RATE = 0.0001  # Learning rate for the neural network.\n",
    "BATCH_SIZE = 32\n",
    "NUM_ACTION_CENTROIDS = 100  # Number of KMeans centroids used to cluster the data.\n",
    "\n",
    "DATA_SAMPLES = 400000  # how many samples to use from the dataset. Impacts RAM usage\n",
    "\n",
    "TRAIN_MODEL_NAME = 'research_potato.pth'  # name to use when saving the trained agent.\n",
    "TEST_MODEL_NAME = 'research_potato.pth'  # name to use when loading the trained agent.\n",
    "TRAIN_KMEANS_MODEL_NAME = 'centroids_for_research_potato.npy'  # name to use when saving the KMeans model.\n",
    "TEST_KMEANS_MODEL_NAME = 'centroids_for_research_potato.npy'  # name to use when loading the KMeans model.\n",
    "\n",
    "TEST_EPISODES = 10  # number of episodes to test the agent for.\n",
    "MAX_TEST_EPISODE_LEN = 2000  # 18k is the default for MineRLObtainDiamondVectorObf.\n",
    "BYPASS_FILTER = False"
   ]
  },
  {
   "cell_type": "markdown",
   "metadata": {
    "id": "lumAopy0cHBM"
   },
   "source": [
    "# Download the data"
   ]
  },
  {
   "cell_type": "code",
   "execution_count": null,
   "metadata": {
    "execution": {
     "iopub.execute_input": "2021-09-07T07:27:19.504128Z",
     "iopub.status.busy": "2021-09-07T07:27:19.503772Z",
     "iopub.status.idle": "2021-09-07T07:27:55.040998Z",
     "shell.execute_reply": "2021-09-07T07:27:55.039930Z",
     "shell.execute_reply.started": "2021-09-07T07:27:19.504101Z"
    },
    "id": "NzD13IclpD4T",
    "outputId": "fa9f2fb8-8571-4f9b-951f-383e8ca8389d"
   },
   "outputs": [],
   "source": [
    "# uncomment to download \n",
    "#minerl.data.download(directory='data', experiment='MineRLTreechopVectorObf-v0');"
   ]
  },
  {
   "cell_type": "markdown",
   "metadata": {
    "id": "0zKLHW_JcRBJ"
   },
   "source": [
    "# Train"
   ]
  },
  {
   "cell_type": "code",
   "execution_count": null,
   "metadata": {
    "execution": {
     "iopub.execute_input": "2021-09-07T07:27:55.671030Z",
     "iopub.status.busy": "2021-09-07T07:27:55.670626Z",
     "iopub.status.idle": "2021-09-07T07:34:27.602796Z",
     "shell.execute_reply": "2021-09-07T07:34:27.601821Z",
     "shell.execute_reply.started": "2021-09-07T07:27:55.670954Z"
    },
    "id": "IH84zVpiB19e",
    "outputId": "bd4b67b5-672b-4a21-e9ed-5cc6288e5a87"
   },
   "outputs": [],
   "source": [
    "train()  # only need to run this once."
   ]
  },
  {
   "cell_type": "markdown",
   "metadata": {
    "id": "5_6j2-ibcxZh"
   },
   "source": [
    "# Start Minecraft"
   ]
  },
  {
   "cell_type": "code",
   "execution_count": 6,
   "metadata": {
    "execution": {
     "iopub.execute_input": "2021-09-07T07:34:27.605056Z",
     "iopub.status.busy": "2021-09-07T07:34:27.604661Z",
     "iopub.status.idle": "2021-09-07T07:36:14.029158Z",
     "shell.execute_reply": "2021-09-07T07:36:14.027807Z",
     "shell.execute_reply.started": "2021-09-07T07:34:27.605013Z"
    },
    "id": "ja8WN5rgc3Ex"
   },
   "outputs": [],
   "source": [
    "env = gym.make('MineRLTreechopVectorObf-v0')\n",
    "env = Recorder(env, './video', fps=24)"
   ]
  },
  {
   "cell_type": "markdown",
   "metadata": {
    "id": "NjKpJgZicn6L"
   },
   "source": [
    "# Run your agent\n",
    "As the code below runs you should see episode videos and rewards show up. You can run the below cell multiple times to see different episodes."
   ]
  },
  {
   "cell_type": "code",
   "execution_count": 7,
   "metadata": {
    "execution": {
     "iopub.execute_input": "2021-09-07T07:36:14.036754Z",
     "iopub.status.busy": "2021-09-07T07:36:14.034446Z"
    },
    "id": "yQeH2QgcjpK9",
    "outputId": "001cc31a-ad56-469c-86ec-6c4a60934d1e"
   },
   "outputs": [
    {
     "name": "stderr",
     "output_type": "stream",
     "text": [
      "  0%|                                                                                                        | 0/15 [00:00<?, ?it/s]OpenCV: FFMPEG: tag 0x5634504d/'MP4V' is not supported with codec id 12 and format 'mp4 / MP4 (MPEG-4 Part 14)'\n",
      "OpenCV: FFMPEG: fallback to use tag 0x7634706d/'mp4v'\n",
      "  7%|██████▎                                                                                        | 1/15 [02:16<31:47, 136.25s/it]"
     ]
    },
    {
     "name": "stdout",
     "output_type": "stream",
     "text": [
      "Episode #1 reward: 8.0\t\t episode length: 2000\n",
      "\n"
     ]
    },
    {
     "name": "stderr",
     "output_type": "stream",
     "text": [
      "OpenCV: FFMPEG: tag 0x5634504d/'MP4V' is not supported with codec id 12 and format 'mp4 / MP4 (MPEG-4 Part 14)'\n",
      "OpenCV: FFMPEG: fallback to use tag 0x7634706d/'mp4v'\n",
      " 13%|████████████▊                                                                                   | 2/15 [02:37<14:51, 68.55s/it]"
     ]
    },
    {
     "name": "stdout",
     "output_type": "stream",
     "text": [
      "Episode #2 reward: 0.0\t\t episode length: 32\n",
      "\n"
     ]
    },
    {
     "name": "stderr",
     "output_type": "stream",
     "text": [
      "OpenCV: FFMPEG: tag 0x5634504d/'MP4V' is not supported with codec id 12 and format 'mp4 / MP4 (MPEG-4 Part 14)'\n",
      "OpenCV: FFMPEG: fallback to use tag 0x7634706d/'mp4v'\n",
      " 20%|███████████████████▏                                                                            | 3/15 [04:41<18:46, 93.84s/it]"
     ]
    },
    {
     "name": "stdout",
     "output_type": "stream",
     "text": [
      "Episode #3 reward: 13.0\t\t episode length: 2000\n",
      "\n"
     ]
    },
    {
     "name": "stderr",
     "output_type": "stream",
     "text": [
      "OpenCV: FFMPEG: tag 0x5634504d/'MP4V' is not supported with codec id 12 and format 'mp4 / MP4 (MPEG-4 Part 14)'\n",
      "OpenCV: FFMPEG: fallback to use tag 0x7634706d/'mp4v'\n",
      " 27%|█████████████████████████▎                                                                     | 4/15 [06:50<19:45, 107.81s/it]"
     ]
    },
    {
     "name": "stdout",
     "output_type": "stream",
     "text": [
      "Episode #4 reward: 11.0\t\t episode length: 2000\n",
      "\n"
     ]
    },
    {
     "name": "stderr",
     "output_type": "stream",
     "text": [
      "OpenCV: FFMPEG: tag 0x5634504d/'MP4V' is not supported with codec id 12 and format 'mp4 / MP4 (MPEG-4 Part 14)'\n",
      "OpenCV: FFMPEG: fallback to use tag 0x7634706d/'mp4v'\n",
      " 33%|███████████████████████████████▋                                                               | 5/15 [09:00<19:16, 115.69s/it]"
     ]
    },
    {
     "name": "stdout",
     "output_type": "stream",
     "text": [
      "Episode #5 reward: 5.0\t\t episode length: 2000\n",
      "\n"
     ]
    },
    {
     "name": "stderr",
     "output_type": "stream",
     "text": [
      "OpenCV: FFMPEG: tag 0x5634504d/'MP4V' is not supported with codec id 12 and format 'mp4 / MP4 (MPEG-4 Part 14)'\n",
      "OpenCV: FFMPEG: fallback to use tag 0x7634706d/'mp4v'\n",
      " 40%|██████████████████████████████████████                                                         | 6/15 [10:57<17:27, 116.34s/it]"
     ]
    },
    {
     "name": "stdout",
     "output_type": "stream",
     "text": [
      "Episode #6 reward: 5.0\t\t episode length: 2000\n",
      "\n"
     ]
    },
    {
     "name": "stderr",
     "output_type": "stream",
     "text": [
      "OpenCV: FFMPEG: tag 0x5634504d/'MP4V' is not supported with codec id 12 and format 'mp4 / MP4 (MPEG-4 Part 14)'\n",
      "OpenCV: FFMPEG: fallback to use tag 0x7634706d/'mp4v'\n",
      " 47%|████████████████████████████████████████████▎                                                  | 7/15 [13:00<15:47, 118.46s/it]"
     ]
    },
    {
     "name": "stdout",
     "output_type": "stream",
     "text": [
      "Episode #7 reward: 3.0\t\t episode length: 2000\n",
      "\n"
     ]
    },
    {
     "name": "stderr",
     "output_type": "stream",
     "text": [
      "OpenCV: FFMPEG: tag 0x5634504d/'MP4V' is not supported with codec id 12 and format 'mp4 / MP4 (MPEG-4 Part 14)'\n",
      "OpenCV: FFMPEG: fallback to use tag 0x7634706d/'mp4v'\n",
      " 53%|███████████████████████████████████████████████████▏                                            | 8/15 [13:20<10:10, 87.15s/it]"
     ]
    },
    {
     "name": "stdout",
     "output_type": "stream",
     "text": [
      "Episode #8 reward: 0.0\t\t episode length: 33\n",
      "\n"
     ]
    },
    {
     "name": "stderr",
     "output_type": "stream",
     "text": [
      "OpenCV: FFMPEG: tag 0x5634504d/'MP4V' is not supported with codec id 12 and format 'mp4 / MP4 (MPEG-4 Part 14)'\n",
      "OpenCV: FFMPEG: fallback to use tag 0x7634706d/'mp4v'\n",
      " 60%|█████████████████████████████████████████████████████████                                      | 9/15 [15:37<10:15, 102.60s/it]"
     ]
    },
    {
     "name": "stdout",
     "output_type": "stream",
     "text": [
      "Episode #9 reward: 8.0\t\t episode length: 2000\n",
      "\n"
     ]
    },
    {
     "name": "stderr",
     "output_type": "stream",
     "text": [
      "OpenCV: FFMPEG: tag 0x5634504d/'MP4V' is not supported with codec id 12 and format 'mp4 / MP4 (MPEG-4 Part 14)'\n",
      "OpenCV: FFMPEG: fallback to use tag 0x7634706d/'mp4v'\n",
      " 67%|██████████████████████████████████████████████████████████████▋                               | 10/15 [17:33<08:54, 106.92s/it]"
     ]
    },
    {
     "name": "stdout",
     "output_type": "stream",
     "text": [
      "Episode #10 reward: 0.0\t\t episode length: 2000\n",
      "\n"
     ]
    },
    {
     "name": "stderr",
     "output_type": "stream",
     "text": [
      "OpenCV: FFMPEG: tag 0x5634504d/'MP4V' is not supported with codec id 12 and format 'mp4 / MP4 (MPEG-4 Part 14)'\n",
      "OpenCV: FFMPEG: fallback to use tag 0x7634706d/'mp4v'\n",
      " 73%|█████████████████████████████████████████████████████████████████████▋                         | 11/15 [17:53<05:20, 80.04s/it]"
     ]
    },
    {
     "name": "stdout",
     "output_type": "stream",
     "text": [
      "Episode #11 reward: 0.0\t\t episode length: 18\n",
      "\n"
     ]
    },
    {
     "name": "stderr",
     "output_type": "stream",
     "text": [
      "OpenCV: FFMPEG: tag 0x5634504d/'MP4V' is not supported with codec id 12 and format 'mp4 / MP4 (MPEG-4 Part 14)'\n",
      "OpenCV: FFMPEG: fallback to use tag 0x7634706d/'mp4v'\n",
      " 80%|████████████████████████████████████████████████████████████████████████████                   | 12/15 [19:59<04:42, 94.09s/it]"
     ]
    },
    {
     "name": "stdout",
     "output_type": "stream",
     "text": [
      "Episode #12 reward: 3.0\t\t episode length: 2000\n",
      "\n"
     ]
    },
    {
     "name": "stderr",
     "output_type": "stream",
     "text": [
      "OpenCV: FFMPEG: tag 0x5634504d/'MP4V' is not supported with codec id 12 and format 'mp4 / MP4 (MPEG-4 Part 14)'\n",
      "OpenCV: FFMPEG: fallback to use tag 0x7634706d/'mp4v'\n",
      " 87%|█████████████████████████████████████████████████████████████████████████████████▍            | 13/15 [22:07<03:28, 104.43s/it]"
     ]
    },
    {
     "name": "stdout",
     "output_type": "stream",
     "text": [
      "Episode #13 reward: 0.0\t\t episode length: 2000\n",
      "\n"
     ]
    },
    {
     "name": "stderr",
     "output_type": "stream",
     "text": [
      "OpenCV: FFMPEG: tag 0x5634504d/'MP4V' is not supported with codec id 12 and format 'mp4 / MP4 (MPEG-4 Part 14)'\n",
      "OpenCV: FFMPEG: fallback to use tag 0x7634706d/'mp4v'\n",
      " 93%|███████████████████████████████████████████████████████████████████████████████████████▋      | 14/15 [23:47<01:43, 103.18s/it]"
     ]
    },
    {
     "name": "stdout",
     "output_type": "stream",
     "text": [
      "Episode #14 reward: 0.0\t\t episode length: 2000\n",
      "\n"
     ]
    },
    {
     "name": "stderr",
     "output_type": "stream",
     "text": [
      "OpenCV: FFMPEG: tag 0x5634504d/'MP4V' is not supported with codec id 12 and format 'mp4 / MP4 (MPEG-4 Part 14)'\n",
      "OpenCV: FFMPEG: fallback to use tag 0x7634706d/'mp4v'\n",
      "100%|██████████████████████████████████████████████████████████████████████████████████████████████| 15/15 [25:34<00:00, 102.30s/it]"
     ]
    },
    {
     "name": "stdout",
     "output_type": "stream",
     "text": [
      "Episode #15 reward: 1.0\t\t episode length: 2000\n",
      "\n"
     ]
    },
    {
     "name": "stderr",
     "output_type": "stream",
     "text": [
      "\n"
     ]
    }
   ],
   "source": [
    "from tqdm import trange\n",
    "action_centroids = np.load(TEST_KMEANS_MODEL_NAME)\n",
    "network = NatureCNN((3, 64, 64), NUM_ACTION_CENTROIDS).to(dev)\n",
    "network.load_state_dict(th.load(TEST_MODEL_NAME))\n",
    "\n",
    "\n",
    "num_actions = action_centroids.shape[0]\n",
    "action_list = np.arange(num_actions)\n",
    "\n",
    "for episode in trange(15):\n",
    "    obs = env.reset()\n",
    "    done = False\n",
    "    total_reward = 0\n",
    "    steps = 0\n",
    "\n",
    "    while not done:\n",
    "        # Process the action:\n",
    "        #   - Add/remove batch dimensions\n",
    "        #   - Transpose image (needs to be channels-last)\n",
    "        #   - Normalize image\n",
    "        obs = th.from_numpy(obs['pov'].transpose(2, 0, 1)[None].astype(np.float32) / 255).to(dev)\n",
    "        # Turn logits into probabilities\n",
    "        probabilities = th.softmax(network(obs), dim=1)[0]\n",
    "        # Into numpy\n",
    "        probabilities = probabilities.detach().cpu().numpy()\n",
    "        # Sample action according to the probabilities\n",
    "        discrete_action = np.random.choice(action_list, p=probabilities)\n",
    "\n",
    "        # Map the discrete action to the corresponding action centroid (vector)\n",
    "        action = action_centroids[discrete_action]\n",
    "        minerl_action = {\"vector\": action}\n",
    "\n",
    "        obs, reward, done, info = env.step(minerl_action)\n",
    "        total_reward += reward\n",
    "        steps += 1\n",
    "        if steps >= MAX_TEST_EPISODE_LEN:\n",
    "            break\n",
    "\n",
    "    env.release()\n",
    "    #env.play()\n",
    "    print(f'Episode #{episode + 1} reward: {total_reward}\\t\\t episode length: {steps}\\n')"
   ]
  },
  {
   "cell_type": "code",
   "execution_count": null,
   "metadata": {
    "id": "FDo_NDfLqUJt"
   },
   "outputs": [],
   "source": [
    "! zip -r video1.zip video/\n",
    "from google.colab import files\n",
    "files.download(\"/content/video1.zip\")"
   ]
  },
  {
   "cell_type": "code",
   "execution_count": null,
   "metadata": {
    "id": "0G-1-tghqetm"
   },
   "outputs": [],
   "source": []
  }
 ],
 "metadata": {
  "kernelspec": {
   "display_name": "minecraft21",
   "language": "python",
   "name": "minecraft21"
  },
  "language_info": {
   "codemirror_mode": {
    "name": "ipython",
    "version": 3
   },
   "file_extension": ".py",
   "mimetype": "text/x-python",
   "name": "python",
   "nbconvert_exporter": "python",
   "pygments_lexer": "ipython3",
   "version": "3.9.6"
  }
 },
 "nbformat": 4,
 "nbformat_minor": 4
}
