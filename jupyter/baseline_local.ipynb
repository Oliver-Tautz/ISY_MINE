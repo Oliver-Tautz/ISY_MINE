{
 "cells": [
  {
   "cell_type": "markdown",
   "metadata": {
    "id": "Pxwl_yG1qhR7"
   },
   "source": [
    "<div style=\"text-align: center\">\n",
    "  <img src=\"https://github.com/KarolisRam/MineRL2021-Intro-baselines/blob/main/img/colab_banner.png?raw=true\">\n",
    "</div>"
   ]
  },
  {
   "cell_type": "markdown",
   "metadata": {
    "id": "-_BGlQwngccr"
   },
   "source": [
    "# Introduction\n",
    "This notebook contains the Behavioural Cloning baselines for the Research track of the [MineRL 2021](https://minerl.io/) competition. To run it you will need to enable GPU by going to `Runtime -> Change runtime type` and selecting GPU from the drop down list.\n",
    "\n",
    "These baselines differ slightly from the standalone version of these baselines on github - the DATA_SAMPLES parameter is set to 400,000 instead of the default 1,000,000. This is done to fit into the RAM limits of Colab.\n",
    "\n",
    "To train the agent using the obfuscated action space we first discretize the action space using KMeans clustering. We then train the agent using Behavioural cloning. The training takes 10-15 mins.\n",
    "\n",
    "You can find more details about the obfuscation here:  \n",
    "[K-means exploration](https://minerl.io/docs/tutorials/k-means.html)\n",
    "\n",
    "Also see the in-depth analysis of the obfuscation and the KMeans approach done by one of the teams in the 2020 competition:\n",
    "\n",
    "[Obfuscation and KMeans analysis](https://github.com/GJuceviciute/MineRL-2020)\n",
    "\n",
    "Please note that any attempt to work with the obfuscated state and action spaces should be general and work with a different dataset or even a completely new environment."
   ]
  },
  {
   "cell_type": "markdown",
   "metadata": {
    "id": "ysSTXmT3YUeF"
   },
   "source": [
    "# Setup"
   ]
  },
  {
   "cell_type": "code",
   "execution_count": 1,
   "metadata": {},
   "outputs": [],
   "source": [
    "skip_install = True"
   ]
  },
  {
   "cell_type": "code",
   "execution_count": 2,
   "metadata": {
    "execution": {
     "iopub.execute_input": "2021-09-07T07:21:46.591006Z",
     "iopub.status.busy": "2021-09-07T07:21:46.590603Z",
     "iopub.status.idle": "2021-09-07T07:22:50.788291Z",
     "shell.execute_reply": "2021-09-07T07:22:50.787170Z",
     "shell.execute_reply.started": "2021-09-07T07:21:46.590903Z"
    },
    "id": "_HTScYNljgXv"
   },
   "outputs": [],
   "source": [
    "#%%capture\n",
    "if not skip_install:\n",
    "    !add-apt-repository -y ppa:openjdk-r/ppa\n",
    "    !apt-get -y purge openjdk-*\n",
    "    !apt-get -y install openjdk-8-jdk\n",
    "    !apt-get -y install xvfb xserver-xephyr vnc4server python-opengl ffmpeg"
   ]
  },
  {
   "cell_type": "code",
   "execution_count": 3,
   "metadata": {
    "execution": {
     "iopub.execute_input": "2021-09-07T07:22:50.790506Z",
     "iopub.status.busy": "2021-09-07T07:22:50.790140Z",
     "iopub.status.idle": "2021-09-07T07:27:16.158834Z",
     "shell.execute_reply": "2021-09-07T07:27:16.157603Z",
     "shell.execute_reply.started": "2021-09-07T07:22:50.790465Z"
    },
    "id": "xh6gb3UWjT3p"
   },
   "outputs": [],
   "source": [
    "%%capture\n",
    "if not skip_install:\n",
    "    !pip3 install --upgrade minerl\n",
    "    !pip3 install pyvirtualdisplay\n",
    "    !pip3 install torch\n",
    "    !pip3 install scikit-learn\n",
    "    !pip3 install -U colabgymrender"
   ]
  },
  {
   "cell_type": "markdown",
   "metadata": {
    "id": "ADmrUKxvYXGa"
   },
   "source": [
    "# Import Libraries"
   ]
  },
  {
   "cell_type": "code",
   "execution_count": 4,
   "metadata": {
    "execution": {
     "iopub.execute_input": "2021-09-07T07:27:16.163443Z",
     "iopub.status.busy": "2021-09-07T07:27:16.163176Z",
     "iopub.status.idle": "2021-09-07T07:27:19.390272Z",
     "shell.execute_reply": "2021-09-07T07:27:19.389258Z",
     "shell.execute_reply.started": "2021-09-07T07:27:16.163413Z"
    },
    "id": "g8_vZpMFpiD9",
    "outputId": "ef9f81b2-9c50-4ba2-801e-f1562df088a2"
   },
   "outputs": [
    {
     "name": "stderr",
     "output_type": "stream",
     "text": [
      "/home/olli/gits/Minecraft72/venv/lib/python3.9/site-packages/gym/logger.py:30: UserWarning: \u001b[33mWARN: Box bound precision lowered by casting to float32\u001b[0m\n",
      "  warnings.warn(colorize('%s: %s'%('WARN', msg % args), 'yellow'))\n"
     ]
    }
   ],
   "source": [
    "import random\n",
    "import numpy as np\n",
    "import torch as th\n",
    "from torch import nn\n",
    "import gym\n",
    "import minerl\n",
    "from tqdm.notebook import tqdm\n",
    "from colabgymrender.recorder import Recorder\n",
    "#from pyvirtualdisplay import Display\n",
    "from sklearn.cluster import KMeans\n",
    "import logging\n",
    "logging.disable(logging.ERROR) # reduce clutter, remove if something doesn't work to see the error logs."
   ]
  },
  {
   "cell_type": "code",
   "execution_count": 5,
   "metadata": {
    "execution": {
     "iopub.execute_input": "2021-09-07T07:27:19.392227Z",
     "iopub.status.busy": "2021-09-07T07:27:19.391881Z",
     "iopub.status.idle": "2021-09-07T07:27:19.441500Z",
     "shell.execute_reply": "2021-09-07T07:27:19.440065Z",
     "shell.execute_reply.started": "2021-09-07T07:27:19.392199Z"
    }
   },
   "outputs": [
    {
     "name": "stdout",
     "output_type": "stream",
     "text": [
      "False\n"
     ]
    }
   ],
   "source": [
    "print(th.cuda.is_available())\n",
    "dev = th.device(\"cuda:0\" if th.cuda.is_available() else \"cpu\")"
   ]
  },
  {
   "cell_type": "markdown",
   "metadata": {
    "id": "zKiasaipYa6l"
   },
   "source": [
    "# Neural network"
   ]
  },
  {
   "cell_type": "code",
   "execution_count": 6,
   "metadata": {
    "execution": {
     "iopub.execute_input": "2021-09-07T07:27:19.444357Z",
     "iopub.status.busy": "2021-09-07T07:27:19.443636Z",
     "iopub.status.idle": "2021-09-07T07:27:19.453979Z",
     "shell.execute_reply": "2021-09-07T07:27:19.453090Z",
     "shell.execute_reply.started": "2021-09-07T07:27:19.444314Z"
    }
   },
   "outputs": [],
   "source": [
    "class NatureCNN(nn.Module):\n",
    "    \"\"\"\n",
    "    CNN from DQN nature paper:\n",
    "        Mnih, Volodymyr, et al.\n",
    "        \"Human-level control through deep reinforcement learning.\"\n",
    "        Nature 518.7540 (2015): 529-533.\n",
    "\n",
    "    Nicked from stable-baselines3:\n",
    "        https://github.com/DLR-RM/stable-baselines3/blob/master/stable_baselines3/common/torch_layers.py\n",
    "\n",
    "    :param input_shape: A three-item tuple telling image dimensions in (C, H, W)\n",
    "    :param output_dim: Dimensionality of the output vector\n",
    "    \"\"\"\n",
    "\n",
    "    def __init__(self, input_shape, output_dim):\n",
    "        super().__init__()\n",
    "        n_input_channels = input_shape[0]\n",
    "        self.cnn = nn.Sequential(\n",
    "            nn.Conv2d(n_input_channels, 32, kernel_size=8, stride=4, padding=0),\n",
    "            nn.ReLU(),\n",
    "            nn.Conv2d(32, 64, kernel_size=4, stride=2, padding=0),\n",
    "            nn.ReLU(),\n",
    "            nn.Conv2d(64, 64, kernel_size=3, stride=1, padding=0),\n",
    "            nn.ReLU(),\n",
    "            nn.Flatten(),\n",
    "        )\n",
    "\n",
    "        # Compute shape by doing one forward pass\n",
    "        with th.no_grad():\n",
    "            n_flatten = self.cnn(th.zeros(1, *input_shape)).shape[1]\n",
    "\n",
    "        self.linear = nn.Sequential(\n",
    "            nn.Linear(n_flatten, 512),\n",
    "            nn.ReLU(),\n",
    "            nn.Linear(512, output_dim)\n",
    "        )\n",
    "\n",
    "    def forward(self, observations: th.Tensor) -> th.Tensor:\n",
    "        return self.linear(self.cnn(observations))"
   ]
  },
  {
   "cell_type": "markdown",
   "metadata": {
    "id": "BvrJks0gZCTW"
   },
   "source": [
    "# Setup training"
   ]
  },
  {
   "cell_type": "code",
   "execution_count": 7,
   "metadata": {
    "execution": {
     "iopub.execute_input": "2021-09-07T07:27:19.456626Z",
     "iopub.status.busy": "2021-09-07T07:27:19.456349Z",
     "iopub.status.idle": "2021-09-07T07:27:19.467140Z",
     "shell.execute_reply": "2021-09-07T07:27:19.466248Z",
     "shell.execute_reply.started": "2021-09-07T07:27:19.456600Z"
    }
   },
   "outputs": [],
   "source": [
    "def filter_actions_ix(actions,rewards,min_reward=2,before_count=40,after_count=40,bypass=False):\n",
    "    \"\"\"\n",
    "    Crude, extremely slow...\n",
    "    Does not take into account overlapping ...\n",
    "    \"\"\"\n",
    "    \n",
    "    if bypass : return range(actions)\n",
    "    filtered_ix = []\n",
    "    for i,act in tqdm(enumerate(actions)):\n",
    "      if i-before_count<0:\n",
    "        before_ix = 0\n",
    "      else:\n",
    "        before_ix = i-before_count\n",
    "      if i+after_count>len(actions):\n",
    "        after_ix = len(actions)-1\n",
    "      else:\n",
    "        after_ix = i+after_count\n",
    "      if sum(rewards[before_ix:after_ix]) > min_reward:\n",
    "        filtered_ix.append(i)\n",
    "\n",
    "    print(f'Using {len(filtered_ix)} of {len(actions)} samples!')    \n",
    "    return filtered_ix\n",
    "\n",
    "def cluster(actions):\n",
    "    print(\"Running KMeans on the action vectors\")\n",
    "    kmeans = KMeans(n_clusters=NUM_ACTION_CENTROIDS,verbose=1)\n",
    "    kmeans.fit(actions)\n",
    "    action_centroids = kmeans.cluster_centers_\n",
    "    return action_centroids\n",
    "    print(\"KMeans done\")"
   ]
  },
  {
   "cell_type": "code",
   "execution_count": 8,
   "metadata": {
    "execution": {
     "iopub.execute_input": "2021-09-07T07:27:19.468938Z",
     "iopub.status.busy": "2021-09-07T07:27:19.468568Z",
     "iopub.status.idle": "2021-09-07T07:27:19.487454Z",
     "shell.execute_reply": "2021-09-07T07:27:19.486504Z",
     "shell.execute_reply.started": "2021-09-07T07:27:19.468899Z"
    },
    "id": "OpH8vzpLBGRY"
   },
   "outputs": [],
   "source": [
    "def train():\n",
    "    # For demonstration purposes, we will only use ObtainPickaxe data which is smaller,\n",
    "    # but has the similar steps as ObtainDiamond in the beginning.\n",
    "    # \"VectorObf\" stands for vectorized (vector observation and action), where there is no\n",
    "    # clear mapping between original actions and the vectors (i.e. you need to learn it)\n",
    "    data = minerl.data.make(\"MineRLTreechopVectorObf-v0\",  data_dir='data', num_workers=1)\n",
    "\n",
    "    # First, use k-means to find actions that represent most of them.\n",
    "    # This proved to be a strong approach in the MineRL 2020 competition.\n",
    "    # See the following for more analysis:\n",
    "    # https://github.com/GJuceviciute/MineRL-2020\n",
    "\n",
    "    # Go over the dataset once and collect all actions and the observations (the \"pov\" image).\n",
    "    # We do this to later on have uniform sampling of the dataset and to avoid high memory use spikes.\n",
    "    all_actions = []\n",
    "    all_pov_obs = []\n",
    "    all_rewards = []\n",
    "\n",
    "    print(\"Loading data\")\n",
    "    trajectory_names = data.get_trajectory_names()\n",
    "    random.shuffle(trajectory_names)\n",
    "\n",
    "    # Add trajectories to the data until we reach the required DATA_SAMPLES.\n",
    "    for trajectory_name in trajectory_names:\n",
    "        trajectory = data.load_data(trajectory_name, skip_interval=0, include_metadata=False)\n",
    "        \n",
    "        for dataset_observation, dataset_action, dataset_reward, _, _ in trajectory:\n",
    "            all_actions.append(dataset_action[\"vector\"])\n",
    "            all_pov_obs.append(dataset_observation[\"pov\"])\n",
    "            all_rewards.append(dataset_reward)\n",
    "        if len(all_actions) >= DATA_SAMPLES:\n",
    "            break\n",
    "\n",
    "    all_actions = np.array(all_actions)\n",
    "    all_pov_obs = np.array(all_pov_obs)\n",
    "\n",
    "    # apply filtering of 'low reward' actions\n",
    "\n",
    "    ix = filter_actions_ix(all_actions,all_rewards,bypass=BYPASS_FILTER)\n",
    "\n",
    "\n",
    "    filtered_actions = all_actions[ix]\n",
    "    filtered_pov_obs = all_pov_obs[ix]\n",
    "\n",
    "    print(len(ix),max(ix))\n",
    "    print(all_actions.shape)\n",
    "    print(filtered_actions.shape)\n",
    "\n",
    "    # Run k-means clustering using scikit-learn.  \n",
    "    action_centroids = cluster(filtered_actions)\n",
    "\n",
    "\n",
    "    # Now onto behavioural cloning itself.\n",
    "    # Much like with intro track, we do behavioural cloning on the discrete actions,\n",
    "    # where we turn the original vectors into discrete choices by mapping them to the closest\n",
    "    # centroid (based on Euclidian distance).\n",
    "\n",
    "    network = NatureCNN((3, 64, 64), NUM_ACTION_CENTROIDS).to(dev)\n",
    "    optimizer = th.optim.Adam(network.parameters(), lr=LEARNING_RATE)\n",
    "    loss_function = nn.CrossEntropyLoss()\n",
    "\n",
    "    num_samples = filtered_actions.shape[0]\n",
    "    update_count = 0\n",
    "    losses = []\n",
    "    # We have the data loaded up already in all_actions and all_pov_obs arrays.\n",
    "    # Let's do a manual training loop\n",
    "    print(\"Training\")\n",
    "    for _ in range(EPOCHS):\n",
    "        # Randomize the order in which we go over the samples\n",
    "        epoch_indices = np.arange(num_samples)\n",
    "        np.random.shuffle(epoch_indices)\n",
    "        for batch_i in range(0, num_samples, BATCH_SIZE):\n",
    "            # NOTE: this will cut off incomplete batches from end of the random indices\n",
    "            batch_indices = epoch_indices[batch_i:batch_i + BATCH_SIZE]\n",
    "\n",
    "            # Load the inputs and preprocess\n",
    "            obs = filtered_pov_obs[batch_indices].astype(np.float32)\n",
    "            # Transpose observations to be channel-first (BCHW instead of BHWC)\n",
    "            obs = obs.transpose(0, 3, 1, 2)\n",
    "            # Normalize observations. Do this here to avoid using too much memory (images are uint8 by default)\n",
    "            obs /= 255.0\n",
    "\n",
    "            # Map actions to their closest centroids\n",
    "            action_vectors = filtered_actions[batch_indices]\n",
    "            # Use numpy broadcasting to compute the distance between all\n",
    "            # actions and centroids at once.\n",
    "            # \"None\" in indexing adds a new dimension that allows the broadcasting\n",
    "            distances = np.sum((action_vectors - action_centroids[:, None]) ** 2, axis=2)\n",
    "            # Get the index of the closest centroid to each action.\n",
    "            # This is an array of (batch_size,)\n",
    "            actions = np.argmin(distances, axis=0)\n",
    "\n",
    "            # Obtain logits of each action\n",
    "            logits = network(th.from_numpy(obs).float().to(dev))\n",
    "\n",
    "            # Minimize cross-entropy with target labels.\n",
    "            # We could also compute the probability of demonstration actions and\n",
    "            # maximize them.\n",
    "            loss = loss_function(logits, th.from_numpy(actions).long().to(dev))\n",
    "\n",
    "            # Standard PyTorch update\n",
    "            optimizer.zero_grad()\n",
    "            loss.backward()\n",
    "            optimizer.step()\n",
    "\n",
    "            update_count += 1\n",
    "            losses.append(loss.item())\n",
    "            if (update_count % 1000) == 0:\n",
    "                mean_loss = sum(losses) / len(losses)\n",
    "                tqdm.write(\"Iteration {}. Loss {:<10.3f}\".format(update_count, mean_loss))\n",
    "                losses.clear()\n",
    "    print(\"Training done\")\n",
    "\n",
    "    # Save network and the centroids into separate files\n",
    "    np.save(TRAIN_KMEANS_MODEL_NAME, action_centroids)\n",
    "    th.save(network.state_dict(), TRAIN_MODEL_NAME)\n",
    "    del data\n",
    "\n",
    "   "
   ]
  },
  {
   "cell_type": "markdown",
   "metadata": {
    "id": "fg68dO21ZsgG"
   },
   "source": [
    "# Parameters"
   ]
  },
  {
   "cell_type": "code",
   "execution_count": 9,
   "metadata": {
    "execution": {
     "iopub.execute_input": "2021-09-07T07:27:19.491152Z",
     "iopub.status.busy": "2021-09-07T07:27:19.490725Z",
     "iopub.status.idle": "2021-09-07T07:27:19.501665Z",
     "shell.execute_reply": "2021-09-07T07:27:19.500612Z",
     "shell.execute_reply.started": "2021-09-07T07:27:19.491115Z"
    },
    "id": "O5VCVeHyqDlm"
   },
   "outputs": [],
   "source": [
    "# Parameters:\n",
    "EPOCHS = 4  # how many times we train over dataset.\n",
    "LEARNING_RATE = 0.0001  # Learning rate for the neural network.\n",
    "BATCH_SIZE = 32\n",
    "NUM_ACTION_CENTROIDS = 100  # Number of KMeans centroids used to cluster the data.\n",
    "\n",
    "DATA_SAMPLES = 400000  # how many samples to use from the dataset. Impacts RAM usage\n",
    "\n",
    "TRAIN_MODEL_NAME = 'research_potato.pth'  # name to use when saving the trained agent.\n",
    "TEST_MODEL_NAME = 'research_potato.pth'  # name to use when loading the trained agent.\n",
    "TRAIN_KMEANS_MODEL_NAME = 'centroids_for_research_potato.npy'  # name to use when saving the KMeans model.\n",
    "TEST_KMEANS_MODEL_NAME = 'centroids_for_research_potato.npy'  # name to use when loading the KMeans model.\n",
    "\n",
    "TEST_EPISODES = 10  # number of episodes to test the agent for.\n",
    "MAX_TEST_EPISODE_LEN = 2000  # 18k is the default for MineRLObtainDiamondVectorObf.\n",
    "BYPASS_FILTER = False"
   ]
  },
  {
   "cell_type": "markdown",
   "metadata": {
    "id": "lumAopy0cHBM"
   },
   "source": [
    "# Download the data"
   ]
  },
  {
   "cell_type": "code",
   "execution_count": 10,
   "metadata": {
    "execution": {
     "iopub.execute_input": "2021-09-07T07:27:19.504128Z",
     "iopub.status.busy": "2021-09-07T07:27:19.503772Z",
     "iopub.status.idle": "2021-09-07T07:27:55.040998Z",
     "shell.execute_reply": "2021-09-07T07:27:55.039930Z",
     "shell.execute_reply.started": "2021-09-07T07:27:19.504101Z"
    },
    "id": "NzD13IclpD4T",
    "outputId": "fa9f2fb8-8571-4f9b-951f-383e8ca8389d"
   },
   "outputs": [],
   "source": [
    "# uncomment to download \n",
    "#minerl.data.download(directory='data', experiment='MineRLTreechopVectorObf-v0');"
   ]
  },
  {
   "cell_type": "markdown",
   "metadata": {
    "id": "0zKLHW_JcRBJ"
   },
   "source": [
    "# Train"
   ]
  },
  {
   "cell_type": "code",
   "execution_count": 11,
   "metadata": {
    "execution": {
     "iopub.execute_input": "2021-09-07T07:27:55.671030Z",
     "iopub.status.busy": "2021-09-07T07:27:55.670626Z",
     "iopub.status.idle": "2021-09-07T07:34:27.602796Z",
     "shell.execute_reply": "2021-09-07T07:34:27.601821Z",
     "shell.execute_reply.started": "2021-09-07T07:27:55.670954Z"
    },
    "id": "IH84zVpiB19e",
    "outputId": "bd4b67b5-672b-4a21-e9ed-5cc6288e5a87"
   },
   "outputs": [
    {
     "name": "stdout",
     "output_type": "stream",
     "text": [
      "Loading data\n"
     ]
    },
    {
     "name": "stderr",
     "output_type": "stream",
     "text": [
      "100%|███████████████████████████████████████████████████████████████████████████████████████| 1803/1803 [00:00<00:00, 183151.61it/s]\n",
      "100%|███████████████████████████████████████████████████████████████████████████████████████| 1608/1608 [00:00<00:00, 118725.52it/s]\n",
      "100%|███████████████████████████████████████████████████████████████████████████████████████| 3250/3250 [00:00<00:00, 187304.89it/s]\n",
      "100%|███████████████████████████████████████████████████████████████████████████████████████| 1761/1761 [00:00<00:00, 123607.55it/s]\n",
      "100%|███████████████████████████████████████████████████████████████████████████████████████| 2586/2586 [00:00<00:00, 187386.11it/s]\n",
      "100%|███████████████████████████████████████████████████████████████████████████████████████| 2556/2556 [00:00<00:00, 187051.00it/s]\n",
      "100%|███████████████████████████████████████████████████████████████████████████████████████| 2194/2194 [00:00<00:00, 125503.63it/s]\n",
      "100%|███████████████████████████████████████████████████████████████████████████████████████| 2013/2013 [00:00<00:00, 164046.28it/s]\n",
      "100%|███████████████████████████████████████████████████████████████████████████████████████| 1950/1950 [00:00<00:00, 169626.75it/s]\n",
      "100%|████████████████████████████████████████████████████████████████████████████████████████| 1963/1963 [00:00<00:00, 73015.90it/s]Process ForkPoolWorker-1:\n",
      "  File \"/usr/lib/python3.9/multiprocessing/connection.py\", line 384, in _recv\n",
      "    chunk = read(handle, remaining)\n",
      "Traceback (most recent call last):\n",
      "  File \"/usr/lib/python3.9/multiprocessing/process.py\", line 315, in _bootstrap\n",
      "    self.run()\n",
      "  File \"/usr/lib/python3.9/multiprocessing/process.py\", line 108, in run\n",
      "    self._target(*self._args, **self._kwargs)\n",
      "  File \"/usr/lib/python3.9/multiprocessing/pool.py\", line 114, in worker\n",
      "    task = get()\n",
      "  File \"/usr/lib/python3.9/multiprocessing/queues.py\", line 366, in get\n",
      "    res = self._reader.recv_bytes()\n",
      "  File \"/usr/lib/python3.9/multiprocessing/connection.py\", line 221, in recv_bytes\n",
      "    buf = self._recv_bytes(maxlength)\n",
      "  File \"/usr/lib/python3.9/multiprocessing/connection.py\", line 419, in _recv_bytes\n",
      "    buf = self._recv(4)\n",
      "KeyboardInterrupt\n",
      "\n"
     ]
    },
    {
     "ename": "KeyboardInterrupt",
     "evalue": "",
     "output_type": "error",
     "traceback": [
      "\u001b[0;31m---------------------------------------------------------------------------\u001b[0m",
      "\u001b[0;31mKeyboardInterrupt\u001b[0m                         Traceback (most recent call last)",
      "\u001b[0;32m/tmp/ipykernel_150673/254864054.py\u001b[0m in \u001b[0;36m<module>\u001b[0;34m\u001b[0m\n\u001b[0;32m----> 1\u001b[0;31m \u001b[0mtrain\u001b[0m\u001b[0;34m(\u001b[0m\u001b[0;34m)\u001b[0m  \u001b[0;31m# only need to run this once.\u001b[0m\u001b[0;34m\u001b[0m\u001b[0;34m\u001b[0m\u001b[0m\n\u001b[0m",
      "\u001b[0;32m/tmp/ipykernel_150673/2880004873.py\u001b[0m in \u001b[0;36mtrain\u001b[0;34m()\u001b[0m\n\u001b[1;32m     25\u001b[0m         \u001b[0mtrajectory\u001b[0m \u001b[0;34m=\u001b[0m \u001b[0mdata\u001b[0m\u001b[0;34m.\u001b[0m\u001b[0mload_data\u001b[0m\u001b[0;34m(\u001b[0m\u001b[0mtrajectory_name\u001b[0m\u001b[0;34m,\u001b[0m \u001b[0mskip_interval\u001b[0m\u001b[0;34m=\u001b[0m\u001b[0;36m0\u001b[0m\u001b[0;34m,\u001b[0m \u001b[0minclude_metadata\u001b[0m\u001b[0;34m=\u001b[0m\u001b[0;32mFalse\u001b[0m\u001b[0;34m)\u001b[0m\u001b[0;34m\u001b[0m\u001b[0;34m\u001b[0m\u001b[0m\n\u001b[1;32m     26\u001b[0m \u001b[0;34m\u001b[0m\u001b[0m\n\u001b[0;32m---> 27\u001b[0;31m         \u001b[0;32mfor\u001b[0m \u001b[0mdataset_observation\u001b[0m\u001b[0;34m,\u001b[0m \u001b[0mdataset_action\u001b[0m\u001b[0;34m,\u001b[0m \u001b[0mdataset_reward\u001b[0m\u001b[0;34m,\u001b[0m \u001b[0m_\u001b[0m\u001b[0;34m,\u001b[0m \u001b[0m_\u001b[0m \u001b[0;32min\u001b[0m \u001b[0mtrajectory\u001b[0m\u001b[0;34m:\u001b[0m\u001b[0;34m\u001b[0m\u001b[0;34m\u001b[0m\u001b[0m\n\u001b[0m\u001b[1;32m     28\u001b[0m             \u001b[0mall_actions\u001b[0m\u001b[0;34m.\u001b[0m\u001b[0mappend\u001b[0m\u001b[0;34m(\u001b[0m\u001b[0mdataset_action\u001b[0m\u001b[0;34m[\u001b[0m\u001b[0;34m\"vector\"\u001b[0m\u001b[0;34m]\u001b[0m\u001b[0;34m)\u001b[0m\u001b[0;34m\u001b[0m\u001b[0;34m\u001b[0m\u001b[0m\n\u001b[1;32m     29\u001b[0m             \u001b[0mall_pov_obs\u001b[0m\u001b[0;34m.\u001b[0m\u001b[0mappend\u001b[0m\u001b[0;34m(\u001b[0m\u001b[0mdataset_observation\u001b[0m\u001b[0;34m[\u001b[0m\u001b[0;34m\"pov\"\u001b[0m\u001b[0;34m]\u001b[0m\u001b[0;34m)\u001b[0m\u001b[0;34m\u001b[0m\u001b[0;34m\u001b[0m\u001b[0m\n",
      "\u001b[0;32m~/gits/Minecraft72/venv/lib/python3.9/site-packages/minerl/data/data_pipeline.py\u001b[0m in \u001b[0;36mload_data\u001b[0;34m(self, stream_name, skip_interval, include_metadata)\u001b[0m\n\u001b[1;32m    119\u001b[0m             \u001b[0;32mraise\u001b[0m \u001b[0mRuntimeError\u001b[0m\u001b[0;34m(\u001b[0m\u001b[0;34m\"This stream is corrupted (and will be removed in the next version of the data!)\"\u001b[0m\u001b[0;34m)\u001b[0m\u001b[0;34m\u001b[0m\u001b[0;34m\u001b[0m\u001b[0m\n\u001b[1;32m    120\u001b[0m \u001b[0;34m\u001b[0m\u001b[0m\n\u001b[0;32m--> 121\u001b[0;31m         seq = DataPipeline._load_data_pyfunc(file_dir, -1, None, self.environment, skip_interval=skip_interval,\n\u001b[0m\u001b[1;32m    122\u001b[0m                                              include_metadata=include_metadata)\n\u001b[1;32m    123\u001b[0m         \u001b[0;32mif\u001b[0m \u001b[0minclude_metadata\u001b[0m\u001b[0;34m:\u001b[0m\u001b[0;34m\u001b[0m\u001b[0;34m\u001b[0m\u001b[0m\n",
      "\u001b[0;32m~/gits/Minecraft72/venv/lib/python3.9/site-packages/minerl/data/data_pipeline.py\u001b[0m in \u001b[0;36m_load_data_pyfunc\u001b[0;34m(file_dir, max_seq_len, data_queue, env_str, skip_interval, include_metadata)\u001b[0m\n\u001b[1;32m    274\u001b[0m                     \u001b[0;31m# Go until max_seq_len +1 for S_t, A_t,  -> R_t, S_{t+1}, D_{t+1}\u001b[0m\u001b[0;34m\u001b[0m\u001b[0;34m\u001b[0m\u001b[0;34m\u001b[0m\u001b[0m\n\u001b[1;32m    275\u001b[0m                     \u001b[0;32mwhile\u001b[0m \u001b[0mret\u001b[0m \u001b[0;32mand\u001b[0m \u001b[0mframe_num\u001b[0m \u001b[0;34m<\u001b[0m \u001b[0mmax_frame_num\u001b[0m \u001b[0;32mand\u001b[0m \u001b[0;34m(\u001b[0m\u001b[0mlen\u001b[0m\u001b[0;34m(\u001b[0m\u001b[0mframes\u001b[0m\u001b[0;34m)\u001b[0m \u001b[0;34m<\u001b[0m \u001b[0mmax_seq_len\u001b[0m \u001b[0;34m+\u001b[0m \u001b[0;36m1\u001b[0m \u001b[0;32mor\u001b[0m \u001b[0mmax_seq_len\u001b[0m \u001b[0;34m==\u001b[0m \u001b[0;34m-\u001b[0m\u001b[0;36m1\u001b[0m\u001b[0;34m)\u001b[0m\u001b[0;34m:\u001b[0m\u001b[0;34m\u001b[0m\u001b[0;34m\u001b[0m\u001b[0m\n\u001b[0;32m--> 276\u001b[0;31m                         \u001b[0mret\u001b[0m\u001b[0;34m,\u001b[0m \u001b[0mframe\u001b[0m \u001b[0;34m=\u001b[0m \u001b[0mDataPipeline\u001b[0m\u001b[0;34m.\u001b[0m\u001b[0mread_frame\u001b[0m\u001b[0;34m(\u001b[0m\u001b[0mcap\u001b[0m\u001b[0;34m)\u001b[0m\u001b[0;34m\u001b[0m\u001b[0;34m\u001b[0m\u001b[0m\n\u001b[0m\u001b[1;32m    277\u001b[0m                         \u001b[0mframes\u001b[0m\u001b[0;34m.\u001b[0m\u001b[0mappend\u001b[0m\u001b[0;34m(\u001b[0m\u001b[0mframe\u001b[0m\u001b[0;34m)\u001b[0m\u001b[0;34m\u001b[0m\u001b[0;34m\u001b[0m\u001b[0m\n\u001b[1;32m    278\u001b[0m                         \u001b[0mframe_num\u001b[0m \u001b[0;34m+=\u001b[0m \u001b[0;36m1\u001b[0m\u001b[0;34m\u001b[0m\u001b[0;34m\u001b[0m\u001b[0m\n",
      "\u001b[0;32m~/gits/Minecraft72/venv/lib/python3.9/site-packages/minerl/data/data_pipeline.py\u001b[0m in \u001b[0;36mread_frame\u001b[0;34m(cap)\u001b[0m\n\u001b[1;32m    160\u001b[0m     \u001b[0;32mdef\u001b[0m \u001b[0mread_frame\u001b[0m\u001b[0;34m(\u001b[0m\u001b[0mcap\u001b[0m\u001b[0;34m)\u001b[0m\u001b[0;34m:\u001b[0m\u001b[0;34m\u001b[0m\u001b[0;34m\u001b[0m\u001b[0m\n\u001b[1;32m    161\u001b[0m         \u001b[0;32mtry\u001b[0m\u001b[0;34m:\u001b[0m\u001b[0;34m\u001b[0m\u001b[0;34m\u001b[0m\u001b[0m\n\u001b[0;32m--> 162\u001b[0;31m             \u001b[0mret\u001b[0m\u001b[0;34m,\u001b[0m \u001b[0mframe\u001b[0m \u001b[0;34m=\u001b[0m \u001b[0mcap\u001b[0m\u001b[0;34m.\u001b[0m\u001b[0mread\u001b[0m\u001b[0;34m(\u001b[0m\u001b[0;34m)\u001b[0m\u001b[0;34m\u001b[0m\u001b[0;34m\u001b[0m\u001b[0m\n\u001b[0m\u001b[1;32m    163\u001b[0m             \u001b[0;32mif\u001b[0m \u001b[0mret\u001b[0m\u001b[0;34m:\u001b[0m\u001b[0;34m\u001b[0m\u001b[0;34m\u001b[0m\u001b[0m\n\u001b[1;32m    164\u001b[0m                 \u001b[0mcv2\u001b[0m\u001b[0;34m.\u001b[0m\u001b[0mcvtColor\u001b[0m\u001b[0;34m(\u001b[0m\u001b[0mframe\u001b[0m\u001b[0;34m,\u001b[0m \u001b[0mcode\u001b[0m\u001b[0;34m=\u001b[0m\u001b[0mcv2\u001b[0m\u001b[0;34m.\u001b[0m\u001b[0mCOLOR_BGR2RGB\u001b[0m\u001b[0;34m,\u001b[0m \u001b[0mdst\u001b[0m\u001b[0;34m=\u001b[0m\u001b[0mframe\u001b[0m\u001b[0;34m)\u001b[0m\u001b[0;34m\u001b[0m\u001b[0;34m\u001b[0m\u001b[0m\n",
      "\u001b[0;31mKeyboardInterrupt\u001b[0m: "
     ]
    },
    {
     "name": "stderr",
     "output_type": "stream",
     "text": [
      "Process ForkPoolWorker-2:\n",
      "Traceback (most recent call last):\n",
      "  File \"/usr/lib/python3.9/multiprocessing/process.py\", line 315, in _bootstrap\n",
      "    self.run()\n",
      "  File \"/usr/lib/python3.9/multiprocessing/process.py\", line 108, in run\n",
      "    self._target(*self._args, **self._kwargs)\n",
      "  File \"/usr/lib/python3.9/multiprocessing/pool.py\", line 114, in worker\n",
      "    task = get()\n",
      "  File \"/usr/lib/python3.9/multiprocessing/queues.py\", line 366, in get\n",
      "    res = self._reader.recv_bytes()\n",
      "  File \"/usr/lib/python3.9/multiprocessing/connection.py\", line 221, in recv_bytes\n",
      "    buf = self._recv_bytes(maxlength)\n",
      "  File \"/usr/lib/python3.9/multiprocessing/connection.py\", line 419, in _recv_bytes\n",
      "    buf = self._recv(4)\n",
      "  File \"/usr/lib/python3.9/multiprocessing/connection.py\", line 384, in _recv\n",
      "    chunk = read(handle, remaining)\n",
      "KeyboardInterrupt\n"
     ]
    }
   ],
   "source": [
    "train()  # only need to run this once."
   ]
  },
  {
   "cell_type": "markdown",
   "metadata": {
    "id": "5_6j2-ibcxZh"
   },
   "source": [
    "# Start Minecraft"
   ]
  },
  {
   "cell_type": "code",
   "execution_count": 12,
   "metadata": {
    "execution": {
     "iopub.execute_input": "2021-09-07T07:34:27.605056Z",
     "iopub.status.busy": "2021-09-07T07:34:27.604661Z",
     "iopub.status.idle": "2021-09-07T07:36:14.029158Z",
     "shell.execute_reply": "2021-09-07T07:36:14.027807Z",
     "shell.execute_reply.started": "2021-09-07T07:34:27.605013Z"
    },
    "id": "ja8WN5rgc3Ex"
   },
   "outputs": [],
   "source": [
    "env = gym.make('MineRLTreechopVectorObf-v0')\n",
    "env = Recorder(env, './video', fps=24)"
   ]
  },
  {
   "cell_type": "markdown",
   "metadata": {
    "id": "NjKpJgZicn6L"
   },
   "source": [
    "# Run your agent\n",
    "As the code below runs you should see episode videos and rewards show up. You can run the below cell multiple times to see different episodes."
   ]
  },
  {
   "cell_type": "code",
   "execution_count": 17,
   "metadata": {
    "execution": {
     "iopub.execute_input": "2021-09-07T07:36:14.036754Z",
     "iopub.status.busy": "2021-09-07T07:36:14.034446Z"
    },
    "id": "yQeH2QgcjpK9",
    "outputId": "001cc31a-ad56-469c-86ec-6c4a60934d1e"
   },
   "outputs": [
    {
     "name": "stderr",
     "output_type": "stream",
     "text": [
      "\r",
      "  0%|                                                                                                        | 0/15 [00:00<?, ?it/s]"
     ]
    },
    {
     "name": "stdout",
     "output_type": "stream",
     "text": [
      "[ 0  1  2  3  4  5  6  7  8  9 10 11 12 13 14 15 16 17 18 19 20 21 22 23\n",
      " 24 25 26 27 28 29 30 31 32 33 34 35 36 37 38 39 40 41 42 43 44 45 46 47\n",
      " 48 49 50 51 52 53 54 55 56 57 58 59 60 61 62 63 64 65 66 67 68 69 70 71\n",
      " 72 73 74 75 76 77 78 79 80 81 82 83 84 85 86 87 88 89 90 91 92 93 94 95\n",
      " 96 97 98 99]\n"
     ]
    },
    {
     "name": "stderr",
     "output_type": "stream",
     "text": [
      "  0%|                                                                                                        | 0/15 [04:00<?, ?it/s]\n"
     ]
    },
    {
     "ename": "timeout",
     "evalue": "timed out",
     "output_type": "error",
     "traceback": [
      "\u001b[0;31m---------------------------------------------------------------------------\u001b[0m",
      "\u001b[0;31mtimeout\u001b[0m                                   Traceback (most recent call last)",
      "\u001b[0;32m/tmp/ipykernel_150673/3663956132.py\u001b[0m in \u001b[0;36m<module>\u001b[0;34m\u001b[0m\n\u001b[1;32m     11\u001b[0m \u001b[0;34m\u001b[0m\u001b[0m\n\u001b[1;32m     12\u001b[0m \u001b[0;32mfor\u001b[0m \u001b[0mepisode\u001b[0m \u001b[0;32min\u001b[0m \u001b[0mtrange\u001b[0m\u001b[0;34m(\u001b[0m\u001b[0;36m15\u001b[0m\u001b[0;34m)\u001b[0m\u001b[0;34m:\u001b[0m\u001b[0;34m\u001b[0m\u001b[0;34m\u001b[0m\u001b[0m\n\u001b[0;32m---> 13\u001b[0;31m     \u001b[0mobs\u001b[0m \u001b[0;34m=\u001b[0m \u001b[0menv\u001b[0m\u001b[0;34m.\u001b[0m\u001b[0mreset\u001b[0m\u001b[0;34m(\u001b[0m\u001b[0;34m)\u001b[0m\u001b[0;34m\u001b[0m\u001b[0;34m\u001b[0m\u001b[0m\n\u001b[0m\u001b[1;32m     14\u001b[0m     \u001b[0mdone\u001b[0m \u001b[0;34m=\u001b[0m \u001b[0;32mFalse\u001b[0m\u001b[0;34m\u001b[0m\u001b[0;34m\u001b[0m\u001b[0m\n\u001b[1;32m     15\u001b[0m     \u001b[0mtotal_reward\u001b[0m \u001b[0;34m=\u001b[0m \u001b[0;36m0\u001b[0m\u001b[0;34m\u001b[0m\u001b[0;34m\u001b[0m\u001b[0m\n",
      "\u001b[0;32m~/gits/Minecraft72/venv/lib/python3.9/site-packages/colabgymrender/recorder.py\u001b[0m in \u001b[0;36mreset\u001b[0;34m(self)\u001b[0m\n\u001b[1;32m     52\u001b[0m \u001b[0;34m\u001b[0m\u001b[0m\n\u001b[1;32m     53\u001b[0m     \u001b[0;32mdef\u001b[0m \u001b[0mreset\u001b[0m\u001b[0;34m(\u001b[0m\u001b[0mself\u001b[0m\u001b[0;34m)\u001b[0m\u001b[0;34m:\u001b[0m\u001b[0;34m\u001b[0m\u001b[0;34m\u001b[0m\u001b[0m\n\u001b[0;32m---> 54\u001b[0;31m         \u001b[0mobservation\u001b[0m \u001b[0;34m=\u001b[0m \u001b[0mself\u001b[0m\u001b[0;34m.\u001b[0m\u001b[0menv\u001b[0m\u001b[0;34m.\u001b[0m\u001b[0mreset\u001b[0m\u001b[0;34m(\u001b[0m\u001b[0;34m)\u001b[0m\u001b[0;34m\u001b[0m\u001b[0;34m\u001b[0m\u001b[0m\n\u001b[0m\u001b[1;32m     55\u001b[0m         \u001b[0mself\u001b[0m\u001b[0;34m.\u001b[0m\u001b[0m_start\u001b[0m\u001b[0;34m(\u001b[0m\u001b[0;34m)\u001b[0m\u001b[0;34m\u001b[0m\u001b[0;34m\u001b[0m\u001b[0m\n\u001b[1;32m     56\u001b[0m         \u001b[0mself\u001b[0m\u001b[0;34m.\u001b[0m\u001b[0m_write\u001b[0m\u001b[0;34m(\u001b[0m\u001b[0;34m)\u001b[0m\u001b[0;34m\u001b[0m\u001b[0;34m\u001b[0m\u001b[0m\n",
      "\u001b[0;32m~/gits/Minecraft72/venv/lib/python3.9/site-packages/gym/wrappers/time_limit.py\u001b[0m in \u001b[0;36mreset\u001b[0;34m(self, **kwargs)\u001b[0m\n\u001b[1;32m     23\u001b[0m     \u001b[0;32mdef\u001b[0m \u001b[0mreset\u001b[0m\u001b[0;34m(\u001b[0m\u001b[0mself\u001b[0m\u001b[0;34m,\u001b[0m \u001b[0;34m**\u001b[0m\u001b[0mkwargs\u001b[0m\u001b[0;34m)\u001b[0m\u001b[0;34m:\u001b[0m\u001b[0;34m\u001b[0m\u001b[0;34m\u001b[0m\u001b[0m\n\u001b[1;32m     24\u001b[0m         \u001b[0mself\u001b[0m\u001b[0;34m.\u001b[0m\u001b[0m_elapsed_steps\u001b[0m \u001b[0;34m=\u001b[0m \u001b[0;36m0\u001b[0m\u001b[0;34m\u001b[0m\u001b[0;34m\u001b[0m\u001b[0m\n\u001b[0;32m---> 25\u001b[0;31m         \u001b[0;32mreturn\u001b[0m \u001b[0mself\u001b[0m\u001b[0;34m.\u001b[0m\u001b[0menv\u001b[0m\u001b[0;34m.\u001b[0m\u001b[0mreset\u001b[0m\u001b[0;34m(\u001b[0m\u001b[0;34m**\u001b[0m\u001b[0mkwargs\u001b[0m\u001b[0;34m)\u001b[0m\u001b[0;34m\u001b[0m\u001b[0;34m\u001b[0m\u001b[0m\n\u001b[0m",
      "\u001b[0;32m~/gits/Minecraft72/venv/lib/python3.9/site-packages/minerl/env/core.py\u001b[0m in \u001b[0;36mreset\u001b[0;34m(self)\u001b[0m\n\u001b[1;32m    480\u001b[0m \u001b[0;34m\u001b[0m\u001b[0m\n\u001b[1;32m    481\u001b[0m             \u001b[0;32mwhile\u001b[0m \u001b[0;32mnot\u001b[0m \u001b[0mself\u001b[0m\u001b[0;34m.\u001b[0m\u001b[0mdone\u001b[0m\u001b[0;34m:\u001b[0m\u001b[0;34m\u001b[0m\u001b[0;34m\u001b[0m\u001b[0m\n\u001b[0;32m--> 482\u001b[0;31m                 \u001b[0mself\u001b[0m\u001b[0;34m.\u001b[0m\u001b[0mdone\u001b[0m \u001b[0;34m=\u001b[0m \u001b[0mself\u001b[0m\u001b[0;34m.\u001b[0m\u001b[0m_quit_episode\u001b[0m\u001b[0;34m(\u001b[0m\u001b[0;34m)\u001b[0m\u001b[0;34m\u001b[0m\u001b[0;34m\u001b[0m\u001b[0m\n\u001b[0m\u001b[1;32m    483\u001b[0m \u001b[0;34m\u001b[0m\u001b[0m\n\u001b[1;32m    484\u001b[0m                 \u001b[0;32mif\u001b[0m \u001b[0;32mnot\u001b[0m \u001b[0mself\u001b[0m\u001b[0;34m.\u001b[0m\u001b[0mdone\u001b[0m\u001b[0;34m:\u001b[0m\u001b[0;34m\u001b[0m\u001b[0;34m\u001b[0m\u001b[0m\n",
      "\u001b[0;32m~/gits/Minecraft72/venv/lib/python3.9/site-packages/minerl/env/core.py\u001b[0m in \u001b[0;36m_quit_episode\u001b[0;34m(self)\u001b[0m\n\u001b[1;32m    581\u001b[0m     \u001b[0;32mdef\u001b[0m \u001b[0m_quit_episode\u001b[0m\u001b[0;34m(\u001b[0m\u001b[0mself\u001b[0m\u001b[0;34m)\u001b[0m\u001b[0;34m:\u001b[0m\u001b[0;34m\u001b[0m\u001b[0;34m\u001b[0m\u001b[0m\n\u001b[1;32m    582\u001b[0m         \u001b[0mcomms\u001b[0m\u001b[0;34m.\u001b[0m\u001b[0msend_message\u001b[0m\u001b[0;34m(\u001b[0m\u001b[0mself\u001b[0m\u001b[0;34m.\u001b[0m\u001b[0mclient_socket\u001b[0m\u001b[0;34m,\u001b[0m \u001b[0;34m\"<Quit/>\"\u001b[0m\u001b[0;34m.\u001b[0m\u001b[0mencode\u001b[0m\u001b[0;34m(\u001b[0m\u001b[0;34m)\u001b[0m\u001b[0;34m)\u001b[0m\u001b[0;34m\u001b[0m\u001b[0;34m\u001b[0m\u001b[0m\n\u001b[0;32m--> 583\u001b[0;31m         \u001b[0mreply\u001b[0m \u001b[0;34m=\u001b[0m \u001b[0mcomms\u001b[0m\u001b[0;34m.\u001b[0m\u001b[0mrecv_message\u001b[0m\u001b[0;34m(\u001b[0m\u001b[0mself\u001b[0m\u001b[0;34m.\u001b[0m\u001b[0mclient_socket\u001b[0m\u001b[0;34m)\u001b[0m\u001b[0;34m\u001b[0m\u001b[0;34m\u001b[0m\u001b[0m\n\u001b[0m\u001b[1;32m    584\u001b[0m         \u001b[0mok\u001b[0m\u001b[0;34m,\u001b[0m \u001b[0;34m=\u001b[0m \u001b[0mstruct\u001b[0m\u001b[0;34m.\u001b[0m\u001b[0munpack\u001b[0m\u001b[0;34m(\u001b[0m\u001b[0;34m'!I'\u001b[0m\u001b[0;34m,\u001b[0m \u001b[0mreply\u001b[0m\u001b[0;34m)\u001b[0m\u001b[0;34m\u001b[0m\u001b[0;34m\u001b[0m\u001b[0m\n\u001b[1;32m    585\u001b[0m         \u001b[0;32mreturn\u001b[0m \u001b[0mok\u001b[0m \u001b[0;34m!=\u001b[0m \u001b[0;36m0\u001b[0m\u001b[0;34m\u001b[0m\u001b[0;34m\u001b[0m\u001b[0m\n",
      "\u001b[0;32m~/gits/Minecraft72/venv/lib/python3.9/site-packages/minerl/env/comms.py\u001b[0m in \u001b[0;36mrecv_message\u001b[0;34m(sock)\u001b[0m\n\u001b[1;32m     60\u001b[0m \u001b[0;34m\u001b[0m\u001b[0m\n\u001b[1;32m     61\u001b[0m \u001b[0;32mdef\u001b[0m \u001b[0mrecv_message\u001b[0m\u001b[0;34m(\u001b[0m\u001b[0msock\u001b[0m\u001b[0;34m)\u001b[0m\u001b[0;34m:\u001b[0m\u001b[0;34m\u001b[0m\u001b[0;34m\u001b[0m\u001b[0m\n\u001b[0;32m---> 62\u001b[0;31m     \u001b[0mlengthbuf\u001b[0m \u001b[0;34m=\u001b[0m \u001b[0mrecvall\u001b[0m\u001b[0;34m(\u001b[0m\u001b[0msock\u001b[0m\u001b[0;34m,\u001b[0m \u001b[0;36m4\u001b[0m\u001b[0;34m)\u001b[0m\u001b[0;34m\u001b[0m\u001b[0;34m\u001b[0m\u001b[0m\n\u001b[0m\u001b[1;32m     63\u001b[0m     \u001b[0;32mif\u001b[0m \u001b[0;32mnot\u001b[0m \u001b[0mlengthbuf\u001b[0m\u001b[0;34m:\u001b[0m\u001b[0;34m\u001b[0m\u001b[0;34m\u001b[0m\u001b[0m\n\u001b[1;32m     64\u001b[0m         \u001b[0;32mreturn\u001b[0m \u001b[0;32mNone\u001b[0m\u001b[0;34m\u001b[0m\u001b[0;34m\u001b[0m\u001b[0m\n",
      "\u001b[0;32m~/gits/Minecraft72/venv/lib/python3.9/site-packages/minerl/env/comms.py\u001b[0m in \u001b[0;36mrecvall\u001b[0;34m(sock, count)\u001b[0m\n\u001b[1;32m     70\u001b[0m     \u001b[0mbuf\u001b[0m \u001b[0;34m=\u001b[0m \u001b[0;34mb''\u001b[0m\u001b[0;34m\u001b[0m\u001b[0;34m\u001b[0m\u001b[0m\n\u001b[1;32m     71\u001b[0m     \u001b[0;32mwhile\u001b[0m \u001b[0mcount\u001b[0m\u001b[0;34m:\u001b[0m\u001b[0;34m\u001b[0m\u001b[0;34m\u001b[0m\u001b[0m\n\u001b[0;32m---> 72\u001b[0;31m         \u001b[0mnewbuf\u001b[0m \u001b[0;34m=\u001b[0m \u001b[0msock\u001b[0m\u001b[0;34m.\u001b[0m\u001b[0mrecv\u001b[0m\u001b[0;34m(\u001b[0m\u001b[0mcount\u001b[0m\u001b[0;34m)\u001b[0m\u001b[0;34m\u001b[0m\u001b[0;34m\u001b[0m\u001b[0m\n\u001b[0m\u001b[1;32m     73\u001b[0m         \u001b[0;32mif\u001b[0m \u001b[0;32mnot\u001b[0m \u001b[0mnewbuf\u001b[0m\u001b[0;34m:\u001b[0m\u001b[0;34m\u001b[0m\u001b[0;34m\u001b[0m\u001b[0m\n\u001b[1;32m     74\u001b[0m             \u001b[0;32mreturn\u001b[0m \u001b[0;32mNone\u001b[0m\u001b[0;34m\u001b[0m\u001b[0;34m\u001b[0m\u001b[0m\n",
      "\u001b[0;31mtimeout\u001b[0m: timed out"
     ]
    }
   ],
   "source": [
    "from tqdm import trange\n",
    "action_centroids = np.load(TEST_KMEANS_MODEL_NAME)\n",
    "network = NatureCNN((3, 64, 64), NUM_ACTION_CENTROIDS).to(dev)\n",
    "network.load_state_dict(th.load(TEST_MODEL_NAME))\n",
    "\n",
    "\n",
    "num_actions = action_centroids.shape[0]\n",
    "action_list = np.arange(num_actions)\n",
    "\n",
    "print(action_list)\n",
    "\n",
    "for episode in trange(15):\n",
    "    obs = env.reset()\n",
    "    done = False\n",
    "    total_reward = 0\n",
    "    steps = 0\n",
    "\n",
    "    while not done:\n",
    "        # Process the action:\n",
    "        #   - Add/remove batch dimensions\n",
    "        #   - Transpose image (needs to be channels-last)\n",
    "        #   - Normalize image\n",
    "        obs = th.from_numpy(obs['pov'].transpose(2, 0, 1)[None].astype(np.float32) / 255).to(dev)\n",
    "        # Turn logits into probabilities\n",
    "        probabilities = th.softmax(network(obs), dim=1)[0]\n",
    "        # Into numpy\n",
    "        probabilities = probabilities.detach().cpu().numpy()\n",
    "        # Sample action according to the probabilities\n",
    "        discrete_action = np.random.choice(action_list, p=probabilities)\n",
    "\n",
    "        # Map the discrete action to the corresponding action centroid (vector)\n",
    "        action = action_centroids[discrete_action]\n",
    "        minerl_action = {\"vector\": action}\n",
    "\n",
    "        obs, reward, done, info = env.step(minerl_action)\n",
    "        total_reward += reward\n",
    "        steps += 1\n",
    "        if steps >= MAX_TEST_EPISODE_LEN:\n",
    "            break\n",
    "\n",
    "    env.release()\n",
    "    #env.play()\n",
    "    print(f'Episode #{episode + 1} reward: {total_reward}\\t\\t episode length: {steps}\\n')"
   ]
  },
  {
   "cell_type": "code",
   "execution_count": null,
   "metadata": {
    "id": "FDo_NDfLqUJt"
   },
   "outputs": [],
   "source": [
    "! zip -r video1.zip video/\n",
    "from google.colab import files\n",
    "files.download(\"/content/video1.zip\")"
   ]
  },
  {
   "cell_type": "code",
   "execution_count": null,
   "metadata": {
    "id": "0G-1-tghqetm"
   },
   "outputs": [],
   "source": []
  }
 ],
 "metadata": {
  "kernelspec": {
   "display_name": "minecraft21",
   "language": "python",
   "name": "minecraft21"
  },
  "language_info": {
   "codemirror_mode": {
    "name": "ipython",
    "version": 3
   },
   "file_extension": ".py",
   "mimetype": "text/x-python",
   "name": "python",
   "nbconvert_exporter": "python",
   "pygments_lexer": "ipython3",
   "version": "3.9.6"
  }
 },
 "nbformat": 4,
 "nbformat_minor": 4
}
