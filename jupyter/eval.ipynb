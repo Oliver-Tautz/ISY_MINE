{
 "cells": [
  {
   "cell_type": "markdown",
   "metadata": {
    "id": "ADmrUKxvYXGa"
   },
   "source": [
    "# Import Libraries"
   ]
  },
  {
   "cell_type": "code",
   "execution_count": 1,
   "metadata": {
    "execution": {
     "iopub.execute_input": "2021-09-07T07:27:16.163443Z",
     "iopub.status.busy": "2021-09-07T07:27:16.163176Z",
     "iopub.status.idle": "2021-09-07T07:27:19.390272Z",
     "shell.execute_reply": "2021-09-07T07:27:19.389258Z",
     "shell.execute_reply.started": "2021-09-07T07:27:16.163413Z"
    },
    "id": "g8_vZpMFpiD9",
    "outputId": "ef9f81b2-9c50-4ba2-801e-f1562df088a2"
   },
   "outputs": [
    {
     "name": "stderr",
     "output_type": "stream",
     "text": [
      "/home/olli/gits/Minecraft72/venv/lib/python3.9/site-packages/gym/logger.py:34: UserWarning: \u001b[33mWARN: Box bound precision lowered by casting to float32\u001b[0m\n",
      "  warnings.warn(colorize(\"%s: %s\" % (\"WARN\", msg % args), \"yellow\"))\n"
     ]
    }
   ],
   "source": [
    "import random\n",
    "import numpy as np\n",
    "import torch as th\n",
    "from torch import nn\n",
    "import gym\n",
    "import minerl\n",
    "from tqdm.notebook import tqdm\n",
    "from colabgymrender.recorder import Recorder\n",
    "#from pyvirtualdisplay import Display\n",
    "from sklearn.cluster import KMeans\n",
    "import logging\n",
    "logging.disable(logging.ERROR) # reduce clutter, remove if something doesn't work to see the error logs."
   ]
  },
  {
   "cell_type": "code",
   "execution_count": 3,
   "metadata": {},
   "outputs": [],
   "source": [
    "from deploy_baseline import ResearchPotatoWrapper\n",
    "from tqdm import trange\n",
    "import json\n",
    "\n",
    "testdict = {'reward':[12,34,0],'steps':[2000,2000,34]}\n",
    "#json.dump(testdict,open('test.json',\"w\"))\n",
    "#json.load(open('test.json','r'))"
   ]
  },
  {
   "cell_type": "code",
   "execution_count": 6,
   "metadata": {},
   "outputs": [],
   "source": [
    "from os import listdir,makedirs\n",
    "from os.path import join\n",
    "from collections import defaultdict\n",
    "modeldir = 'research_baseline_models'\n",
    "modeldirs = [join(modeldir,d) for d in listdir(modeldir)]\n"
   ]
  },
  {
   "cell_type": "code",
   "execution_count": 7,
   "metadata": {},
   "outputs": [],
   "source": [
    "number_of_episodes = 25\n",
    "episode_len = 2000"
   ]
  },
  {
   "cell_type": "code",
   "execution_count": 8,
   "metadata": {
    "execution": {
     "iopub.execute_input": "2021-09-07T07:36:14.036754Z",
     "iopub.status.busy": "2021-09-07T07:36:14.034446Z"
    },
    "id": "yQeH2QgcjpK9",
    "outputId": "001cc31a-ad56-469c-86ec-6c4a60934d1e"
   },
   "outputs": [],
   "source": [
    "import re\n",
    "def eval(modeldir):\n",
    "    modelname = modeldir.split('/')[1]\n",
    "    \n",
    "    latent_dimension_reg = re.compile(\"latent-pic-dimension=\\d{1}\")\n",
    "    print(modelname)\n",
    "\n",
    "\n",
    "\n",
    "    # not robust, be careful!\n",
    "    latent_dim = latent_dimension_reg.search(modelname)\n",
    "    \n",
    "    if not latent_dim:\n",
    "        print(f\"skipping {modelname}, couldnt parse name!\")\n",
    "        return None\n",
    "        \n",
    "    latent_dim= latent_dim.group(0)\n",
    "    latent_dim = int(latent_dim[-1])\n",
    "    print(latent_dim)\n",
    "    env = gym.make('MineRLTreechopVectorObf-v0')\n",
    "\n",
    "\n",
    "    potato = ResearchPotatoWrapper(modeldir,latent_dim)\n",
    "    \n",
    "    \n",
    "    episode_rewards = defaultdict(lambda: [])\n",
    "    \n",
    "    for episode in trange(number_of_episodes):\n",
    "        makedirs(join('./video',modelname,str(episode)),exist_ok=True)\n",
    "        env = Recorder(env, join('./video',modelname,str(episode)), fps=24)\n",
    "        obs = env.reset()\n",
    "        done = False\n",
    "        total_reward = 0\n",
    "        steps = 0\n",
    "\n",
    "        while not done:\n",
    "     \n",
    "            minerl_action = potato.predict_action(obs)\n",
    "\n",
    "            obs, reward, done, info = env.step(minerl_action)\n",
    "            total_reward += reward\n",
    "            steps += 1\n",
    "            if steps >= episode_len:\n",
    "                break\n",
    "\n",
    "        env.release()\n",
    "        #env.play()\n",
    "        print(f'Episode #{episode + 1} reward: {total_reward}\\t\\t episode length: {steps}\\n')\n",
    "        episode_rewards['reward'].append(total_reward)\n",
    "        episode_rewards['steps'].append(steps)\n",
    "        \n",
    "    env.close()\n",
    "    makedirs(join('rewards'),exist_ok=True)\n",
    "    print(\"Saving rewards\")\n",
    "    json.dump(episode_rewards,open(join('rewards',f'{modelname}_rewards.json'),'w'))\n",
    "    return episode_rewards"
   ]
  },
  {
   "cell_type": "code",
   "execution_count": null,
   "metadata": {},
   "outputs": [
    {
     "name": "stderr",
     "output_type": "stream",
     "text": [
      "\r",
      "  0%|                                                                                                        | 0/25 [00:00<?, ?it/s]"
     ]
    },
    {
     "name": "stdout",
     "output_type": "stream",
     "text": [
      "old\n",
      "skipping old, couldnt parse name!\n",
      "window-before=40_window-after=40_latent-pic-dimension=1_epochs=3\n",
      "1\n"
     ]
    },
    {
     "name": "stderr",
     "output_type": "stream",
     "text": [
      "/home/olli/gits/Minecraft72/venv/lib/python3.9/site-packages/gym/logger.py:34: UserWarning: \u001b[33mWARN: Box bound precision lowered by casting to float32\u001b[0m\n",
      "  warnings.warn(colorize(\"%s: %s\" % (\"WARN\", msg % args), \"yellow\"))\n",
      "/usr/lib/python3.9/runpy.py:127: RuntimeWarning: 'minerl.utils.process_watcher' found in sys.modules after import of package 'minerl.utils', but prior to execution of 'minerl.utils.process_watcher'; this may result in unpredictable behaviour\n",
      "  warn(RuntimeWarning(msg))\n",
      "OpenCV: FFMPEG: tag 0x5634504d/'MP4V' is not supported with codec id 12 and format 'mp4 / MP4 (MPEG-4 Part 14)'\n",
      "OpenCV: FFMPEG: fallback to use tag 0x7634706d/'mp4v'\n",
      "  4%|███▋                                                                                         | 1/25 [04:00<1:36:09, 240.41s/it]"
     ]
    },
    {
     "name": "stdout",
     "output_type": "stream",
     "text": [
      "Episode #1 reward: 3.0\t\t episode length: 2000\n",
      "\n"
     ]
    },
    {
     "name": "stderr",
     "output_type": "stream",
     "text": [
      "OpenCV: FFMPEG: tag 0x5634504d/'MP4V' is not supported with codec id 12 and format 'mp4 / MP4 (MPEG-4 Part 14)'\n",
      "OpenCV: FFMPEG: fallback to use tag 0x7634706d/'mp4v'\n",
      "OpenCV: FFMPEG: tag 0x5634504d/'MP4V' is not supported with codec id 12 and format 'mp4 / MP4 (MPEG-4 Part 14)'\n",
      "OpenCV: FFMPEG: fallback to use tag 0x7634706d/'mp4v'\n",
      "OpenCV: FFMPEG: tag 0x5634504d/'MP4V' is not supported with codec id 12 and format 'mp4 / MP4 (MPEG-4 Part 14)'\n",
      "OpenCV: FFMPEG: fallback to use tag 0x7634706d/'mp4v'\n",
      "  8%|███████▍                                                                                     | 2/25 [06:47<1:15:38, 197.33s/it]"
     ]
    },
    {
     "name": "stdout",
     "output_type": "stream",
     "text": [
      "Episode #2 reward: 9.0\t\t episode length: 2000\n",
      "\n"
     ]
    },
    {
     "name": "stderr",
     "output_type": "stream",
     "text": [
      "OpenCV: FFMPEG: tag 0x5634504d/'MP4V' is not supported with codec id 12 and format 'mp4 / MP4 (MPEG-4 Part 14)'\n",
      "OpenCV: FFMPEG: fallback to use tag 0x7634706d/'mp4v'\n",
      "OpenCV: FFMPEG: tag 0x5634504d/'MP4V' is not supported with codec id 12 and format 'mp4 / MP4 (MPEG-4 Part 14)'\n",
      "OpenCV: FFMPEG: fallback to use tag 0x7634706d/'mp4v'\n",
      "OpenCV: FFMPEG: tag 0x5634504d/'MP4V' is not supported with codec id 12 and format 'mp4 / MP4 (MPEG-4 Part 14)'\n",
      "OpenCV: FFMPEG: fallback to use tag 0x7634706d/'mp4v'\n",
      "OpenCV: FFMPEG: tag 0x5634504d/'MP4V' is not supported with codec id 12 and format 'mp4 / MP4 (MPEG-4 Part 14)'\n",
      "OpenCV: FFMPEG: fallback to use tag 0x7634706d/'mp4v'\n",
      "OpenCV: FFMPEG: tag 0x5634504d/'MP4V' is not supported with codec id 12 and format 'mp4 / MP4 (MPEG-4 Part 14)'\n",
      "OpenCV: FFMPEG: fallback to use tag 0x7634706d/'mp4v'\n",
      " 12%|███████████▏                                                                                 | 3/25 [09:41<1:08:29, 186.79s/it]"
     ]
    },
    {
     "name": "stdout",
     "output_type": "stream",
     "text": [
      "Episode #3 reward: 6.0\t\t episode length: 2000\n",
      "\n"
     ]
    },
    {
     "name": "stderr",
     "output_type": "stream",
     "text": [
      "OpenCV: FFMPEG: tag 0x5634504d/'MP4V' is not supported with codec id 12 and format 'mp4 / MP4 (MPEG-4 Part 14)'\n",
      "OpenCV: FFMPEG: fallback to use tag 0x7634706d/'mp4v'\n",
      "OpenCV: FFMPEG: tag 0x5634504d/'MP4V' is not supported with codec id 12 and format 'mp4 / MP4 (MPEG-4 Part 14)'\n",
      "OpenCV: FFMPEG: fallback to use tag 0x7634706d/'mp4v'\n",
      "OpenCV: FFMPEG: tag 0x5634504d/'MP4V' is not supported with codec id 12 and format 'mp4 / MP4 (MPEG-4 Part 14)'\n",
      "OpenCV: FFMPEG: fallback to use tag 0x7634706d/'mp4v'\n",
      "OpenCV: FFMPEG: tag 0x5634504d/'MP4V' is not supported with codec id 12 and format 'mp4 / MP4 (MPEG-4 Part 14)'\n",
      "OpenCV: FFMPEG: fallback to use tag 0x7634706d/'mp4v'\n",
      "OpenCV: FFMPEG: tag 0x5634504d/'MP4V' is not supported with codec id 12 and format 'mp4 / MP4 (MPEG-4 Part 14)'\n",
      "OpenCV: FFMPEG: fallback to use tag 0x7634706d/'mp4v'\n",
      "OpenCV: FFMPEG: tag 0x5634504d/'MP4V' is not supported with codec id 12 and format 'mp4 / MP4 (MPEG-4 Part 14)'\n",
      "OpenCV: FFMPEG: fallback to use tag 0x7634706d/'mp4v'\n",
      "OpenCV: FFMPEG: tag 0x5634504d/'MP4V' is not supported with codec id 12 and format 'mp4 / MP4 (MPEG-4 Part 14)'\n",
      "OpenCV: FFMPEG: fallback to use tag 0x7634706d/'mp4v'\n"
     ]
    }
   ],
   "source": [
    "for modeldir in modeldirs:\n",
    "    rewards = []\n",
    "    ev = eval(modeldir)\n",
    "    if ev:\n",
    "        rewards.append(ev)\n",
    "    "
   ]
  },
  {
   "cell_type": "code",
   "execution_count": null,
   "metadata": {},
   "outputs": [],
   "source": []
  }
 ],
 "metadata": {
  "kernelspec": {
   "display_name": "minecraft21",
   "language": "python",
   "name": "minecraft21"
  },
  "language_info": {
   "codemirror_mode": {
    "name": "ipython",
    "version": 3
   },
   "file_extension": ".py",
   "mimetype": "text/x-python",
   "name": "python",
   "nbconvert_exporter": "python",
   "pygments_lexer": "ipython3",
   "version": "3.9.6"
  }
 },
 "nbformat": 4,
 "nbformat_minor": 4
}
