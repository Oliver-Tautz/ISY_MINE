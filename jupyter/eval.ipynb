{
 "cells": [
  {
   "cell_type": "markdown",
   "metadata": {
    "id": "ADmrUKxvYXGa"
   },
   "source": [
    "# Import Libraries"
   ]
  },
  {
   "cell_type": "code",
   "execution_count": 1,
   "metadata": {
    "execution": {
     "iopub.execute_input": "2021-09-07T07:27:16.163443Z",
     "iopub.status.busy": "2021-09-07T07:27:16.163176Z",
     "iopub.status.idle": "2021-09-07T07:27:19.390272Z",
     "shell.execute_reply": "2021-09-07T07:27:19.389258Z",
     "shell.execute_reply.started": "2021-09-07T07:27:16.163413Z"
    },
    "id": "g8_vZpMFpiD9",
    "outputId": "ef9f81b2-9c50-4ba2-801e-f1562df088a2"
   },
   "outputs": [
    {
     "name": "stderr",
     "output_type": "stream",
     "text": [
      "/home/olli/gits/Minecraft72/venv/lib/python3.9/site-packages/gym/logger.py:34: UserWarning: \u001b[33mWARN: Box bound precision lowered by casting to float32\u001b[0m\n",
      "  warnings.warn(colorize(\"%s: %s\" % (\"WARN\", msg % args), \"yellow\"))\n"
     ]
    }
   ],
   "source": [
    "from deploy_baseline import ResearchPotatoWrapper\n",
    "from tqdm import trange\n",
    "import json\n",
    "import re\n",
    "import random\n",
    "#import numpy as np\n",
    "#import torch as th\n",
    "#from torch import nn\n",
    "import gym\n",
    "import minerl\n",
    "from tqdm.notebook import tqdm\n",
    "from colabgymrender.recorder import Recorder\n",
    "#from pyvirtualdisplay import Display\n",
    "#from sklearn.cluster import KMeans\n",
    "\n",
    "from os import listdir,makedirs\n",
    "from os.path import join\n",
    "from collections import defaultdict\n",
    "\n",
    "import logging\n",
    "\n",
    "\n",
    "\n",
    "logging.disable(logging.ERROR) # reduce clutter, remove if something doesn't work to see the error logs.\n"
   ]
  },
  {
   "cell_type": "code",
   "execution_count": 2,
   "metadata": {},
   "outputs": [],
   "source": [
    "\n",
    "\n",
    "# place models here or edit folder name. All models in this folder will be evaluated.\n",
    "modeldir = 'research_baseline_models'\n",
    "\n",
    "#collect names\n",
    "modeldirs = [join(modeldir,d) for d in listdir(modeldir)]\n"
   ]
  },
  {
   "cell_type": "code",
   "execution_count": 3,
   "metadata": {},
   "outputs": [],
   "source": [
    "# how many episodes per model?\n",
    "number_of_episodes = 25\n",
    "# how many steps per episode?\n",
    "episode_len = 2000\n",
    "\n",
    "# random seeds. keep it consistent\n",
    "seeds = [3649, 7327 ,3779, 4914, 4693 ,1999 ,1523 ,3072 ,6983, 1100  ,723 , 716, 5443 ,5903,\n",
    " 9829 ,4407 ,7370, 8878, 8745, 5988, 3247 ,8821 , 728, 8479 ,8061]"
   ]
  },
  {
   "cell_type": "code",
   "execution_count": 4,
   "metadata": {
    "execution": {
     "iopub.execute_input": "2021-09-07T07:36:14.036754Z",
     "iopub.status.busy": "2021-09-07T07:36:14.034446Z"
    },
    "id": "yQeH2QgcjpK9",
    "outputId": "001cc31a-ad56-469c-86ec-6c4a60934d1e"
   },
   "outputs": [],
   "source": [
    "\n",
    "def eval(modeldir):\n",
    "    \n",
    "    # split at '/'. Only works on linux i think!\n",
    "    modelname = modeldir.split('/')[1]\n",
    "    \n",
    "    ## use regex to get latent-pic-dimension. will fail for arbitrary model names\n",
    "    latent_dimension_reg = re.compile(\"latent-pic-dimension=\\d{1}\")\n",
    "    print(modelname)\n",
    "\n",
    "\n",
    "\n",
    "    # not robust, be careful!\n",
    "    latent_dim = latent_dimension_reg.search(modelname)\n",
    "\n",
    "    # if not parsable skip!\n",
    "    if not latent_dim :\n",
    "        print(f\"skipping {modelname}, couldnt parse name!\")\n",
    "        return None\n",
    "        \n",
    "    latent_dim= latent_dim.group(0)\n",
    "    latent_dim = int(latent_dim[-1])\n",
    "\n",
    "    \n",
    "    # load model\n",
    "    potato = ResearchPotatoWrapper(modeldir,latent_dim)\n",
    "    \n",
    "    # start env\n",
    "    env = gym.make('MineRLTreechopVectorObf-v0')\n",
    "    \n",
    "    # start recorder. This could possibly be improved\n",
    "    env = Recorder(env, join('./video',modelname), fps=24)\n",
    "    \n",
    "    # collect data for all tested models\n",
    "    episode_rewards = defaultdict(lambda: [])\n",
    "    \n",
    "\n",
    "    \n",
    "    for episode in trange(number_of_episodes):\n",
    "        \n",
    "        #makedirs(join('./video',modelname,str(episode)),exist_ok=True)\n",
    "\n",
    "        env.seed(seeds[episode])\n",
    "        obs = env.reset()\n",
    "        \n",
    "        done = False\n",
    "        total_reward = 0\n",
    "        steps = 0\n",
    "\n",
    "        while not done:\n",
    "             \n",
    "            # deployment is easy!\n",
    "            minerl_action = potato.predict_action(obs)\n",
    "            \n",
    "            # step from prediction \n",
    "            obs, reward, done, info = env.step(minerl_action)\n",
    "            total_reward += reward\n",
    "            steps += 1\n",
    "            \n",
    "            # break if episode len is reached.\n",
    "            if steps >= episode_len:\n",
    "                break\n",
    "        \n",
    "        # save vid?\n",
    "        env.release()\n",
    "        \n",
    "        # you can uncomment this on colab. Fails locally and on kaggle.\n",
    "        #env.play()\n",
    "        \n",
    "        print(f'Episode #{episode + 1} reward: {total_reward}\\t\\t episode length: {steps}\\n')\n",
    "        \n",
    "        # save globally\n",
    "        episode_rewards['reward'].append(total_reward)\n",
    "        episode_rewards['steps'].append(steps)\n",
    "        \n",
    "    # close env. not really working ...    \n",
    "    env.close()\n",
    "    makedirs(join('rewards'),exist_ok=True)\n",
    "    print(\"Saving rewards\")\n",
    "    \n",
    "    # dump rewards as .json. can be loaded with json.load(open(\"filename\"m'r)) example in rewards folder.\n",
    "    json.dump(episode_rewards,open(join('rewards',f'{modelname}_rewards.json'),'w'))\n",
    "    \n",
    "    return episode_rewards"
   ]
  },
  {
   "cell_type": "code",
   "execution_count": null,
   "metadata": {
    "scrolled": false
   },
   "outputs": [
    {
     "name": "stdout",
     "output_type": "stream",
     "text": [
      "old\n",
      "skipping old, couldnt parse name!\n",
      "window-before=40_window-after=20_latent-pic-dimension=4_epochs=8_clusters=70\n"
     ]
    },
    {
     "name": "stderr",
     "output_type": "stream",
     "text": [
      "/home/olli/gits/Minecraft72/venv/lib/python3.9/site-packages/gym/logger.py:34: UserWarning: \u001b[33mWARN: Box bound precision lowered by casting to float32\u001b[0m\n",
      "  warnings.warn(colorize(\"%s: %s\" % (\"WARN\", msg % args), \"yellow\"))\n",
      "/usr/lib/python3.9/runpy.py:127: RuntimeWarning: 'minerl.utils.process_watcher' found in sys.modules after import of package 'minerl.utils', but prior to execution of 'minerl.utils.process_watcher'; this may result in unpredictable behaviour\n",
      "  warn(RuntimeWarning(msg))\n",
      "  0%|                                                                                                        | 0/25 [00:00<?, ?it/s]OpenCV: FFMPEG: tag 0x5634504d/'MP4V' is not supported with codec id 12 and format 'mp4 / MP4 (MPEG-4 Part 14)'\n",
      "OpenCV: FFMPEG: fallback to use tag 0x7634706d/'mp4v'\n"
     ]
    }
   ],
   "source": [
    "for modeldir in modeldirs:\n",
    "    rewards = []\n",
    "    ev = eval(modeldir)\n",
    "    if ev:\n",
    "        rewards.append(ev)\n",
    "    "
   ]
  },
  {
   "cell_type": "code",
   "execution_count": null,
   "metadata": {},
   "outputs": [],
   "source": [
    "json.dump(rewards,open('rewards.txt','w'))"
   ]
  },
  {
   "cell_type": "code",
   "execution_count": null,
   "metadata": {},
   "outputs": [],
   "source": []
  }
 ],
 "metadata": {
  "kernelspec": {
   "display_name": "minecraft21",
   "language": "python",
   "name": "minecraft21"
  },
  "language_info": {
   "codemirror_mode": {
    "name": "ipython",
    "version": 3
   },
   "file_extension": ".py",
   "mimetype": "text/x-python",
   "name": "python",
   "nbconvert_exporter": "python",
   "pygments_lexer": "ipython3",
   "version": "3.9.6"
  }
 },
 "nbformat": 4,
 "nbformat_minor": 4
}
