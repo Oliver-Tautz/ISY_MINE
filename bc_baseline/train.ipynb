{
 "cells": [
  {
   "cell_type": "markdown",
   "metadata": {
    "id": "Pxwl_yG1qhR7"
   },
   "source": [
    "<div style=\"text-align: center\">\n",
    "  <img src=\"https://github.com/KarolisRam/MineRL2021-Intro-baselines/blob/main/img/colab_banner.png?raw=true\">\n",
    "</div>"
   ]
  },
  {
   "cell_type": "markdown",
   "metadata": {
    "id": "-_BGlQwngccr"
   },
   "source": [
    "# Introduction\n",
    "This notebook contains the Behavioural Cloning baselines for the Research track of the [MineRL 2021](https://minerl.io/) competition. To run it you will need to enable GPU by going to `Runtime -> Change runtime type` and selecting GPU from the drop down list.\n",
    "\n",
    "These baselines differ slightly from the standalone version of these baselines on github - the DATA_SAMPLES parameter is set to 400,000 instead of the default 1,000,000. This is done to fit into the RAM limits of Colab.\n",
    "\n",
    "To train the agent using the obfuscated action space we first discretize the action space using KMeans clustering. We then train the agent using Behavioural cloning. The training takes 10-15 mins.\n",
    "\n",
    "You can find more details about the obfuscation here:  \n",
    "[K-means exploration](https://minerl.io/docs/tutorials/k-means.html)\n",
    "\n",
    "Also see the in-depth analysis of the obfuscation and the KMeans approach done by one of the teams in the 2020 competition:\n",
    "\n",
    "[Obfuscation and KMeans analysis](https://github.com/GJuceviciute/MineRL-2020)\n",
    "\n",
    "Please note that any attempt to work with the obfuscated state and action spaces should be general and work with a different dataset or even a completely new environment."
   ]
  },
  {
   "cell_type": "markdown",
   "metadata": {
    "id": "ysSTXmT3YUeF"
   },
   "source": [
    "# Setup"
   ]
  },
  {
   "cell_type": "code",
   "execution_count": 1,
   "metadata": {
    "execution": {
     "iopub.execute_input": "2021-09-07T17:54:26.126401Z",
     "iopub.status.busy": "2021-09-07T17:54:26.125872Z",
     "iopub.status.idle": "2021-09-07T17:54:26.226819Z",
     "shell.execute_reply": "2021-09-07T17:54:26.225735Z",
     "shell.execute_reply.started": "2021-09-07T17:54:26.126288Z"
    }
   },
   "outputs": [],
   "source": [
    "skip_install = True"
   ]
  },
  {
   "cell_type": "code",
   "execution_count": 2,
   "metadata": {
    "execution": {
     "iopub.execute_input": "2021-09-07T17:54:26.228966Z",
     "iopub.status.busy": "2021-09-07T17:54:26.228564Z",
     "iopub.status.idle": "2021-09-07T17:54:26.251087Z",
     "shell.execute_reply": "2021-09-07T17:54:26.250030Z",
     "shell.execute_reply.started": "2021-09-07T17:54:26.228927Z"
    },
    "id": "_HTScYNljgXv"
   },
   "outputs": [],
   "source": [
    "\n",
    "if not skip_install:\n",
    "    #%%capture\n",
    "    !add-apt-repository -y ppa:openjdk-r/ppa\n",
    "    !apt-get -y purge openjdk-*\n",
    "    !apt-get -y install openjdk-8-jdk\n",
    "    !apt-get -y install xvfb xserver-xephyr vnc4server python-opengl ffmpeg"
   ]
  },
  {
   "cell_type": "code",
   "execution_count": 3,
   "metadata": {
    "execution": {
     "iopub.execute_input": "2021-09-07T17:54:26.255320Z",
     "iopub.status.busy": "2021-09-07T17:54:26.255022Z",
     "iopub.status.idle": "2021-09-07T17:54:26.266198Z",
     "shell.execute_reply": "2021-09-07T17:54:26.265234Z",
     "shell.execute_reply.started": "2021-09-07T17:54:26.255282Z"
    },
    "id": "xh6gb3UWjT3p"
   },
   "outputs": [],
   "source": [
    "if not skip_install:\n",
    "    !pip3 install --upgrade minerl\n",
    "    !pip3 install pyvirtualdisplay\n",
    "    !pip3 install torch\n",
    "    !pip3 install scikit-learn\n",
    "    !pip3 install -U colabgymrender"
   ]
  },
  {
   "cell_type": "markdown",
   "metadata": {
    "id": "ADmrUKxvYXGa"
   },
   "source": [
    "# Import Libraries"
   ]
  },
  {
   "cell_type": "code",
   "execution_count": 4,
   "metadata": {
    "execution": {
     "iopub.execute_input": "2021-09-07T17:54:26.268781Z",
     "iopub.status.busy": "2021-09-07T17:54:26.268365Z",
     "iopub.status.idle": "2021-09-07T17:54:29.796214Z",
     "shell.execute_reply": "2021-09-07T17:54:29.795274Z",
     "shell.execute_reply.started": "2021-09-07T17:54:26.268743Z"
    },
    "id": "g8_vZpMFpiD9",
    "outputId": "ef9f81b2-9c50-4ba2-801e-f1562df088a2"
   },
   "outputs": [
    {
     "name": "stderr",
     "output_type": "stream",
     "text": [
      "/home/olli/gits/ISY_MINE/bc_baseline/env/lib/python3.9/site-packages/gym/logger.py:34: UserWarning: \u001b[33mWARN: Box bound precision lowered by casting to float32\u001b[0m\n",
      "  warnings.warn(colorize(\"%s: %s\" % (\"WARN\", msg % args), \"yellow\"))\n"
     ]
    }
   ],
   "source": [
    "import random\n",
    "import numpy as np\n",
    "import torch as th\n",
    "from torch import nn\n",
    "import gym\n",
    "import minerl\n",
    "from tqdm.notebook import tqdm\n",
    "from colabgymrender.recorder import Recorder\n",
    "#from pyvirtualdisplay import Display\n",
    "from sklearn.cluster import KMeans\n",
    "import logging\n",
    "logging.disable(logging.ERROR) # reduce clutter, remove if something doesn't work to see the error logs.\n",
    "import pickle"
   ]
  },
  {
   "cell_type": "code",
   "execution_count": 26,
   "metadata": {
    "execution": {
     "iopub.execute_input": "2021-09-07T17:54:29.799888Z",
     "iopub.status.busy": "2021-09-07T17:54:29.799603Z",
     "iopub.status.idle": "2021-09-07T17:54:29.946233Z",
     "shell.execute_reply": "2021-09-07T17:54:29.944515Z",
     "shell.execute_reply.started": "2021-09-07T17:54:29.799847Z"
    }
   },
   "outputs": [],
   "source": [
    "from os.path import join, isfile\n",
    "\n",
    "from os import makedirs\n",
    "# Parameters:\n",
    "EPOCHS = 4  # how many times we train over dataset.\n",
    "LEARNING_RATE = 0.0001  # Learning rate for the neural network.\n",
    "\n",
    "# i didnt change this. seems to work fine.\n",
    "BATCH_SIZE = 32\n",
    "\n",
    "NUM_ACTION_CENTROIDS = 70  # Number of KMeans centroids used to cluster the data.\n",
    "\n",
    "DATA_SAMPLES = 400000  # how many samples to use from the dataset. Impacts RAM usage\n",
    "\n",
    "# you can save checkpoints after x epochs. Put them in a list.\n",
    "# They will be saved in the model folder\n",
    "checkpoints=[]\n",
    "\n",
    "\n",
    "\n",
    "# Bypass filter and use whole dataset\n",
    "BYPASS_FILTER = False\n",
    "\n",
    "# Filter frames. Use window-before and window-after frames before and after\n",
    "# current frame to count present rewards\n",
    "WINDOW_BEFORE=100\n",
    "WINDOW_AFTER=20\n",
    "\n",
    "# ignore window and take all frames between rewards\n",
    "USE_ALL = True \n",
    "\n",
    "# Latent dimension of pov. Use 1,4 or 8\n",
    "LATENT_PIC_DIMENSION=4\n",
    "\n",
    "## Use small Dataset for debugging\n",
    "DEBUG=False\n",
    "\n",
    "## EVAL is not implemented correctly\n",
    "EVAL=False\n",
    "\n",
    "# Dataset to use. \n",
    "DATASET = \"MineRLObtainIronPickaxeVectorObf-v0\"\n",
    "\n",
    "NAME = \"cobblestone\"\n",
    "\n",
    "# Datadir\n",
    "DATADIR = \"data\"\n",
    "\n",
    "# pkl filepath\n",
    "DATASET_FILE=join(DATADIR,f'{NAME}.pkl')\n",
    "\n",
    "# number of replays to use\n",
    "# 100 works with 16GB ram... \n",
    "NO_REPLAYS = 100\n",
    "\n",
    "# Overwrite old pkl always\n",
    "ALWAYS_BUILD_DATASET = False\n",
    "\n",
    "if th.cuda.is_available():\n",
    "    dev = th.device('cuda')\n",
    "else:\n",
    "    dev = th.device('cpu')\n",
    "\n",
    "# define paths etc.\n",
    "MODEL_NAME = f'{NAME}_window-before={WINDOW_BEFORE}_window-after={WINDOW_AFTER}_latent-pic-dimension={LATENT_PIC_DIMENSION}_epochs={EPOCHS}_clusters={NUM_ACTION_CENTROIDS}'\n",
    "try:\n",
    "    makedirs(MODEL_NAME,exist_ok=False)\n",
    "except:\n",
    "    print(\"WARINING! MODEL ALREADY PRESENT. OLD MODEL WILL BE OVERWRITTEN!\")\n",
    "TRAIN_MODEL_NAME=join(MODEL_NAME,'research_potato.pth')\n",
    "TRAIN_KMEANS_MODEL_NAME= join(MODEL_NAME,'centroids_for_research_potato.npy')\n",
    "TEST_MODEL_NAME = TRAIN_MODEL_NAME\n",
    "TEST_KMEANS_MODEL_NAME = TRAIN_KMEANS_MODEL_NAME\n"
   ]
  },
  {
   "cell_type": "markdown",
   "metadata": {
    "id": "zKiasaipYa6l"
   },
   "source": [
    "# Neural network"
   ]
  },
  {
   "cell_type": "code",
   "execution_count": 19,
   "metadata": {
    "execution": {
     "iopub.execute_input": "2021-09-07T17:54:40.507414Z",
     "iopub.status.busy": "2021-09-07T17:54:40.506585Z",
     "iopub.status.idle": "2021-09-07T17:54:40.699892Z",
     "shell.execute_reply": "2021-09-07T17:54:40.698873Z",
     "shell.execute_reply.started": "2021-09-07T17:54:40.507366Z"
    }
   },
   "outputs": [],
   "source": [
    "class NatureCNN(nn.Module):\n",
    "    \"\"\"\n",
    "    \n",
    "    I changed the net slightly to make it use 1x1, 4x4 and 8x8 latend picture dimension.\n",
    "    I also doubled channel count.\n",
    "    \n",
    "    CNN from DQN nature paper:\n",
    "        Mnih, Volodymyr, et al.\n",
    "        \"Human-level control through deep reinforcement learning.\"\n",
    "        Nature 518.7540 (2015): 529-533.\n",
    "\n",
    "    Nicked from stable-baselines3:\n",
    "        https://github.com/DLR-RM/stable-baselines3/blob/master/stable_baselines3/common/torch_layers.py\n",
    "\n",
    "    :param input_shape: A three-item tuple telling image dimensions in (C, H, W)\n",
    "    :param output_dim: Dimensionality of the output vector\n",
    "    :param latent_pic_dim: choose one of 3 models with values 1,4,8\n",
    "    \"\"\"\n",
    "\n",
    "    def __init__(self, input_shape, output_dim,latent_pic_dim=4):\n",
    "        super().__init__()\n",
    "        n_input_channels = input_shape[0]\n",
    "        \n",
    "        if latent_pic_dim ==8:\n",
    "            \n",
    "            self.cnn = nn.Sequential(\n",
    "                nn.Conv2d(n_input_channels, 64, kernel_size=8, stride=4, padding=0),\n",
    "                nn.ReLU(),\n",
    "                nn.Conv2d(64, 64, kernel_size=4, stride=1, padding=0),\n",
    "                nn.ReLU(),\n",
    "                nn.Conv2d(64, 128, kernel_size=3, stride=1, padding=0),\n",
    "                nn.ReLU(),\n",
    "                nn.Conv2d(128, 128, kernel_size=3, stride=1, padding=0),\n",
    "                nn.ReLU(),\n",
    "                nn.Flatten()\n",
    "\n",
    "            )\n",
    "\n",
    "        elif latent_pic_dim == 4:\n",
    "            self.cnn = nn.Sequential(\n",
    "                nn.Conv2d(n_input_channels, 64, kernel_size=8, stride=4, padding=0),\n",
    "                nn.ReLU(),\n",
    "                nn.Conv2d(64, 64, kernel_size=4, stride=2, padding=0),\n",
    "                nn.ReLU(),\n",
    "                nn.Conv2d(64, 128, kernel_size=3, stride=1, padding=0),\n",
    "                nn.ReLU(),\n",
    "                nn.Conv2d(128, 128, kernel_size=1, stride=1, padding=0),\n",
    "                nn.ReLU(),\n",
    "                nn.Flatten()\n",
    "\n",
    "            )\n",
    "        elif latent_pic_dim ==1:\n",
    "            self.cnn = nn.Sequential(\n",
    "                nn.Conv2d(n_input_channels, 64, kernel_size=8, stride=4, padding=0),\n",
    "                nn.ReLU(),\n",
    "                nn.Conv2d(64, 64, kernel_size=4, stride=2, padding=0),\n",
    "                nn.ReLU(),\n",
    "                nn.Conv2d(64, 128, kernel_size=4, stride=1, padding=0),\n",
    "                nn.ReLU(),\n",
    "                nn.Conv2d(128, 128, kernel_size=3, stride=1, padding=0),\n",
    "                nn.ReLU(),\n",
    "                nn.Flatten()\n",
    "\n",
    "            )\n",
    "        else:\n",
    "            print(\"You can only use 8,4, or 1 as latent pic dim!\")\n",
    "            exit(-1)\n",
    "            \n",
    "            \n",
    "            \n",
    "        # Compute shape by doing one forward pass\n",
    "        with th.no_grad():\n",
    "            n_flatten = self.cnn(th.zeros(1, *input_shape)).shape[1]\n",
    "\n",
    "        self.linear = nn.Sequential(\n",
    "            nn.Linear(n_flatten, 512),\n",
    "            nn.ReLU(),\n",
    "            nn.Dropout(0.5),\n",
    "            nn.Linear(512, output_dim)\n",
    "        )\n",
    "\n",
    "    def forward(self, observations: th.Tensor) -> th.Tensor:\n",
    "        \n",
    "        return self.linear(self.cnn(observations))\n",
    "\n",
    "#test code\n",
    "#net = NatureCNN((3, 64, 64),100,8)    \n"
   ]
  },
  {
   "cell_type": "markdown",
   "metadata": {
    "id": "BvrJks0gZCTW"
   },
   "source": [
    "# Setup training"
   ]
  },
  {
   "cell_type": "code",
   "execution_count": 20,
   "metadata": {},
   "outputs": [],
   "source": [
    "def filter_actions_ix_new(trajectory_ix ,rewards,max_reward=16,reward_before=8,before_count=40,after_count=40,bypass=False):\n",
    "    \"\"\"\n",
    "    Filter out frames that dont have ${min_rewards} in the window vicinity.\n",
    "    Window = [beforecount:i:afterafter_count]\n",
    "    \n",
    "    param actions: list of all actions to filter\n",
    "    param trajectory_ix: the start index of each episode. used to account for overlapping windows\n",
    "    param rewards: list of rewards, matching actions\n",
    "    param min_reward: min reward that should be present in the window\n",
    "    param before_count: window to the left(past)\n",
    "    param before_count: window to the right(future)\n",
    "    param bypass: set to True to not filter\n",
    "\n",
    "    \"\"\"\n",
    "    # add 0 as starting point.\n",
    "    trajectory_ix.insert(0,0)\n",
    "\n",
    "    reward_before_ix = -1\n",
    "    max_reward_ix = -1\n",
    "    reward_windows = []\n",
    "\n",
    "    \n",
    "    if bypass :\n",
    "        return list(range(len(actions)))\n",
    "    filtered_ix = []\n",
    "    for i,current_trajectory in tqdm(enumerate(trajectory_ix),total=len(trajectory_ix)-1):\n",
    "        if i+1>= len(trajectory_ix):\n",
    "            next_trajectory = len(rewards)\n",
    "        else:    \n",
    "            next_trajectory = trajectory_ix[i+1]\n",
    "        \n",
    "        second_reward = False    \n",
    "        for j,rew in (enumerate(rewards[current_trajectory:next_trajectory])):\n",
    "\n",
    "\n",
    "            if max_reward == reward_before:\n",
    "                if rewards[current_trajectory+j] == max_reward and second_reward: \n",
    "                    max_reward_ix= current_trajectory+j\n",
    "                if rewards[current_trajectory+j] == reward_before and not second_reward:\n",
    "                    reward_before_ix = current_trajectory+j\n",
    "                    second_reward = True\n",
    "            else:\n",
    "                if rewards[current_trajectory+j] == max_reward: \n",
    "                    max_reward_ix= current_trajectory+j\n",
    "                if rewards[current_trajectory+j] == reward_before:\n",
    "                    reward_before_ix = current_trajectory+j\n",
    "                \n",
    "       \n",
    "        \n",
    "        reward_windows.append(max_reward_ix-reward_before_ix)\n",
    "        \n",
    "        if max_reward_ix + after_count > next_trajectory:\n",
    "            after_ix = next_trajectory\n",
    "        else:\n",
    "            after_ix = max_reward_ix + after_count\n",
    "            \n",
    "        if max_reward_ix - before_count < current_trajectory:   \n",
    "            before_ix = current_trajectory\n",
    "        else:\n",
    "            before_ix = max_reward_ix - before_count\n",
    "        \n",
    "        if USE_ALL :\n",
    "            before_ix = reward_before_ix\n",
    "            after_ix = max_reward_ix\n",
    "            \n",
    "        \n",
    "        filtered_ix.extend(list(range(before_ix,after_ix)))\n",
    "    #print(len(reward_windows),np.mean(reward_windows),np.std(reward_windows))  \n",
    "    return filtered_ix\n",
    "\n",
    "\n",
    "\n",
    "            "
   ]
  },
  {
   "cell_type": "code",
   "execution_count": 21,
   "metadata": {},
   "outputs": [],
   "source": [
    "def load_and_pickle_dataset():\n",
    "    \n",
    "    if not isfile(DATASET_FILE) or ALWAYS_BUILD_DATASET:\n",
    "        minerl.data.download(directory=DATADIR, environment=DATASET);\n",
    "        data = minerl.data.make(DATASET,  data_dir=DATADIR, num_workers=1)\n",
    "        trajectory_names = data.get_trajectory_names()\n",
    "        #random.shuffle(trajectory_names)\n",
    "\n",
    "        trajectory_lens = []\n",
    "        trajectories = []\n",
    "        \n",
    "        \n",
    "        for trajectory_name in trajectory_names[0:NO_REPLAYS]:\n",
    "            trajectory = data.load_data(trajectory_name, skip_interval=0, include_metadata=False)\n",
    "            del data\n",
    "            data = minerl.data.make(DATASET,  data_dir=DATADIR, num_workers=1)\n",
    "            trajectory = list(trajectory)\n",
    "            \n",
    "            \n",
    "            rewards = []\n",
    "            for _, _, dataset_reward, _, _ in trajectory:\n",
    "                rewards.append(dataset_reward)\n",
    "            \n",
    "            filtered_ix = filter_actions_ix_new([len(trajectory)],rewards,max_reward=2,reward_before=1,before_count=WINDOW_BEFORE,after_count=WINDOW_AFTER)\n",
    "           \n",
    "            trajectory=np.array(trajectory)\n",
    "            trajectory = trajectory[filtered_ix]\n",
    "            trajectory=list(trajectory)\n",
    "           \n",
    "            \n",
    "            \n",
    "            trajectory_lens.append(len((trajectory)))\n",
    "            trajectories.append(trajectory)\n",
    "            del trajectory\n",
    "\n",
    "        f = open(DATASET_FILE,'wb')\n",
    "        pickle.dump(trajectories,f,protocol=pickle.HIGHEST_PROTOCOL)\n",
    "        f.close()\n",
    "    else:\n",
    "        print('Using old dataset :)')\n",
    "   \n",
    "def load_from_pkl():\n",
    "    f = open(DATASET_FILE,'rb')\n",
    "\n",
    "    trajectories = pickle.load(f)\n",
    "    return trajectories"
   ]
  },
  {
   "cell_type": "code",
   "execution_count": 22,
   "metadata": {
    "execution": {
     "iopub.execute_input": "2021-09-07T17:54:40.702398Z",
     "iopub.status.busy": "2021-09-07T17:54:40.701869Z",
     "iopub.status.idle": "2021-09-07T17:54:40.712316Z",
     "shell.execute_reply": "2021-09-07T17:54:40.711277Z",
     "shell.execute_reply.started": "2021-09-07T17:54:40.702360Z"
    }
   },
   "outputs": [],
   "source": [
    "def filter_actions_ix(trajectory_ix ,rewards,min_reward=2,before_count=40,after_count=40,bypass=False):\n",
    "    \"\"\"\n",
    "    Filter out frames that dont have ${min_rewards} in the window vicinity.\n",
    "    Window = [beforecount:i:afterafter_count]\n",
    "    \n",
    "    param actions: list of all actions to filter\n",
    "    param trajectory_ix: the start index of each episode. used to account for overlapping windows\n",
    "    param rewards: list of rewards, matching actions\n",
    "    param min_reward: min reward that should be present in the window\n",
    "    param before_count: window to the left(past)\n",
    "    param before_count: window to the right(future)\n",
    "    param bypass: set to True to not filter\n",
    "\n",
    "    \"\"\"\n",
    "    # add 0 as starting point.\n",
    "    trajectory_ix.insert(0,0)\n",
    "    print(bypass)\n",
    "    if bypass :\n",
    "        return list(range(len(actions)))\n",
    "    filtered_ix = []\n",
    "    for i,current_trajectory in tqdm(enumerate(trajectory_ix),total=len(trajectory_ix)-1):\n",
    "        if i+1>= len(trajectory_ix):\n",
    "            next_trajectory = len(actions)\n",
    "        else:    \n",
    "            next_trajectory = trajectory_ix[i+1]\n",
    "        for i,act in (enumerate(actions[current_trajectory:next_trajectory])):\n",
    "\n",
    "          if i-before_count<0:\n",
    "            before_ix = 0\n",
    "          else:\n",
    "            before_ix = i-before_count\n",
    "          if i+after_count>len(actions):\n",
    "            after_ix = len(actions)-1\n",
    "          else:\n",
    "            after_ix = i+after_count\n",
    "          if sum(rewards[before_ix:after_ix]) > min_reward:\n",
    "            filtered_ix.append(current_trajectory+i)\n",
    "\n",
    "    print(f'Using {len(filtered_ix)} of {len(actions)} samples!')    \n",
    "    assert len(np.unique(filtered_ix) == len(filtered_ix)), 'WARNING: Duplicate samples!'\n",
    "    return filtered_ix\n",
    "\n",
    "def cluster(actions):\n",
    "    \"\"\"\n",
    "    \n",
    "    run sklearn.KMEANS() on actions. Uses NUM_ACTION_CENTROIDS global.\n",
    "    \n",
    "    \"\"\"\n",
    "    \n",
    "    print(\"Running KMeans on the action vectors\")\n",
    "    kmeans = KMeans(n_clusters=NUM_ACTION_CENTROIDS,verbose=1)\n",
    "    kmeans.fit(actions)\n",
    "    action_centroids = kmeans.cluster_centers_\n",
    "    return action_centroids\n",
    "    print(\"KMeans done\")"
   ]
  },
  {
   "cell_type": "code",
   "execution_count": 23,
   "metadata": {
    "execution": {
     "iopub.execute_input": "2021-09-07T17:54:40.714762Z",
     "iopub.status.busy": "2021-09-07T17:54:40.714269Z",
     "iopub.status.idle": "2021-09-07T17:54:40.736018Z",
     "shell.execute_reply": "2021-09-07T17:54:40.735138Z",
     "shell.execute_reply.started": "2021-09-07T17:54:40.714721Z"
    },
    "id": "OpH8vzpLBGRY"
   },
   "outputs": [],
   "source": [
    "def train():\n",
    "    \n",
    "\n",
    "\n",
    "    # First, use k-means to find actions that represent most of them.\n",
    "    # This proved to be a strong approach in the MineRL 2020 competition.\n",
    "    # See the following for more analysis:\n",
    "    # https://github.com/GJuceviciute/MineRL-2020\n",
    "\n",
    "    # Go over the dataset once and collect all actions and the observations (the \"pov\" image).\n",
    "    # We do this to later on have uniform sampling of the dataset and to avoid high memory use spikes.\n",
    "    all_actions = []\n",
    "    all_pov_obs = []\n",
    "    all_rewards = []\n",
    "    \n",
    "\n",
    "    # load saved dataset from pkl\n",
    "    trajectories = load_from_pkl()\n",
    "    \n",
    "    \n",
    "    # Add trajectories to the data until we reach the required DATA_SAMPLES\n",
    "    \n",
    "\n",
    "    \n",
    "    for trajectory in trajectories:        \n",
    "        for dataset_observation, dataset_action, dataset_reward, _, _ in trajectory:\n",
    "            all_actions.append(dataset_action[\"vector\"])\n",
    "            all_pov_obs.append(dataset_observation[\"pov\"])\n",
    "            all_rewards.append(dataset_reward)\n",
    "        if len(all_actions) >= DATA_SAMPLES:\n",
    "            break\n",
    "        del trajectory     \n",
    "    del trajectories    \n",
    "\n",
    "    all_actions = np.array(all_actions)\n",
    "    all_pov_obs = np.array(all_pov_obs)\n",
    "    \n",
    "    print(f'Training on {len(all_actions)} samples')\n",
    "    \n",
    "    \n",
    "    # apply filtering of 'low reward' actions\n",
    "\n",
    "    #trajectory_ix = np.cumsum(trajectory_lens)\n",
    "    #ix = filter_actions_ix_new(all_actions,list(trajectory_ix),all_rewards,bypass=BYPASS_FILTER)\n",
    "\n",
    "\n",
    "    filtered_actions = all_actions\n",
    "    filtered_pov_obs = all_pov_obs\n",
    "\n",
    "\n",
    "\n",
    "    # Run k-means clustering using scikit-learn.  \n",
    "    action_centroids = cluster(filtered_actions)\n",
    "\n",
    "\n",
    "    # Now onto behavioural cloning itself.\n",
    "    # Much like with intro track, we do behavioural cloning on the discrete actions,\n",
    "    # where we turn the original vectors into discrete choices by mapping them to the closest\n",
    "    # centroid (based on Euclidian distance).\n",
    "\n",
    "    network = NatureCNN((3, 64, 64), NUM_ACTION_CENTROIDS,LATENT_PIC_DIMENSION).to(dev)\n",
    "    optimizer = th.optim.Adam(network.parameters(), lr=LEARNING_RATE)\n",
    "    loss_function = nn.CrossEntropyLoss()\n",
    "\n",
    "    num_samples = filtered_actions.shape[0]\n",
    "    update_count = 0\n",
    "    losses = []\n",
    "    # We have the data loaded up already in all_actions and all_pov_obs arrays.\n",
    "    # Let's do a manual training loop\n",
    "    print(\"Training\")\n",
    "    for e in range(EPOCHS):\n",
    "        print(f\"starting epoch {e+1}\")\n",
    "        # Randomize the order in which we go over the samples\n",
    "        epoch_indices = np.arange(num_samples)\n",
    "        np.random.shuffle(epoch_indices)\n",
    "        for batch_i in range(0, num_samples, BATCH_SIZE):\n",
    "            # NOTE: this will cut off incomplete batches from end of the random indices\n",
    "            batch_indices = epoch_indices[batch_i:batch_i + BATCH_SIZE]\n",
    "\n",
    "            # Load the inputs and preprocess\n",
    "            obs = filtered_pov_obs[batch_indices].astype(np.float32)\n",
    "            # Transpose observations to be channel-first (BCHW instead of BHWC)\n",
    "            obs = obs.transpose(0, 3, 1, 2)\n",
    "            # Normalize observations. Do this here to avoid using too much memory (images are uint8 by default)\n",
    "            obs /= 255.0\n",
    "\n",
    "            # Map actions to their closest centroids\n",
    "            action_vectors = filtered_actions[batch_indices]\n",
    "            # Use numpy broadcasting to compute the distance between all\n",
    "            # actions and centroids at once.\n",
    "            # \"None\" in indexing adds a new dimension that allows the broadcasting\n",
    "            distances = np.sum((action_vectors - action_centroids[:, None]) ** 2, axis=2)\n",
    "            # Get the index of the closest centroid to each action.\n",
    "            # This is an array of (batch_size,)\n",
    "            actions = np.argmin(distances, axis=0)\n",
    "\n",
    "            # Obtain logits of each action\n",
    "            logits = network(th.from_numpy(obs).float().to(dev))\n",
    "\n",
    "            # Minimize cross-entropy with target labels.\n",
    "            # We could also compute the probability of demonstration actions and\n",
    "            # maximize them.\n",
    "            loss = loss_function(logits, th.from_numpy(actions).long().to(dev))\n",
    "\n",
    "            # Standard PyTorch update\n",
    "            optimizer.zero_grad()\n",
    "            loss.backward()\n",
    "            optimizer.step()\n",
    "\n",
    "            update_count += 1\n",
    "            losses.append(loss.item())\n",
    "            if (update_count % 100) == 0:\n",
    "                mean_loss = sum(losses) / len(losses)\n",
    "                tqdm.write(\"Iteration {}. Loss {:<10.3f}\".format(update_count, mean_loss))\n",
    "                losses.clear()\n",
    "        \n",
    "        # save checkpoints.\n",
    "        if (e+1) in checkpoints:\n",
    "            print(f'saving_checkpoint_epoch{e+1}')\n",
    "            th.save(network.state_dict(), f\"{TRAIN_MODEL_NAME}_checkpoint_epoch={e+1}\")\n",
    "            \n",
    "    print(\"Training done\")\n",
    "\n",
    "    # Save network and the centroids into separate files\n",
    "    np.save(TRAIN_KMEANS_MODEL_NAME, action_centroids)\n",
    "    th.save(network.state_dict(), TRAIN_MODEL_NAME)\n",
    "\n",
    "\n",
    "   "
   ]
  },
  {
   "cell_type": "markdown",
   "metadata": {
    "id": "lumAopy0cHBM"
   },
   "source": [
    "# Download the data"
   ]
  },
  {
   "cell_type": "code",
   "execution_count": 24,
   "metadata": {},
   "outputs": [
    {
     "name": "stderr",
     "output_type": "stream",
     "text": [
      "100%|███████████████████████████████████████████████████████████████████████████████████████| 5521/5521 [00:00<00:00, 147025.13it/s]\n"
     ]
    },
    {
     "data": {
      "application/vnd.jupyter.widget-view+json": {
       "model_id": "559832e6e41a4caca768fad77c869ad9",
       "version_major": 2,
       "version_minor": 0
      },
      "text/plain": [
       "  0%|          | 0/1 [00:00<?, ?it/s]"
      ]
     },
     "metadata": {},
     "output_type": "display_data"
    },
    {
     "name": "stderr",
     "output_type": "stream",
     "text": [
      "100%|██████████████████████████████████████████████████████████████████████████████████████| 12873/12873 [00:00<00:00, 59882.01it/s]\n"
     ]
    },
    {
     "data": {
      "application/vnd.jupyter.widget-view+json": {
       "model_id": "e782ca164c094229bd7f75237347e2d7",
       "version_major": 2,
       "version_minor": 0
      },
      "text/plain": [
       "  0%|          | 0/1 [00:00<?, ?it/s]"
      ]
     },
     "metadata": {},
     "output_type": "display_data"
    },
    {
     "name": "stderr",
     "output_type": "stream",
     "text": [
      "100%|███████████████████████████████████████████████████████████████████████████████████████| 3524/3524 [00:00<00:00, 146912.58it/s]\n"
     ]
    },
    {
     "data": {
      "application/vnd.jupyter.widget-view+json": {
       "model_id": "66d37a59fa4a4066bea87a0940add9ae",
       "version_major": 2,
       "version_minor": 0
      },
      "text/plain": [
       "  0%|          | 0/1 [00:00<?, ?it/s]"
      ]
     },
     "metadata": {},
     "output_type": "display_data"
    },
    {
     "name": "stderr",
     "output_type": "stream",
     "text": [
      "100%|█████████████████████████████████████████████████████████████████████████████████████| 10831/10831 [00:00<00:00, 157495.61it/s]\n"
     ]
    },
    {
     "data": {
      "application/vnd.jupyter.widget-view+json": {
       "model_id": "95e86125ada44e3eb9f0eebe714031eb",
       "version_major": 2,
       "version_minor": 0
      },
      "text/plain": [
       "  0%|          | 0/1 [00:00<?, ?it/s]"
      ]
     },
     "metadata": {},
     "output_type": "display_data"
    },
    {
     "name": "stderr",
     "output_type": "stream",
     "text": [
      "100%|███████████████████████████████████████████████████████████████████████████████████████| 3242/3242 [00:00<00:00, 127344.13it/s]\n"
     ]
    },
    {
     "data": {
      "application/vnd.jupyter.widget-view+json": {
       "model_id": "9d9979afd46347e9af7a4c7705827ff0",
       "version_major": 2,
       "version_minor": 0
      },
      "text/plain": [
       "  0%|          | 0/1 [00:00<?, ?it/s]"
      ]
     },
     "metadata": {},
     "output_type": "display_data"
    },
    {
     "name": "stderr",
     "output_type": "stream",
     "text": [
      "100%|███████████████████████████████████████████████████████████████████████████████████████| 5395/5395 [00:00<00:00, 147230.32it/s]\n"
     ]
    },
    {
     "data": {
      "application/vnd.jupyter.widget-view+json": {
       "model_id": "690b1d203037424bbcac76c1c3eccb3d",
       "version_major": 2,
       "version_minor": 0
      },
      "text/plain": [
       "  0%|          | 0/1 [00:00<?, ?it/s]"
      ]
     },
     "metadata": {},
     "output_type": "display_data"
    },
    {
     "name": "stderr",
     "output_type": "stream",
     "text": [
      "100%|████████████████████████████████████████████████████████████████████████████████████████| 2385/2385 [00:00<00:00, 18323.05it/s]\n"
     ]
    },
    {
     "data": {
      "application/vnd.jupyter.widget-view+json": {
       "model_id": "d04b3a56b03343938adb5f0998c0c214",
       "version_major": 2,
       "version_minor": 0
      },
      "text/plain": [
       "  0%|          | 0/1 [00:00<?, ?it/s]"
      ]
     },
     "metadata": {},
     "output_type": "display_data"
    },
    {
     "name": "stderr",
     "output_type": "stream",
     "text": [
      "100%|███████████████████████████████████████████████████████████████████████████████████████| 5714/5714 [00:00<00:00, 156259.19it/s]\n"
     ]
    },
    {
     "data": {
      "application/vnd.jupyter.widget-view+json": {
       "model_id": "b52ab4d0363042668ec43f58f221d232",
       "version_major": 2,
       "version_minor": 0
      },
      "text/plain": [
       "  0%|          | 0/1 [00:00<?, ?it/s]"
      ]
     },
     "metadata": {},
     "output_type": "display_data"
    },
    {
     "name": "stderr",
     "output_type": "stream",
     "text": [
      "100%|███████████████████████████████████████████████████████████████████████████████████████| 3686/3686 [00:00<00:00, 149658.81it/s]\n"
     ]
    },
    {
     "data": {
      "application/vnd.jupyter.widget-view+json": {
       "model_id": "503dd39a9c5647c1902630b68bfaed4a",
       "version_major": 2,
       "version_minor": 0
      },
      "text/plain": [
       "  0%|          | 0/1 [00:00<?, ?it/s]"
      ]
     },
     "metadata": {},
     "output_type": "display_data"
    },
    {
     "name": "stderr",
     "output_type": "stream",
     "text": [
      "100%|██████████████████████████████████████████████████████████████████████████████████████| 23540/23540 [00:00<00:00, 87146.56it/s]\n"
     ]
    },
    {
     "data": {
      "application/vnd.jupyter.widget-view+json": {
       "model_id": "87b69b2511964b2d9f153ba670d24b9a",
       "version_major": 2,
       "version_minor": 0
      },
      "text/plain": [
       "  0%|          | 0/1 [00:00<?, ?it/s]"
      ]
     },
     "metadata": {},
     "output_type": "display_data"
    },
    {
     "name": "stderr",
     "output_type": "stream",
     "text": [
      "100%|███████████████████████████████████████████████████████████████████████████████████████| 3184/3184 [00:00<00:00, 144064.81it/s]\n"
     ]
    },
    {
     "data": {
      "application/vnd.jupyter.widget-view+json": {
       "model_id": "1e1de2fef93f44d3928a10e4b7b95ce8",
       "version_major": 2,
       "version_minor": 0
      },
      "text/plain": [
       "  0%|          | 0/1 [00:00<?, ?it/s]"
      ]
     },
     "metadata": {},
     "output_type": "display_data"
    },
    {
     "name": "stderr",
     "output_type": "stream",
     "text": [
      "100%|███████████████████████████████████████████████████████████████████████████████████████| 6535/6535 [00:00<00:00, 128403.48it/s]\n"
     ]
    },
    {
     "data": {
      "application/vnd.jupyter.widget-view+json": {
       "model_id": "6dfb6a458feb4e25957dcc5b16b3492b",
       "version_major": 2,
       "version_minor": 0
      },
      "text/plain": [
       "  0%|          | 0/1 [00:00<?, ?it/s]"
      ]
     },
     "metadata": {},
     "output_type": "display_data"
    },
    {
     "name": "stderr",
     "output_type": "stream",
     "text": [
      "100%|███████████████████████████████████████████████████████████████████████████████████████| 1553/1553 [00:00<00:00, 126093.81it/s]\n"
     ]
    },
    {
     "data": {
      "application/vnd.jupyter.widget-view+json": {
       "model_id": "693cd57c02354e629c2e8f64f2ba3f22",
       "version_major": 2,
       "version_minor": 0
      },
      "text/plain": [
       "  0%|          | 0/1 [00:00<?, ?it/s]"
      ]
     },
     "metadata": {},
     "output_type": "display_data"
    },
    {
     "name": "stderr",
     "output_type": "stream",
     "text": [
      "100%|███████████████████████████████████████████████████████████████████████████████████████| 3230/3230 [00:00<00:00, 148396.94it/s]\n"
     ]
    },
    {
     "data": {
      "application/vnd.jupyter.widget-view+json": {
       "model_id": "ac7d5e7c98094cc3a9861f097a56fc93",
       "version_major": 2,
       "version_minor": 0
      },
      "text/plain": [
       "  0%|          | 0/1 [00:00<?, ?it/s]"
      ]
     },
     "metadata": {},
     "output_type": "display_data"
    },
    {
     "name": "stderr",
     "output_type": "stream",
     "text": [
      "100%|██████████████████████████████████████████████████████████████████████████████████████| 15996/15996 [00:00<00:00, 68727.46it/s]\n"
     ]
    },
    {
     "data": {
      "application/vnd.jupyter.widget-view+json": {
       "model_id": "dba1e637c3714f89823f570a4b5126db",
       "version_major": 2,
       "version_minor": 0
      },
      "text/plain": [
       "  0%|          | 0/1 [00:00<?, ?it/s]"
      ]
     },
     "metadata": {},
     "output_type": "display_data"
    },
    {
     "name": "stderr",
     "output_type": "stream",
     "text": [
      "100%|███████████████████████████████████████████████████████████████████████████████████████| 3535/3535 [00:00<00:00, 144417.04it/s]\n"
     ]
    },
    {
     "data": {
      "application/vnd.jupyter.widget-view+json": {
       "model_id": "187b766d48784d8cb9f6c4c8ee34ed2f",
       "version_major": 2,
       "version_minor": 0
      },
      "text/plain": [
       "  0%|          | 0/1 [00:00<?, ?it/s]"
      ]
     },
     "metadata": {},
     "output_type": "display_data"
    },
    {
     "name": "stderr",
     "output_type": "stream",
     "text": [
      "100%|██████████████████████████████████████████████████████████████████████████████████████| 15115/15115 [00:00<00:00, 68386.60it/s]\n"
     ]
    },
    {
     "data": {
      "application/vnd.jupyter.widget-view+json": {
       "model_id": "3e0d7e786b944f9ebe2518512ec5ac24",
       "version_major": 2,
       "version_minor": 0
      },
      "text/plain": [
       "  0%|          | 0/1 [00:00<?, ?it/s]"
      ]
     },
     "metadata": {},
     "output_type": "display_data"
    },
    {
     "name": "stderr",
     "output_type": "stream",
     "text": [
      "100%|███████████████████████████████████████████████████████████████████████████████████████| 4308/4308 [00:00<00:00, 153034.26it/s]\n"
     ]
    },
    {
     "data": {
      "application/vnd.jupyter.widget-view+json": {
       "model_id": "e77d2cfd4d694191afc8701201520229",
       "version_major": 2,
       "version_minor": 0
      },
      "text/plain": [
       "  0%|          | 0/1 [00:00<?, ?it/s]"
      ]
     },
     "metadata": {},
     "output_type": "display_data"
    },
    {
     "name": "stderr",
     "output_type": "stream",
     "text": [
      "100%|███████████████████████████████████████████████████████████████████████████████████████| 2956/2956 [00:00<00:00, 149464.30it/s]\n"
     ]
    },
    {
     "data": {
      "application/vnd.jupyter.widget-view+json": {
       "model_id": "e103e2a35d4e4cff929f52af03d3000c",
       "version_major": 2,
       "version_minor": 0
      },
      "text/plain": [
       "  0%|          | 0/1 [00:00<?, ?it/s]"
      ]
     },
     "metadata": {},
     "output_type": "display_data"
    },
    {
     "name": "stderr",
     "output_type": "stream",
     "text": [
      "100%|█████████████████████████████████████████████████████████████████████████████████████| 17390/17390 [00:00<00:00, 163133.14it/s]\n"
     ]
    },
    {
     "data": {
      "application/vnd.jupyter.widget-view+json": {
       "model_id": "15a78cd6500742e1b14c23a16fa56c25",
       "version_major": 2,
       "version_minor": 0
      },
      "text/plain": [
       "  0%|          | 0/1 [00:00<?, ?it/s]"
      ]
     },
     "metadata": {},
     "output_type": "display_data"
    },
    {
     "name": "stderr",
     "output_type": "stream",
     "text": [
      "100%|███████████████████████████████████████████████████████████████████████████████████████| 2364/2364 [00:00<00:00, 130271.24it/s]\n"
     ]
    },
    {
     "data": {
      "application/vnd.jupyter.widget-view+json": {
       "model_id": "cf366e822cce4a80ba9deba6898c16cd",
       "version_major": 2,
       "version_minor": 0
      },
      "text/plain": [
       "  0%|          | 0/1 [00:00<?, ?it/s]"
      ]
     },
     "metadata": {},
     "output_type": "display_data"
    },
    {
     "name": "stderr",
     "output_type": "stream",
     "text": [
      "100%|████████████████████████████████████████████████████████████████████████████████████████| 6150/6150 [00:00<00:00, 36473.65it/s]\n"
     ]
    },
    {
     "data": {
      "application/vnd.jupyter.widget-view+json": {
       "model_id": "25b1c0c3da4747fdac726f26bcd17df2",
       "version_major": 2,
       "version_minor": 0
      },
      "text/plain": [
       "  0%|          | 0/1 [00:00<?, ?it/s]"
      ]
     },
     "metadata": {},
     "output_type": "display_data"
    },
    {
     "name": "stderr",
     "output_type": "stream",
     "text": [
      "100%|███████████████████████████████████████████████████████████████████████████████████████| 5652/5652 [00:00<00:00, 161056.35it/s]\n"
     ]
    },
    {
     "data": {
      "application/vnd.jupyter.widget-view+json": {
       "model_id": "d98c1942e82643a6b19c6bbb8576b07f",
       "version_major": 2,
       "version_minor": 0
      },
      "text/plain": [
       "  0%|          | 0/1 [00:00<?, ?it/s]"
      ]
     },
     "metadata": {},
     "output_type": "display_data"
    },
    {
     "name": "stderr",
     "output_type": "stream",
     "text": [
      "100%|█████████████████████████████████████████████████████████████████████████████████████| 12113/12113 [00:00<00:00, 163504.55it/s]\n"
     ]
    },
    {
     "data": {
      "application/vnd.jupyter.widget-view+json": {
       "model_id": "304e5d827a1a468c8d9c925248df4295",
       "version_major": 2,
       "version_minor": 0
      },
      "text/plain": [
       "  0%|          | 0/1 [00:00<?, ?it/s]"
      ]
     },
     "metadata": {},
     "output_type": "display_data"
    },
    {
     "name": "stderr",
     "output_type": "stream",
     "text": [
      "100%|████████████████████████████████████████████████████████████████████████████████████████| 6930/6930 [00:00<00:00, 40443.59it/s]\n"
     ]
    },
    {
     "data": {
      "application/vnd.jupyter.widget-view+json": {
       "model_id": "93308785e99a4d5597053367cdbf63e9",
       "version_major": 2,
       "version_minor": 0
      },
      "text/plain": [
       "  0%|          | 0/1 [00:00<?, ?it/s]"
      ]
     },
     "metadata": {},
     "output_type": "display_data"
    },
    {
     "name": "stderr",
     "output_type": "stream",
     "text": [
      "100%|███████████████████████████████████████████████████████████████████████████████████████| 5720/5720 [00:00<00:00, 163599.79it/s]\n"
     ]
    },
    {
     "data": {
      "application/vnd.jupyter.widget-view+json": {
       "model_id": "367ae926317540c484d7871d5be2b168",
       "version_major": 2,
       "version_minor": 0
      },
      "text/plain": [
       "  0%|          | 0/1 [00:00<?, ?it/s]"
      ]
     },
     "metadata": {},
     "output_type": "display_data"
    },
    {
     "name": "stderr",
     "output_type": "stream",
     "text": [
      "100%|███████████████████████████████████████████████████████████████████████████████████████| 2485/2485 [00:00<00:00, 153670.35it/s]\n"
     ]
    },
    {
     "data": {
      "application/vnd.jupyter.widget-view+json": {
       "model_id": "b1f4b044810d46cba1899be6893b1dc5",
       "version_major": 2,
       "version_minor": 0
      },
      "text/plain": [
       "  0%|          | 0/1 [00:00<?, ?it/s]"
      ]
     },
     "metadata": {},
     "output_type": "display_data"
    },
    {
     "name": "stderr",
     "output_type": "stream",
     "text": [
      "100%|███████████████████████████████████████████████████████████████████████████████████████| 3482/3482 [00:00<00:00, 152099.21it/s]\n"
     ]
    },
    {
     "data": {
      "application/vnd.jupyter.widget-view+json": {
       "model_id": "b464ad9bd78d4f61951590bb6cb1435d",
       "version_major": 2,
       "version_minor": 0
      },
      "text/plain": [
       "  0%|          | 0/1 [00:00<?, ?it/s]"
      ]
     },
     "metadata": {},
     "output_type": "display_data"
    },
    {
     "name": "stderr",
     "output_type": "stream",
     "text": [
      "100%|███████████████████████████████████████████████████████████████████████████████████████| 5335/5335 [00:00<00:00, 144284.25it/s]\n"
     ]
    },
    {
     "data": {
      "application/vnd.jupyter.widget-view+json": {
       "model_id": "df02209227ad47578e71ad66cd796950",
       "version_major": 2,
       "version_minor": 0
      },
      "text/plain": [
       "  0%|          | 0/1 [00:00<?, ?it/s]"
      ]
     },
     "metadata": {},
     "output_type": "display_data"
    },
    {
     "name": "stderr",
     "output_type": "stream",
     "text": [
      "100%|███████████████████████████████████████████████████████████████████████████████████████| 3490/3490 [00:00<00:00, 145901.19it/s]\n"
     ]
    },
    {
     "data": {
      "application/vnd.jupyter.widget-view+json": {
       "model_id": "e7c9dd37e1de451d9a56b937ad52d7a5",
       "version_major": 2,
       "version_minor": 0
      },
      "text/plain": [
       "  0%|          | 0/1 [00:00<?, ?it/s]"
      ]
     },
     "metadata": {},
     "output_type": "display_data"
    },
    {
     "name": "stderr",
     "output_type": "stream",
     "text": [
      "100%|███████████████████████████████████████████████████████████████████████████████████████| 2611/2611 [00:00<00:00, 132000.96it/s]\n"
     ]
    },
    {
     "data": {
      "application/vnd.jupyter.widget-view+json": {
       "model_id": "0a678eb0432b4e50aea02809d0b3b52a",
       "version_major": 2,
       "version_minor": 0
      },
      "text/plain": [
       "  0%|          | 0/1 [00:00<?, ?it/s]"
      ]
     },
     "metadata": {},
     "output_type": "display_data"
    },
    {
     "name": "stderr",
     "output_type": "stream",
     "text": [
      "100%|███████████████████████████████████████████████████████████████████████████████████████| 4475/4475 [00:00<00:00, 144621.14it/s]\n"
     ]
    },
    {
     "data": {
      "application/vnd.jupyter.widget-view+json": {
       "model_id": "d95121f46ae943beb2b901d7d3dc9b86",
       "version_major": 2,
       "version_minor": 0
      },
      "text/plain": [
       "  0%|          | 0/1 [00:00<?, ?it/s]"
      ]
     },
     "metadata": {},
     "output_type": "display_data"
    },
    {
     "name": "stderr",
     "output_type": "stream",
     "text": [
      "100%|██████████████████████████████████████████████████████████████████████████████████████| 11143/11143 [00:00<00:00, 55341.71it/s]\n"
     ]
    },
    {
     "data": {
      "application/vnd.jupyter.widget-view+json": {
       "model_id": "34bc5c5eb00d4811bfbf66296f3251f9",
       "version_major": 2,
       "version_minor": 0
      },
      "text/plain": [
       "  0%|          | 0/1 [00:00<?, ?it/s]"
      ]
     },
     "metadata": {},
     "output_type": "display_data"
    },
    {
     "name": "stderr",
     "output_type": "stream",
     "text": [
      "100%|███████████████████████████████████████████████████████████████████████████████████████| 4769/4769 [00:00<00:00, 144456.74it/s]\n"
     ]
    },
    {
     "data": {
      "application/vnd.jupyter.widget-view+json": {
       "model_id": "e47923dad4424e109a2985287cbdbac3",
       "version_major": 2,
       "version_minor": 0
      },
      "text/plain": [
       "  0%|          | 0/1 [00:00<?, ?it/s]"
      ]
     },
     "metadata": {},
     "output_type": "display_data"
    },
    {
     "name": "stderr",
     "output_type": "stream",
     "text": [
      "100%|███████████████████████████████████████████████████████████████████████████████████████| 2754/2754 [00:00<00:00, 150872.67it/s]\n"
     ]
    },
    {
     "data": {
      "application/vnd.jupyter.widget-view+json": {
       "model_id": "01b2f48825ed4ac4afa063b0b8a86a09",
       "version_major": 2,
       "version_minor": 0
      },
      "text/plain": [
       "  0%|          | 0/1 [00:00<?, ?it/s]"
      ]
     },
     "metadata": {},
     "output_type": "display_data"
    },
    {
     "name": "stderr",
     "output_type": "stream",
     "text": [
      "100%|███████████████████████████████████████████████████████████████████████████████████████| 5260/5260 [00:00<00:00, 146105.25it/s]\n"
     ]
    },
    {
     "data": {
      "application/vnd.jupyter.widget-view+json": {
       "model_id": "01ba26f7549447fd8786e361d5100230",
       "version_major": 2,
       "version_minor": 0
      },
      "text/plain": [
       "  0%|          | 0/1 [00:00<?, ?it/s]"
      ]
     },
     "metadata": {},
     "output_type": "display_data"
    },
    {
     "name": "stderr",
     "output_type": "stream",
     "text": [
      "100%|██████████████████████████████████████████████████████████████████████████████████████| 12271/12271 [00:00<00:00, 58019.00it/s]\n"
     ]
    },
    {
     "data": {
      "application/vnd.jupyter.widget-view+json": {
       "model_id": "eb3c2a33750d4dedbfb256966c4c5923",
       "version_major": 2,
       "version_minor": 0
      },
      "text/plain": [
       "  0%|          | 0/1 [00:00<?, ?it/s]"
      ]
     },
     "metadata": {},
     "output_type": "display_data"
    },
    {
     "name": "stderr",
     "output_type": "stream",
     "text": [
      "100%|███████████████████████████████████████████████████████████████████████████████████████| 6671/6671 [00:00<00:00, 158749.32it/s]\n"
     ]
    },
    {
     "data": {
      "application/vnd.jupyter.widget-view+json": {
       "model_id": "fb66010354d341d1942df97eac7a9f67",
       "version_major": 2,
       "version_minor": 0
      },
      "text/plain": [
       "  0%|          | 0/1 [00:00<?, ?it/s]"
      ]
     },
     "metadata": {},
     "output_type": "display_data"
    },
    {
     "name": "stderr",
     "output_type": "stream",
     "text": [
      "100%|███████████████████████████████████████████████████████████████████████████████████████| 5432/5432 [00:00<00:00, 151116.01it/s]\n"
     ]
    },
    {
     "data": {
      "application/vnd.jupyter.widget-view+json": {
       "model_id": "be0a93ec53ce4a4fa629bc54db7787c7",
       "version_major": 2,
       "version_minor": 0
      },
      "text/plain": [
       "  0%|          | 0/1 [00:00<?, ?it/s]"
      ]
     },
     "metadata": {},
     "output_type": "display_data"
    },
    {
     "name": "stderr",
     "output_type": "stream",
     "text": [
      "100%|███████████████████████████████████████████████████████████████████████████████████████| 4609/4609 [00:00<00:00, 127686.94it/s]\n"
     ]
    },
    {
     "data": {
      "application/vnd.jupyter.widget-view+json": {
       "model_id": "e932f7880c8041faa77fbedf2220e30c",
       "version_major": 2,
       "version_minor": 0
      },
      "text/plain": [
       "  0%|          | 0/1 [00:00<?, ?it/s]"
      ]
     },
     "metadata": {},
     "output_type": "display_data"
    },
    {
     "name": "stderr",
     "output_type": "stream",
     "text": [
      "100%|███████████████████████████████████████████████████████████████████████████████████████| 2900/2900 [00:00<00:00, 126675.22it/s]\n"
     ]
    },
    {
     "data": {
      "application/vnd.jupyter.widget-view+json": {
       "model_id": "93523ea8423b425f86d14a2d8a34d38a",
       "version_major": 2,
       "version_minor": 0
      },
      "text/plain": [
       "  0%|          | 0/1 [00:00<?, ?it/s]"
      ]
     },
     "metadata": {},
     "output_type": "display_data"
    },
    {
     "name": "stderr",
     "output_type": "stream",
     "text": [
      "100%|███████████████████████████████████████████████████████████████████████████████████████| 6941/6941 [00:00<00:00, 150086.94it/s]\n"
     ]
    },
    {
     "data": {
      "application/vnd.jupyter.widget-view+json": {
       "model_id": "3949fbc1a2934fe7883e53fd10c3e4ae",
       "version_major": 2,
       "version_minor": 0
      },
      "text/plain": [
       "  0%|          | 0/1 [00:00<?, ?it/s]"
      ]
     },
     "metadata": {},
     "output_type": "display_data"
    },
    {
     "name": "stderr",
     "output_type": "stream",
     "text": [
      "100%|██████████████████████████████████████████████████████████████████████████████████████| 14587/14587 [00:00<00:00, 62397.95it/s]\n"
     ]
    },
    {
     "data": {
      "application/vnd.jupyter.widget-view+json": {
       "model_id": "b4d2c7fad32a4463bf84e9a44db34897",
       "version_major": 2,
       "version_minor": 0
      },
      "text/plain": [
       "  0%|          | 0/1 [00:00<?, ?it/s]"
      ]
     },
     "metadata": {},
     "output_type": "display_data"
    },
    {
     "name": "stderr",
     "output_type": "stream",
     "text": [
      "100%|███████████████████████████████████████████████████████████████████████████████████████| 4466/4466 [00:00<00:00, 145061.27it/s]\n"
     ]
    },
    {
     "data": {
      "application/vnd.jupyter.widget-view+json": {
       "model_id": "bfe1fd88bc734056bd9d1ace0e5627e4",
       "version_major": 2,
       "version_minor": 0
      },
      "text/plain": [
       "  0%|          | 0/1 [00:00<?, ?it/s]"
      ]
     },
     "metadata": {},
     "output_type": "display_data"
    },
    {
     "name": "stderr",
     "output_type": "stream",
     "text": [
      "100%|███████████████████████████████████████████████████████████████████████████████████████| 4408/4408 [00:00<00:00, 153224.20it/s]\n"
     ]
    },
    {
     "data": {
      "application/vnd.jupyter.widget-view+json": {
       "model_id": "2b4d714cde924deca6263d184113e17f",
       "version_major": 2,
       "version_minor": 0
      },
      "text/plain": [
       "  0%|          | 0/1 [00:00<?, ?it/s]"
      ]
     },
     "metadata": {},
     "output_type": "display_data"
    },
    {
     "name": "stderr",
     "output_type": "stream",
     "text": [
      "100%|███████████████████████████████████████████████████████████████████████████████████████| 2723/2723 [00:00<00:00, 152952.15it/s]\n"
     ]
    },
    {
     "data": {
      "application/vnd.jupyter.widget-view+json": {
       "model_id": "e055330efd5940f6a7553a42c4ceb7c6",
       "version_major": 2,
       "version_minor": 0
      },
      "text/plain": [
       "  0%|          | 0/1 [00:00<?, ?it/s]"
      ]
     },
     "metadata": {},
     "output_type": "display_data"
    },
    {
     "name": "stderr",
     "output_type": "stream",
     "text": [
      "100%|███████████████████████████████████████████████████████████████████████████████████████| 5787/5787 [00:00<00:00, 147404.96it/s]\n"
     ]
    },
    {
     "data": {
      "application/vnd.jupyter.widget-view+json": {
       "model_id": "b333d738ece44f3a92f17e6ee2754b93",
       "version_major": 2,
       "version_minor": 0
      },
      "text/plain": [
       "  0%|          | 0/1 [00:00<?, ?it/s]"
      ]
     },
     "metadata": {},
     "output_type": "display_data"
    },
    {
     "name": "stderr",
     "output_type": "stream",
     "text": [
      "100%|███████████████████████████████████████████████████████████████████████████████████████| 3012/3012 [00:00<00:00, 147460.59it/s]\n"
     ]
    },
    {
     "data": {
      "application/vnd.jupyter.widget-view+json": {
       "model_id": "0af3f4a640c54548ad71623e1df143a9",
       "version_major": 2,
       "version_minor": 0
      },
      "text/plain": [
       "  0%|          | 0/1 [00:00<?, ?it/s]"
      ]
     },
     "metadata": {},
     "output_type": "display_data"
    },
    {
     "name": "stderr",
     "output_type": "stream",
     "text": [
      "100%|███████████████████████████████████████████████████████████████████████████████████████| 3258/3258 [00:00<00:00, 148936.17it/s]\n"
     ]
    },
    {
     "data": {
      "application/vnd.jupyter.widget-view+json": {
       "model_id": "68362284b8ad41e88260d462d6daf74a",
       "version_major": 2,
       "version_minor": 0
      },
      "text/plain": [
       "  0%|          | 0/1 [00:00<?, ?it/s]"
      ]
     },
     "metadata": {},
     "output_type": "display_data"
    },
    {
     "name": "stderr",
     "output_type": "stream",
     "text": [
      "100%|████████████████████████████████████████████████████████████████████████████████████████| 6892/6892 [00:00<00:00, 35390.55it/s]\n"
     ]
    },
    {
     "data": {
      "application/vnd.jupyter.widget-view+json": {
       "model_id": "7e7e919221c84e399411f88b8074b0d6",
       "version_major": 2,
       "version_minor": 0
      },
      "text/plain": [
       "  0%|          | 0/1 [00:00<?, ?it/s]"
      ]
     },
     "metadata": {},
     "output_type": "display_data"
    },
    {
     "name": "stderr",
     "output_type": "stream",
     "text": [
      "100%|███████████████████████████████████████████████████████████████████████████████████████| 7111/7111 [00:00<00:00, 152586.08it/s]\n"
     ]
    },
    {
     "data": {
      "application/vnd.jupyter.widget-view+json": {
       "model_id": "2dc1eff8f82b4f97b2d8670d13a7e9f9",
       "version_major": 2,
       "version_minor": 0
      },
      "text/plain": [
       "  0%|          | 0/1 [00:00<?, ?it/s]"
      ]
     },
     "metadata": {},
     "output_type": "display_data"
    },
    {
     "name": "stderr",
     "output_type": "stream",
     "text": [
      "100%|███████████████████████████████████████████████████████████████████████████████████████| 1008/1008 [00:00<00:00, 153188.83it/s]\n"
     ]
    },
    {
     "data": {
      "application/vnd.jupyter.widget-view+json": {
       "model_id": "69c581dafd124c11b06203774aae4e2b",
       "version_major": 2,
       "version_minor": 0
      },
      "text/plain": [
       "  0%|          | 0/1 [00:00<?, ?it/s]"
      ]
     },
     "metadata": {},
     "output_type": "display_data"
    },
    {
     "name": "stderr",
     "output_type": "stream",
     "text": [
      "100%|███████████████████████████████████████████████████████████████████████████████████████| 2676/2676 [00:00<00:00, 153366.28it/s]\n"
     ]
    },
    {
     "data": {
      "application/vnd.jupyter.widget-view+json": {
       "model_id": "76a5f74eb2644003a12c345417039a10",
       "version_major": 2,
       "version_minor": 0
      },
      "text/plain": [
       "  0%|          | 0/1 [00:00<?, ?it/s]"
      ]
     },
     "metadata": {},
     "output_type": "display_data"
    },
    {
     "name": "stderr",
     "output_type": "stream",
     "text": [
      "100%|███████████████████████████████████████████████████████████████████████████████████████| 3332/3332 [00:00<00:00, 150232.96it/s]\n"
     ]
    },
    {
     "data": {
      "application/vnd.jupyter.widget-view+json": {
       "model_id": "2b6a4fcc9cdd4d878042e318302e53e9",
       "version_major": 2,
       "version_minor": 0
      },
      "text/plain": [
       "  0%|          | 0/1 [00:00<?, ?it/s]"
      ]
     },
     "metadata": {},
     "output_type": "display_data"
    },
    {
     "name": "stderr",
     "output_type": "stream",
     "text": [
      "100%|███████████████████████████████████████████████████████████████████████████████████████| 3151/3151 [00:00<00:00, 148205.80it/s]\n"
     ]
    },
    {
     "data": {
      "application/vnd.jupyter.widget-view+json": {
       "model_id": "5c4c1a3f53504bd581b0e74435181099",
       "version_major": 2,
       "version_minor": 0
      },
      "text/plain": [
       "  0%|          | 0/1 [00:00<?, ?it/s]"
      ]
     },
     "metadata": {},
     "output_type": "display_data"
    },
    {
     "name": "stderr",
     "output_type": "stream",
     "text": [
      "100%|███████████████████████████████████████████████████████████████████████████████████████| 7992/7992 [00:00<00:00, 157069.72it/s]\n"
     ]
    },
    {
     "data": {
      "application/vnd.jupyter.widget-view+json": {
       "model_id": "80a8ad5e0e9246d8b7512f0e685aae9f",
       "version_major": 2,
       "version_minor": 0
      },
      "text/plain": [
       "  0%|          | 0/1 [00:00<?, ?it/s]"
      ]
     },
     "metadata": {},
     "output_type": "display_data"
    },
    {
     "name": "stderr",
     "output_type": "stream",
     "text": [
      "100%|███████████████████████████████████████████████████████████████████████████████████████| 2759/2759 [00:00<00:00, 154500.46it/s]\n"
     ]
    },
    {
     "data": {
      "application/vnd.jupyter.widget-view+json": {
       "model_id": "8ef3ff126c354ea2876b09b7c3dde269",
       "version_major": 2,
       "version_minor": 0
      },
      "text/plain": [
       "  0%|          | 0/1 [00:00<?, ?it/s]"
      ]
     },
     "metadata": {},
     "output_type": "display_data"
    },
    {
     "name": "stderr",
     "output_type": "stream",
     "text": [
      "100%|███████████████████████████████████████████████████████████████████████████████████████| 2448/2448 [00:00<00:00, 146054.85it/s]\n"
     ]
    },
    {
     "data": {
      "application/vnd.jupyter.widget-view+json": {
       "model_id": "344e63e54ab440e696ed9ba8d3595674",
       "version_major": 2,
       "version_minor": 0
      },
      "text/plain": [
       "  0%|          | 0/1 [00:00<?, ?it/s]"
      ]
     },
     "metadata": {},
     "output_type": "display_data"
    },
    {
     "name": "stderr",
     "output_type": "stream",
     "text": [
      "100%|████████████████████████████████████████████████████████████████████████████████████████| 5017/5017 [00:00<00:00, 27890.13it/s]\n"
     ]
    },
    {
     "data": {
      "application/vnd.jupyter.widget-view+json": {
       "model_id": "906e2dfa55224c18b80c4c6e87fa09f7",
       "version_major": 2,
       "version_minor": 0
      },
      "text/plain": [
       "  0%|          | 0/1 [00:00<?, ?it/s]"
      ]
     },
     "metadata": {},
     "output_type": "display_data"
    },
    {
     "name": "stderr",
     "output_type": "stream",
     "text": [
      "100%|███████████████████████████████████████████████████████████████████████████████████████| 9355/9355 [00:00<00:00, 159331.26it/s]\n"
     ]
    },
    {
     "data": {
      "application/vnd.jupyter.widget-view+json": {
       "model_id": "7dc2540ffef74375aa460e8b28d7e7e9",
       "version_major": 2,
       "version_minor": 0
      },
      "text/plain": [
       "  0%|          | 0/1 [00:00<?, ?it/s]"
      ]
     },
     "metadata": {},
     "output_type": "display_data"
    },
    {
     "name": "stderr",
     "output_type": "stream",
     "text": [
      "100%|███████████████████████████████████████████████████████████████████████████████████████| 6544/6544 [00:00<00:00, 135772.64it/s]\n"
     ]
    },
    {
     "data": {
      "application/vnd.jupyter.widget-view+json": {
       "model_id": "de38e4c6c224479c83fd6c2ad68e48de",
       "version_major": 2,
       "version_minor": 0
      },
      "text/plain": [
       "  0%|          | 0/1 [00:00<?, ?it/s]"
      ]
     },
     "metadata": {},
     "output_type": "display_data"
    },
    {
     "name": "stderr",
     "output_type": "stream",
     "text": [
      "100%|███████████████████████████████████████████████████████████████████████████████████████| 3508/3508 [00:00<00:00, 156349.88it/s]\n"
     ]
    },
    {
     "data": {
      "application/vnd.jupyter.widget-view+json": {
       "model_id": "e542f51547544f5a8f6781078218086f",
       "version_major": 2,
       "version_minor": 0
      },
      "text/plain": [
       "  0%|          | 0/1 [00:00<?, ?it/s]"
      ]
     },
     "metadata": {},
     "output_type": "display_data"
    },
    {
     "name": "stderr",
     "output_type": "stream",
     "text": [
      "100%|███████████████████████████████████████████████████████████████████████████████████████| 5332/5332 [00:00<00:00, 150714.21it/s]\n"
     ]
    },
    {
     "data": {
      "application/vnd.jupyter.widget-view+json": {
       "model_id": "dc97c5e81a9f4f7890ede6883149c2ce",
       "version_major": 2,
       "version_minor": 0
      },
      "text/plain": [
       "  0%|          | 0/1 [00:00<?, ?it/s]"
      ]
     },
     "metadata": {},
     "output_type": "display_data"
    },
    {
     "name": "stderr",
     "output_type": "stream",
     "text": [
      "100%|███████████████████████████████████████████████████████████████████████████████████████| 2224/2224 [00:00<00:00, 145497.44it/s]\n"
     ]
    },
    {
     "data": {
      "application/vnd.jupyter.widget-view+json": {
       "model_id": "d19e551f50154c8ab575c49d804aa96e",
       "version_major": 2,
       "version_minor": 0
      },
      "text/plain": [
       "  0%|          | 0/1 [00:00<?, ?it/s]"
      ]
     },
     "metadata": {},
     "output_type": "display_data"
    },
    {
     "name": "stderr",
     "output_type": "stream",
     "text": [
      "100%|███████████████████████████████████████████████████████████████████████████████████████| 2809/2809 [00:00<00:00, 152058.54it/s]\n"
     ]
    },
    {
     "data": {
      "application/vnd.jupyter.widget-view+json": {
       "model_id": "1dc08aec787f447fb9aea9472c74f7e2",
       "version_major": 2,
       "version_minor": 0
      },
      "text/plain": [
       "  0%|          | 0/1 [00:00<?, ?it/s]"
      ]
     },
     "metadata": {},
     "output_type": "display_data"
    },
    {
     "name": "stderr",
     "output_type": "stream",
     "text": [
      "100%|██████████████████████████████████████████████████████████████████████████████████████| 12781/12781 [00:00<00:00, 54966.39it/s]\n"
     ]
    },
    {
     "data": {
      "application/vnd.jupyter.widget-view+json": {
       "model_id": "63b3095036c8438a86ad9734074441ef",
       "version_major": 2,
       "version_minor": 0
      },
      "text/plain": [
       "  0%|          | 0/1 [00:00<?, ?it/s]"
      ]
     },
     "metadata": {},
     "output_type": "display_data"
    },
    {
     "name": "stderr",
     "output_type": "stream",
     "text": [
      "100%|███████████████████████████████████████████████████████████████████████████████████████| 6045/6045 [00:00<00:00, 146307.86it/s]\n"
     ]
    },
    {
     "data": {
      "application/vnd.jupyter.widget-view+json": {
       "model_id": "5c530287edc1400bbf43fc54d90f6831",
       "version_major": 2,
       "version_minor": 0
      },
      "text/plain": [
       "  0%|          | 0/1 [00:00<?, ?it/s]"
      ]
     },
     "metadata": {},
     "output_type": "display_data"
    },
    {
     "name": "stderr",
     "output_type": "stream",
     "text": [
      "100%|███████████████████████████████████████████████████████████████████████████████████████| 5772/5772 [00:00<00:00, 148973.43it/s]\n"
     ]
    },
    {
     "data": {
      "application/vnd.jupyter.widget-view+json": {
       "model_id": "a486411a89724be69db1eb3840a52ff5",
       "version_major": 2,
       "version_minor": 0
      },
      "text/plain": [
       "  0%|          | 0/1 [00:00<?, ?it/s]"
      ]
     },
     "metadata": {},
     "output_type": "display_data"
    },
    {
     "name": "stderr",
     "output_type": "stream",
     "text": [
      "100%|███████████████████████████████████████████████████████████████████████████████████████| 2108/2108 [00:00<00:00, 146970.41it/s]\n"
     ]
    },
    {
     "data": {
      "application/vnd.jupyter.widget-view+json": {
       "model_id": "995c30d91cfe4cf7a26e2a69d10213ea",
       "version_major": 2,
       "version_minor": 0
      },
      "text/plain": [
       "  0%|          | 0/1 [00:00<?, ?it/s]"
      ]
     },
     "metadata": {},
     "output_type": "display_data"
    },
    {
     "name": "stderr",
     "output_type": "stream",
     "text": [
      "100%|███████████████████████████████████████████████████████████████████████████████████████| 6333/6333 [00:00<00:00, 154904.32it/s]\n"
     ]
    },
    {
     "data": {
      "application/vnd.jupyter.widget-view+json": {
       "model_id": "a344a2661e024caab710449540b4e2e6",
       "version_major": 2,
       "version_minor": 0
      },
      "text/plain": [
       "  0%|          | 0/1 [00:00<?, ?it/s]"
      ]
     },
     "metadata": {},
     "output_type": "display_data"
    },
    {
     "name": "stderr",
     "output_type": "stream",
     "text": [
      "100%|████████████████████████████████████████████████████████████████████████████████████████| 6507/6507 [00:00<00:00, 33390.59it/s]\n"
     ]
    },
    {
     "data": {
      "application/vnd.jupyter.widget-view+json": {
       "model_id": "b5fcd6c386dd4f85a77006831624f98b",
       "version_major": 2,
       "version_minor": 0
      },
      "text/plain": [
       "  0%|          | 0/1 [00:00<?, ?it/s]"
      ]
     },
     "metadata": {},
     "output_type": "display_data"
    },
    {
     "name": "stderr",
     "output_type": "stream",
     "text": [
      "100%|███████████████████████████████████████████████████████████████████████████████████████| 7990/7990 [00:00<00:00, 147812.48it/s]\n"
     ]
    },
    {
     "data": {
      "application/vnd.jupyter.widget-view+json": {
       "model_id": "d3dfb209f85a434487f711651696dd2b",
       "version_major": 2,
       "version_minor": 0
      },
      "text/plain": [
       "  0%|          | 0/1 [00:00<?, ?it/s]"
      ]
     },
     "metadata": {},
     "output_type": "display_data"
    },
    {
     "name": "stderr",
     "output_type": "stream",
     "text": [
      "100%|█████████████████████████████████████████████████████████████████████████████████████| 16797/16797 [00:00<00:00, 150338.71it/s]\n"
     ]
    },
    {
     "data": {
      "application/vnd.jupyter.widget-view+json": {
       "model_id": "69ec5009f64949a39db84ebc6ae81f9f",
       "version_major": 2,
       "version_minor": 0
      },
      "text/plain": [
       "  0%|          | 0/1 [00:00<?, ?it/s]"
      ]
     },
     "metadata": {},
     "output_type": "display_data"
    },
    {
     "name": "stderr",
     "output_type": "stream",
     "text": [
      "100%|███████████████████████████████████████████████████████████████████████████████████████| 5485/5485 [00:00<00:00, 150768.45it/s]\n"
     ]
    },
    {
     "data": {
      "application/vnd.jupyter.widget-view+json": {
       "model_id": "30b09c2ebd5e4fada8bd8a28b5fc5826",
       "version_major": 2,
       "version_minor": 0
      },
      "text/plain": [
       "  0%|          | 0/1 [00:00<?, ?it/s]"
      ]
     },
     "metadata": {},
     "output_type": "display_data"
    },
    {
     "name": "stderr",
     "output_type": "stream",
     "text": [
      "100%|██████████████████████████████████████████████████████████████████████████████████████| 10362/10362 [00:00<00:00, 46733.32it/s]\n"
     ]
    },
    {
     "data": {
      "application/vnd.jupyter.widget-view+json": {
       "model_id": "6c81d167daf74956a0b03986ab25b28a",
       "version_major": 2,
       "version_minor": 0
      },
      "text/plain": [
       "  0%|          | 0/1 [00:00<?, ?it/s]"
      ]
     },
     "metadata": {},
     "output_type": "display_data"
    },
    {
     "name": "stderr",
     "output_type": "stream",
     "text": [
      "100%|█████████████████████████████████████████████████████████████████████████████████████| 10348/10348 [00:00<00:00, 157018.20it/s]\n"
     ]
    },
    {
     "data": {
      "application/vnd.jupyter.widget-view+json": {
       "model_id": "9d49c6ffdecc4412ab8a55d806063dbc",
       "version_major": 2,
       "version_minor": 0
      },
      "text/plain": [
       "  0%|          | 0/1 [00:00<?, ?it/s]"
      ]
     },
     "metadata": {},
     "output_type": "display_data"
    },
    {
     "name": "stderr",
     "output_type": "stream",
     "text": [
      "100%|███████████████████████████████████████████████████████████████████████████████████████| 6937/6937 [00:00<00:00, 151277.92it/s]\n"
     ]
    },
    {
     "data": {
      "application/vnd.jupyter.widget-view+json": {
       "model_id": "6f70d05c065144a1a6d351fb3fe5a6d9",
       "version_major": 2,
       "version_minor": 0
      },
      "text/plain": [
       "  0%|          | 0/1 [00:00<?, ?it/s]"
      ]
     },
     "metadata": {},
     "output_type": "display_data"
    },
    {
     "name": "stderr",
     "output_type": "stream",
     "text": [
      "100%|███████████████████████████████████████████████████████████████████████████████████████| 3574/3574 [00:00<00:00, 151206.31it/s]\n"
     ]
    },
    {
     "data": {
      "application/vnd.jupyter.widget-view+json": {
       "model_id": "b007ce58cf874e0aa1808dfe415df7d5",
       "version_major": 2,
       "version_minor": 0
      },
      "text/plain": [
       "  0%|          | 0/1 [00:00<?, ?it/s]"
      ]
     },
     "metadata": {},
     "output_type": "display_data"
    },
    {
     "name": "stderr",
     "output_type": "stream",
     "text": [
      "100%|██████████████████████████████████████████████████████████████████████████████████████| 12611/12611 [00:00<00:00, 53197.54it/s]\n"
     ]
    },
    {
     "data": {
      "application/vnd.jupyter.widget-view+json": {
       "model_id": "b0bb0c5422904aa4be9d90b1b39af93d",
       "version_major": 2,
       "version_minor": 0
      },
      "text/plain": [
       "  0%|          | 0/1 [00:00<?, ?it/s]"
      ]
     },
     "metadata": {},
     "output_type": "display_data"
    },
    {
     "name": "stderr",
     "output_type": "stream",
     "text": [
      "100%|███████████████████████████████████████████████████████████████████████████████████████| 6445/6445 [00:00<00:00, 156112.53it/s]\n"
     ]
    },
    {
     "data": {
      "application/vnd.jupyter.widget-view+json": {
       "model_id": "f75e320af2d340f7bda8e3de366e2600",
       "version_major": 2,
       "version_minor": 0
      },
      "text/plain": [
       "  0%|          | 0/1 [00:00<?, ?it/s]"
      ]
     },
     "metadata": {},
     "output_type": "display_data"
    },
    {
     "name": "stderr",
     "output_type": "stream",
     "text": [
      "100%|███████████████████████████████████████████████████████████████████████████████████████| 1851/1851 [00:00<00:00, 159927.01it/s]\n"
     ]
    },
    {
     "data": {
      "application/vnd.jupyter.widget-view+json": {
       "model_id": "fd5fd78689ec4d4d872076b78e3a38e1",
       "version_major": 2,
       "version_minor": 0
      },
      "text/plain": [
       "  0%|          | 0/1 [00:00<?, ?it/s]"
      ]
     },
     "metadata": {},
     "output_type": "display_data"
    },
    {
     "name": "stderr",
     "output_type": "stream",
     "text": [
      "100%|█████████████████████████████████████████████████████████████████████████████████████| 17726/17726 [00:00<00:00, 163435.04it/s]\n"
     ]
    },
    {
     "data": {
      "application/vnd.jupyter.widget-view+json": {
       "model_id": "dbc13ab0819b4f248d532e1968f38bbb",
       "version_major": 2,
       "version_minor": 0
      },
      "text/plain": [
       "  0%|          | 0/1 [00:00<?, ?it/s]"
      ]
     },
     "metadata": {},
     "output_type": "display_data"
    },
    {
     "name": "stderr",
     "output_type": "stream",
     "text": [
      "100%|███████████████████████████████████████████████████████████████████████████████████████| 2125/2125 [00:00<00:00, 134984.57it/s]\n"
     ]
    },
    {
     "data": {
      "application/vnd.jupyter.widget-view+json": {
       "model_id": "0c1c24b661e74b48abbdc750eba1c332",
       "version_major": 2,
       "version_minor": 0
      },
      "text/plain": [
       "  0%|          | 0/1 [00:00<?, ?it/s]"
      ]
     },
     "metadata": {},
     "output_type": "display_data"
    },
    {
     "name": "stderr",
     "output_type": "stream",
     "text": [
      "100%|███████████████████████████████████████████████████████████████████████████████████████| 8067/8067 [00:00<00:00, 139368.43it/s]\n"
     ]
    },
    {
     "data": {
      "application/vnd.jupyter.widget-view+json": {
       "model_id": "fa19e0a21bce422bbdb858eb6bcbca92",
       "version_major": 2,
       "version_minor": 0
      },
      "text/plain": [
       "  0%|          | 0/1 [00:00<?, ?it/s]"
      ]
     },
     "metadata": {},
     "output_type": "display_data"
    },
    {
     "name": "stderr",
     "output_type": "stream",
     "text": [
      "100%|████████████████████████████████████████████████████████████████████████████████████████| 3388/3388 [00:00<00:00, 18382.51it/s]\n"
     ]
    },
    {
     "data": {
      "application/vnd.jupyter.widget-view+json": {
       "model_id": "b96ec53182d9417baed210473a1f3572",
       "version_major": 2,
       "version_minor": 0
      },
      "text/plain": [
       "  0%|          | 0/1 [00:00<?, ?it/s]"
      ]
     },
     "metadata": {},
     "output_type": "display_data"
    },
    {
     "name": "stderr",
     "output_type": "stream",
     "text": [
      "100%|███████████████████████████████████████████████████████████████████████████████████████| 1911/1911 [00:00<00:00, 145746.25it/s]\n"
     ]
    },
    {
     "data": {
      "application/vnd.jupyter.widget-view+json": {
       "model_id": "2ce0409b44fb43169e3b1acda32d1f42",
       "version_major": 2,
       "version_minor": 0
      },
      "text/plain": [
       "  0%|          | 0/1 [00:00<?, ?it/s]"
      ]
     },
     "metadata": {},
     "output_type": "display_data"
    },
    {
     "name": "stderr",
     "output_type": "stream",
     "text": [
      "100%|███████████████████████████████████████████████████████████████████████████████████████| 2878/2878 [00:00<00:00, 152458.50it/s]\n"
     ]
    },
    {
     "data": {
      "application/vnd.jupyter.widget-view+json": {
       "model_id": "10fbd4cd5b0143639c1fd60543fbdab3",
       "version_major": 2,
       "version_minor": 0
      },
      "text/plain": [
       "  0%|          | 0/1 [00:00<?, ?it/s]"
      ]
     },
     "metadata": {},
     "output_type": "display_data"
    },
    {
     "name": "stderr",
     "output_type": "stream",
     "text": [
      "100%|███████████████████████████████████████████████████████████████████████████████████████| 2734/2734 [00:00<00:00, 152518.12it/s]\n"
     ]
    },
    {
     "data": {
      "application/vnd.jupyter.widget-view+json": {
       "model_id": "d29d916a2e1542cbb027a6050f10bed1",
       "version_major": 2,
       "version_minor": 0
      },
      "text/plain": [
       "  0%|          | 0/1 [00:00<?, ?it/s]"
      ]
     },
     "metadata": {},
     "output_type": "display_data"
    },
    {
     "name": "stderr",
     "output_type": "stream",
     "text": [
      "100%|█████████████████████████████████████████████████████████████████████████████████████| 16302/16302 [00:00<00:00, 153724.76it/s]\n"
     ]
    },
    {
     "data": {
      "application/vnd.jupyter.widget-view+json": {
       "model_id": "f6c0f6e0dfe74b34963ebfef6c2fa910",
       "version_major": 2,
       "version_minor": 0
      },
      "text/plain": [
       "  0%|          | 0/1 [00:00<?, ?it/s]"
      ]
     },
     "metadata": {},
     "output_type": "display_data"
    },
    {
     "name": "stderr",
     "output_type": "stream",
     "text": [
      "100%|█████████████████████████████████████████████████████████████████████████████████████████| 700/700 [00:00<00:00, 113763.67it/s]\n"
     ]
    },
    {
     "data": {
      "application/vnd.jupyter.widget-view+json": {
       "model_id": "cccbb5a1af884c3a9dc9390a8e99aa13",
       "version_major": 2,
       "version_minor": 0
      },
      "text/plain": [
       "  0%|          | 0/1 [00:00<?, ?it/s]"
      ]
     },
     "metadata": {},
     "output_type": "display_data"
    },
    {
     "name": "stderr",
     "output_type": "stream",
     "text": [
      "100%|███████████████████████████████████████████████████████████████████████████████████████| 5358/5358 [00:00<00:00, 150963.84it/s]\n"
     ]
    },
    {
     "data": {
      "application/vnd.jupyter.widget-view+json": {
       "model_id": "487784b0236f406d875a5fca21b76912",
       "version_major": 2,
       "version_minor": 0
      },
      "text/plain": [
       "  0%|          | 0/1 [00:00<?, ?it/s]"
      ]
     },
     "metadata": {},
     "output_type": "display_data"
    },
    {
     "name": "stderr",
     "output_type": "stream",
     "text": [
      "100%|██████████████████████████████████████████████████████████████████████████████████████| 14256/14256 [00:01<00:00, 10377.87it/s]\n"
     ]
    },
    {
     "data": {
      "application/vnd.jupyter.widget-view+json": {
       "model_id": "e3acf54ca6264202b0dc83f2fdf8604a",
       "version_major": 2,
       "version_minor": 0
      },
      "text/plain": [
       "  0%|          | 0/1 [00:00<?, ?it/s]"
      ]
     },
     "metadata": {},
     "output_type": "display_data"
    },
    {
     "name": "stderr",
     "output_type": "stream",
     "text": [
      "100%|█████████████████████████████████████████████████████████████████████████████████████| 14277/14277 [00:00<00:00, 136307.84it/s]\n"
     ]
    },
    {
     "data": {
      "application/vnd.jupyter.widget-view+json": {
       "model_id": "ddee93e5bb294413b02be51107e092cc",
       "version_major": 2,
       "version_minor": 0
      },
      "text/plain": [
       "  0%|          | 0/1 [00:00<?, ?it/s]"
      ]
     },
     "metadata": {},
     "output_type": "display_data"
    },
    {
     "name": "stderr",
     "output_type": "stream",
     "text": [
      "100%|███████████████████████████████████████████████████████████████████████████████████████| 5545/5545 [00:00<00:00, 148718.97it/s]\n"
     ]
    },
    {
     "data": {
      "application/vnd.jupyter.widget-view+json": {
       "model_id": "21fdef1749b148248bf86d827f2ebf37",
       "version_major": 2,
       "version_minor": 0
      },
      "text/plain": [
       "  0%|          | 0/1 [00:00<?, ?it/s]"
      ]
     },
     "metadata": {},
     "output_type": "display_data"
    },
    {
     "name": "stderr",
     "output_type": "stream",
     "text": [
      "100%|████████████████████████████████████████████████████████████████████████████████████████| 5940/5940 [00:00<00:00, 73291.62it/s]\n"
     ]
    },
    {
     "data": {
      "application/vnd.jupyter.widget-view+json": {
       "model_id": "0055e0bf274840c39793746278a3233e",
       "version_major": 2,
       "version_minor": 0
      },
      "text/plain": [
       "  0%|          | 0/1 [00:00<?, ?it/s]"
      ]
     },
     "metadata": {},
     "output_type": "display_data"
    },
    {
     "name": "stderr",
     "output_type": "stream",
     "text": [
      "100%|███████████████████████████████████████████████████████████████████████████████████████| 5918/5918 [00:00<00:00, 152915.72it/s]\n"
     ]
    },
    {
     "data": {
      "application/vnd.jupyter.widget-view+json": {
       "model_id": "1f42b9cae48746e0a9b4f86a21cc44d5",
       "version_major": 2,
       "version_minor": 0
      },
      "text/plain": [
       "  0%|          | 0/1 [00:00<?, ?it/s]"
      ]
     },
     "metadata": {},
     "output_type": "display_data"
    },
    {
     "name": "stderr",
     "output_type": "stream",
     "text": [
      "100%|█████████████████████████████████████████████████████████████████████████████████████████| 5600/5600 [00:00<00:00, 6949.48it/s]\n"
     ]
    },
    {
     "data": {
      "application/vnd.jupyter.widget-view+json": {
       "model_id": "5ff44797b55f445b8404cb8ea77d4e38",
       "version_major": 2,
       "version_minor": 0
      },
      "text/plain": [
       "  0%|          | 0/1 [00:00<?, ?it/s]"
      ]
     },
     "metadata": {},
     "output_type": "display_data"
    },
    {
     "name": "stderr",
     "output_type": "stream",
     "text": [
      "100%|████████████████████████████████████████████████████████████████████████████████████████| 7395/7395 [00:00<00:00, 84251.57it/s]\n"
     ]
    },
    {
     "data": {
      "application/vnd.jupyter.widget-view+json": {
       "model_id": "eadabea354b6412ea7376a635ff4d6f5",
       "version_major": 2,
       "version_minor": 0
      },
      "text/plain": [
       "  0%|          | 0/1 [00:00<?, ?it/s]"
      ]
     },
     "metadata": {},
     "output_type": "display_data"
    },
    {
     "name": "stderr",
     "output_type": "stream",
     "text": [
      "100%|███████████████████████████████████████████████████████████████████████████████████████| 6825/6825 [00:00<00:00, 147813.35it/s]\n"
     ]
    },
    {
     "data": {
      "application/vnd.jupyter.widget-view+json": {
       "model_id": "5bbcd37e81f5466191bcc99e062d88b8",
       "version_major": 2,
       "version_minor": 0
      },
      "text/plain": [
       "  0%|          | 0/1 [00:00<?, ?it/s]"
      ]
     },
     "metadata": {},
     "output_type": "display_data"
    },
    {
     "name": "stderr",
     "output_type": "stream",
     "text": [
      "100%|████████████████████████████████████████████████████████████████████████████████████████| 7374/7374 [00:00<00:00, 88722.38it/s]\n"
     ]
    },
    {
     "data": {
      "application/vnd.jupyter.widget-view+json": {
       "model_id": "8701cfb6f3d94553a67e796fdc6a35e8",
       "version_major": 2,
       "version_minor": 0
      },
      "text/plain": [
       "  0%|          | 0/1 [00:00<?, ?it/s]"
      ]
     },
     "metadata": {},
     "output_type": "display_data"
    }
   ],
   "source": [
    "#%%capture\n",
    "load_and_pickle_dataset()"
   ]
  },
  {
   "cell_type": "markdown",
   "metadata": {
    "id": "0zKLHW_JcRBJ"
   },
   "source": [
    "# Train"
   ]
  },
  {
   "cell_type": "code",
   "execution_count": 27,
   "metadata": {
    "execution": {
     "iopub.execute_input": "2021-09-07T17:54:52.019651Z",
     "iopub.status.busy": "2021-09-07T17:54:52.019249Z"
    },
    "id": "IH84zVpiB19e",
    "outputId": "bd4b67b5-672b-4a21-e9ed-5cc6288e5a87",
    "scrolled": false
   },
   "outputs": [
    {
     "name": "stdout",
     "output_type": "stream",
     "text": [
      "Training on 121946 samples\n",
      "Running KMeans on the action vectors\n",
      "Initialization complete\n",
      "Iteration 0, inertia 30.70589600168103\n",
      "Iteration 1, inertia 27.650632820099414\n",
      "Iteration 2, inertia 27.179617220905634\n",
      "Iteration 3, inertia 26.94624607919755\n",
      "Iteration 4, inertia 26.873829923187213\n",
      "Iteration 5, inertia 26.84748257749483\n",
      "Iteration 6, inertia 26.836363010787064\n",
      "Iteration 7, inertia 26.83108337671643\n",
      "Iteration 8, inertia 26.824938769980147\n",
      "Iteration 9, inertia 26.81134516258769\n",
      "Iteration 10, inertia 26.800226867268577\n",
      "Iteration 11, inertia 26.782088657391085\n",
      "Iteration 12, inertia 26.766209541674947\n",
      "Iteration 13, inertia 26.73557800493458\n",
      "Iteration 14, inertia 26.674411184473797\n",
      "Iteration 15, inertia 26.62857476859245\n",
      "Iteration 16, inertia 26.615273728727207\n",
      "Iteration 17, inertia 26.611800207392285\n",
      "Iteration 18, inertia 26.60998260695445\n",
      "Iteration 19, inertia 26.608503414421275\n",
      "Iteration 20, inertia 26.607723903564573\n",
      "Iteration 21, inertia 26.60650574366849\n",
      "Iteration 22, inertia 26.605861388116132\n",
      "Iteration 23, inertia 26.605738893260295\n",
      "Iteration 24, inertia 26.605445991386453\n",
      "Iteration 25, inertia 26.60530777539207\n",
      "Iteration 26, inertia 26.60518589883596\n",
      "Converged at iteration 26: center shift 1.4729535324257656e-08 within tolerance 6.549573422333151e-08.\n",
      "Initialization complete\n",
      "Iteration 0, inertia 31.44482155564975\n",
      "Iteration 1, inertia 27.548371428879225\n",
      "Iteration 2, inertia 27.081542402717066\n",
      "Iteration 3, inertia 26.87041089589634\n",
      "Iteration 4, inertia 26.72726526546913\n",
      "Iteration 5, inertia 26.641563917623838\n",
      "Iteration 6, inertia 26.578595559462386\n",
      "Iteration 7, inertia 26.543360619130727\n",
      "Iteration 8, inertia 26.518608020100956\n",
      "Iteration 9, inertia 26.501334445084662\n",
      "Iteration 10, inertia 26.491399139500878\n",
      "Iteration 11, inertia 26.48526334500326\n",
      "Iteration 12, inertia 26.481229091155342\n",
      "Iteration 13, inertia 26.478945809003722\n",
      "Iteration 14, inertia 26.477459316896933\n",
      "Iteration 15, inertia 26.476863165179218\n",
      "Iteration 16, inertia 26.476294037250085\n",
      "Iteration 17, inertia 26.47535822624267\n",
      "Iteration 18, inertia 26.475201204124364\n",
      "Iteration 19, inertia 26.4750130181367\n",
      "Converged at iteration 19: center shift 1.7929819661613545e-08 within tolerance 6.549573422333151e-08.\n",
      "Initialization complete\n",
      "Iteration 0, inertia 30.696471061816595\n",
      "Iteration 1, inertia 27.53372247313893\n",
      "Iteration 2, inertia 27.065456849873964\n",
      "Iteration 3, inertia 26.929351330289673\n",
      "Iteration 4, inertia 26.880570468836787\n",
      "Iteration 5, inertia 26.86142828223185\n",
      "Iteration 6, inertia 26.85050563634097\n",
      "Iteration 7, inertia 26.846968280780327\n",
      "Iteration 8, inertia 26.844471233889088\n",
      "Iteration 9, inertia 26.843196181436372\n",
      "Iteration 10, inertia 26.842980750035068\n",
      "Converged at iteration 10: center shift 1.3846161144082088e-09 within tolerance 6.549573422333151e-08.\n",
      "Initialization complete\n",
      "Iteration 0, inertia 31.449026340169947\n",
      "Iteration 1, inertia 28.67465925878424\n",
      "Iteration 2, inertia 28.224860363726407\n",
      "Iteration 3, inertia 27.991979607728773\n",
      "Iteration 4, inertia 27.828374257656176\n",
      "Iteration 5, inertia 27.731894665990218\n",
      "Iteration 6, inertia 27.645970277141114\n",
      "Iteration 7, inertia 27.619094698515124\n",
      "Iteration 8, inertia 27.601196382226554\n",
      "Iteration 9, inertia 27.56238104349004\n",
      "Iteration 10, inertia 27.54701993106209\n",
      "Iteration 11, inertia 27.523592510303235\n",
      "Iteration 12, inertia 27.498814547453833\n",
      "Iteration 13, inertia 27.467005051846893\n",
      "Iteration 14, inertia 27.45880449216527\n",
      "Iteration 15, inertia 27.456550137188\n",
      "Iteration 16, inertia 27.45108190094574\n",
      "Iteration 17, inertia 27.445412025817625\n",
      "Iteration 18, inertia 27.438581140086818\n",
      "Iteration 19, inertia 27.43686073783689\n",
      "Iteration 20, inertia 27.436316751224236\n",
      "Iteration 21, inertia 27.435969179337885\n",
      "Iteration 22, inertia 27.435899119126056\n",
      "Iteration 23, inertia 27.435806185647163\n",
      "Iteration 24, inertia 27.435774293732855\n",
      "Converged at iteration 24: strict convergence.\n",
      "Initialization complete\n",
      "Iteration 0, inertia 31.642281982013426\n",
      "Iteration 1, inertia 28.143979375019597\n",
      "Iteration 2, inertia 27.862015149952203\n",
      "Iteration 3, inertia 27.7810082685203\n",
      "Iteration 4, inertia 27.738317209733598\n",
      "Iteration 5, inertia 27.719889724187986\n",
      "Iteration 6, inertia 27.713579080439033\n",
      "Iteration 7, inertia 27.709817830000183\n",
      "Iteration 8, inertia 27.707873857921967\n",
      "Iteration 9, inertia 27.7073194318883\n",
      "Iteration 10, inertia 27.70707932582285\n",
      "Iteration 11, inertia 27.707047512798432\n",
      "Iteration 12, inertia 27.70701641012653\n",
      "Converged at iteration 12: strict convergence.\n",
      "Initialization complete\n",
      "Iteration 0, inertia 30.39503217969355\n",
      "Iteration 1, inertia 27.36938010689306\n",
      "Iteration 2, inertia 26.872733884005072\n",
      "Iteration 3, inertia 26.69471730772154\n",
      "Iteration 4, inertia 26.63965287796782\n",
      "Iteration 5, inertia 26.606908295442345\n",
      "Iteration 6, inertia 26.585219001828456\n",
      "Iteration 7, inertia 26.568310239964532\n",
      "Iteration 8, inertia 26.557558280579318\n",
      "Iteration 9, inertia 26.545542559687156\n",
      "Iteration 10, inertia 26.541187034130076\n",
      "Iteration 11, inertia 26.532143907585173\n",
      "Iteration 12, inertia 26.52338679089887\n",
      "Iteration 13, inertia 26.50770818120739\n",
      "Iteration 14, inertia 26.475923452372584\n",
      "Iteration 15, inertia 26.462536992322704\n",
      "Iteration 16, inertia 26.4568237772362\n",
      "Iteration 17, inertia 26.454251025809764\n",
      "Iteration 18, inertia 26.451658395196606\n",
      "Iteration 19, inertia 26.450725565655066\n",
      "Iteration 20, inertia 26.450459370638466\n",
      "Iteration 21, inertia 26.450355209661495\n",
      "Iteration 22, inertia 26.450185927823764\n",
      "Converged at iteration 22: center shift 6.0979567713145134e-09 within tolerance 6.549573422333151e-08.\n",
      "Initialization complete\n",
      "Iteration 0, inertia 30.610336939152916\n",
      "Iteration 1, inertia 27.815216550891527\n",
      "Iteration 2, inertia 27.40811833472725\n",
      "Iteration 3, inertia 27.29088667683709\n",
      "Iteration 4, inertia 27.20451870569026\n",
      "Iteration 5, inertia 27.12992789440939\n",
      "Iteration 6, inertia 27.102155979140015\n",
      "Iteration 7, inertia 27.084035547288273\n",
      "Iteration 8, inertia 27.077348845847744\n",
      "Iteration 9, inertia 27.072449132220346\n",
      "Iteration 10, inertia 27.064717600104423\n",
      "Iteration 11, inertia 27.063323475466042\n",
      "Iteration 12, inertia 27.062678198816712\n",
      "Iteration 13, inertia 27.062518205222418\n",
      "Iteration 14, inertia 27.062402084504818\n",
      "Converged at iteration 14: center shift 8.587086883036844e-09 within tolerance 6.549573422333151e-08.\n",
      "Initialization complete\n",
      "Iteration 0, inertia 31.495014653664708\n",
      "Iteration 1, inertia 27.16797360167759\n",
      "Iteration 2, inertia 26.854592797626996\n",
      "Iteration 3, inertia 26.75587326000815\n",
      "Iteration 4, inertia 26.67339490222136\n",
      "Iteration 5, inertia 26.59844898923016\n",
      "Iteration 6, inertia 26.56943771655669\n",
      "Iteration 7, inertia 26.541954651709055\n",
      "Iteration 8, inertia 26.515770995732638\n",
      "Iteration 9, inertia 26.503770453565483\n",
      "Iteration 10, inertia 26.485300209951877\n",
      "Iteration 11, inertia 26.480367119453167\n",
      "Iteration 12, inertia 26.478185814447386\n",
      "Iteration 13, inertia 26.472953945524466\n",
      "Iteration 14, inertia 26.46436390379721\n",
      "Iteration 15, inertia 26.45365401975593\n",
      "Iteration 16, inertia 26.445711567836227\n",
      "Iteration 17, inertia 26.43337030475608\n",
      "Iteration 18, inertia 26.423919244642875\n",
      "Iteration 19, inertia 26.408745619633336\n",
      "Iteration 20, inertia 26.393108610264484\n",
      "Iteration 21, inertia 26.386795792883053\n",
      "Iteration 22, inertia 26.381607616806406\n",
      "Iteration 23, inertia 26.37977773278723\n",
      "Iteration 24, inertia 26.378095095174952\n",
      "Iteration 25, inertia 26.377668547322703\n",
      "Iteration 26, inertia 26.377541874342967\n",
      "Iteration 27, inertia 26.37734275834249\n",
      "Iteration 28, inertia 26.3772453447341\n",
      "Converged at iteration 28: center shift 5.184543003818964e-08 within tolerance 6.549573422333151e-08.\n",
      "Initialization complete\n",
      "Iteration 0, inertia 32.30807124123494\n",
      "Iteration 1, inertia 28.37287791387314\n",
      "Iteration 2, inertia 27.716948789970672\n",
      "Iteration 3, inertia 27.435872169914123\n",
      "Iteration 4, inertia 27.274293561978855\n",
      "Iteration 5, inertia 27.176330755201338\n",
      "Iteration 6, inertia 27.09279301970858\n",
      "Iteration 7, inertia 27.027733560158794\n",
      "Iteration 8, inertia 26.977635311369934\n",
      "Iteration 9, inertia 26.948996003757586\n",
      "Iteration 10, inertia 26.930454296388234\n",
      "Iteration 11, inertia 26.92124335530331\n",
      "Iteration 12, inertia 26.919237000860992\n",
      "Iteration 13, inertia 26.91844652880837\n",
      "Iteration 14, inertia 26.917290109110176\n",
      "Iteration 15, inertia 26.91666538451336\n",
      "Iteration 16, inertia 26.915672206532438\n",
      "Iteration 17, inertia 26.91540144933186\n",
      "Iteration 18, inertia 26.915207636557312\n",
      "Iteration 19, inertia 26.914626279072262\n",
      "Iteration 20, inertia 26.914127336040437\n",
      "Iteration 21, inertia 26.91383681695619\n"
     ]
    },
    {
     "name": "stdout",
     "output_type": "stream",
     "text": [
      "Iteration 22, inertia 26.91373048327273\n",
      "Converged at iteration 22: center shift 4.660240468487226e-08 within tolerance 6.549573422333151e-08.\n",
      "Initialization complete\n",
      "Iteration 0, inertia 31.835424865252584\n",
      "Iteration 1, inertia 28.437068232637678\n",
      "Iteration 2, inertia 27.943359780935282\n",
      "Iteration 3, inertia 27.722930856179794\n",
      "Iteration 4, inertia 27.674426707842763\n",
      "Iteration 5, inertia 27.656695204485032\n",
      "Iteration 6, inertia 27.64985762298413\n",
      "Iteration 7, inertia 27.643830908448738\n",
      "Iteration 8, inertia 27.640500062370517\n",
      "Iteration 9, inertia 27.636725842360722\n",
      "Iteration 10, inertia 27.631073285156123\n",
      "Iteration 11, inertia 27.628722593188492\n",
      "Iteration 12, inertia 27.627996591175783\n",
      "Iteration 13, inertia 27.626258330848323\n",
      "Iteration 14, inertia 27.624747110529242\n",
      "Iteration 15, inertia 27.62287848084106\n",
      "Iteration 16, inertia 27.621048628786692\n",
      "Iteration 17, inertia 27.61902112547532\n",
      "Iteration 18, inertia 27.618069760100312\n",
      "Iteration 19, inertia 27.617881703922166\n",
      "Converged at iteration 19: center shift 3.292336347374728e-08 within tolerance 6.549573422333151e-08.\n",
      "Training\n",
      "starting epoch 1\n",
      "Iteration 100. Loss 2.792     \n",
      "Iteration 200. Loss 1.791     \n",
      "Iteration 300. Loss 1.722     \n",
      "Iteration 400. Loss 1.694     \n",
      "Iteration 500. Loss 1.608     \n",
      "Iteration 600. Loss 1.638     \n",
      "Iteration 700. Loss 1.569     \n",
      "Iteration 800. Loss 1.577     \n",
      "Iteration 900. Loss 1.561     \n",
      "Iteration 1000. Loss 1.550     \n",
      "Iteration 1100. Loss 1.496     \n",
      "Iteration 1200. Loss 1.423     \n",
      "Iteration 1300. Loss 1.474     \n",
      "Iteration 1400. Loss 1.429     \n",
      "Iteration 1500. Loss 1.363     \n",
      "Iteration 1600. Loss 1.384     \n",
      "Iteration 1700. Loss 1.364     \n",
      "Iteration 1800. Loss 1.364     \n",
      "Iteration 1900. Loss 1.365     \n",
      "Iteration 2000. Loss 1.376     \n",
      "Iteration 2100. Loss 1.350     \n",
      "Iteration 2200. Loss 1.336     \n",
      "Iteration 2300. Loss 1.352     \n",
      "Iteration 2400. Loss 1.302     \n",
      "Iteration 2500. Loss 1.318     \n",
      "Iteration 2600. Loss 1.315     \n",
      "Iteration 2700. Loss 1.351     \n",
      "Iteration 2800. Loss 1.258     \n",
      "Iteration 2900. Loss 1.287     \n",
      "Iteration 3000. Loss 1.277     \n",
      "Iteration 3100. Loss 1.328     \n",
      "Iteration 3200. Loss 1.249     \n",
      "Iteration 3300. Loss 1.245     \n",
      "Iteration 3400. Loss 1.223     \n",
      "Iteration 3500. Loss 1.218     \n",
      "Iteration 3600. Loss 1.204     \n",
      "Iteration 3700. Loss 1.225     \n",
      "Iteration 3800. Loss 1.223     \n",
      "starting epoch 2\n",
      "Iteration 3900. Loss 1.212     \n",
      "Iteration 4000. Loss 1.170     \n",
      "Iteration 4100. Loss 1.201     \n",
      "Iteration 4200. Loss 1.204     \n",
      "Iteration 4300. Loss 1.255     \n",
      "Iteration 4400. Loss 1.178     \n",
      "Iteration 4500. Loss 1.175     \n",
      "Iteration 4600. Loss 1.155     \n",
      "Iteration 4700. Loss 1.169     \n",
      "Iteration 4800. Loss 1.210     \n",
      "Iteration 4900. Loss 1.211     \n",
      "Iteration 5000. Loss 1.194     \n",
      "Iteration 5100. Loss 1.216     \n",
      "Iteration 5200. Loss 1.187     \n",
      "Iteration 5300. Loss 1.197     \n",
      "Iteration 5400. Loss 1.153     \n",
      "Iteration 5500. Loss 1.160     \n",
      "Iteration 5600. Loss 1.088     \n",
      "Iteration 5700. Loss 1.116     \n",
      "Iteration 5800. Loss 1.125     \n",
      "Iteration 5900. Loss 1.135     \n",
      "Iteration 6000. Loss 1.120     \n",
      "Iteration 6100. Loss 1.117     \n",
      "Iteration 6200. Loss 1.146     \n",
      "Iteration 6300. Loss 1.069     \n",
      "Iteration 6400. Loss 1.084     \n",
      "Iteration 6500. Loss 1.109     \n",
      "Iteration 6600. Loss 1.113     \n",
      "Iteration 6700. Loss 1.087     \n",
      "Iteration 6800. Loss 1.038     \n",
      "Iteration 6900. Loss 1.093     \n",
      "Iteration 7000. Loss 1.064     \n",
      "Iteration 7100. Loss 1.079     \n",
      "Iteration 7200. Loss 1.089     \n",
      "Iteration 7300. Loss 1.058     \n",
      "Iteration 7400. Loss 1.050     \n",
      "Iteration 7500. Loss 0.986     \n",
      "Iteration 7600. Loss 1.031     \n",
      "starting epoch 3\n",
      "Iteration 7700. Loss 1.022     \n",
      "Iteration 7800. Loss 1.021     \n",
      "Iteration 7900. Loss 0.990     \n",
      "Iteration 8000. Loss 1.061     \n",
      "Iteration 8100. Loss 1.000     \n",
      "Iteration 8200. Loss 1.005     \n",
      "Iteration 8300. Loss 0.994     \n",
      "Iteration 8400. Loss 1.052     \n",
      "Iteration 8500. Loss 1.013     \n",
      "Iteration 8600. Loss 0.908     \n",
      "Iteration 8700. Loss 1.035     \n",
      "Iteration 8800. Loss 0.985     \n",
      "Iteration 8900. Loss 1.040     \n",
      "Iteration 9000. Loss 0.999     \n",
      "Iteration 9100. Loss 1.010     \n",
      "Iteration 9200. Loss 1.031     \n",
      "Iteration 9300. Loss 1.032     \n",
      "Iteration 9400. Loss 1.026     \n",
      "Iteration 9500. Loss 0.993     \n",
      "Iteration 9600. Loss 0.971     \n",
      "Iteration 9700. Loss 0.955     \n",
      "Iteration 9800. Loss 1.020     \n",
      "Iteration 9900. Loss 0.974     \n",
      "Iteration 10000. Loss 1.000     \n",
      "Iteration 10100. Loss 1.031     \n",
      "Iteration 10200. Loss 0.987     \n",
      "Iteration 10300. Loss 0.978     \n",
      "Iteration 10400. Loss 1.000     \n",
      "Iteration 10500. Loss 0.980     \n",
      "Iteration 10600. Loss 0.947     \n",
      "Iteration 10700. Loss 0.980     \n",
      "Iteration 10800. Loss 0.994     \n",
      "Iteration 10900. Loss 0.971     \n",
      "Iteration 11000. Loss 0.995     \n",
      "Iteration 11100. Loss 0.995     \n",
      "Iteration 11200. Loss 0.957     \n",
      "Iteration 11300. Loss 0.929     \n",
      "Iteration 11400. Loss 0.929     \n",
      "starting epoch 4\n",
      "Iteration 11500. Loss 0.954     \n",
      "Iteration 11600. Loss 0.928     \n",
      "Iteration 11700. Loss 0.935     \n",
      "Iteration 11800. Loss 0.951     \n",
      "Iteration 11900. Loss 0.896     \n",
      "Iteration 12000. Loss 0.921     \n",
      "Iteration 12100. Loss 0.890     \n",
      "Iteration 12200. Loss 0.904     \n",
      "Iteration 12300. Loss 0.876     \n",
      "Iteration 12400. Loss 0.935     \n",
      "Iteration 12500. Loss 0.928     \n",
      "Iteration 12600. Loss 0.879     \n",
      "Iteration 12700. Loss 0.905     \n",
      "Iteration 12800. Loss 0.964     \n",
      "Iteration 12900. Loss 0.895     \n",
      "Iteration 13000. Loss 0.981     \n",
      "Iteration 13100. Loss 0.955     \n",
      "Iteration 13200. Loss 0.899     \n",
      "Iteration 13300. Loss 0.892     \n",
      "Iteration 13400. Loss 0.913     \n",
      "Iteration 13500. Loss 0.872     \n",
      "Iteration 13600. Loss 0.857     \n",
      "Iteration 13700. Loss 0.885     \n",
      "Iteration 13800. Loss 0.877     \n",
      "Iteration 13900. Loss 0.913     \n",
      "Iteration 14000. Loss 0.902     \n",
      "Iteration 14100. Loss 0.891     \n",
      "Iteration 14200. Loss 0.921     \n",
      "Iteration 14300. Loss 0.865     \n",
      "Iteration 14400. Loss 0.897     \n",
      "Iteration 14500. Loss 0.850     \n",
      "Iteration 14600. Loss 0.837     \n",
      "Iteration 14700. Loss 0.890     \n",
      "Iteration 14800. Loss 0.914     \n",
      "Iteration 14900. Loss 0.908     \n",
      "Iteration 15000. Loss 0.844     \n",
      "Iteration 15100. Loss 0.863     \n",
      "Iteration 15200. Loss 0.859     \n",
      "Training done\n"
     ]
    }
   ],
   "source": [
    "# inertia should be ~60-70 for 100 centroids, ~90-100 for 70, ~200 for 40. Depends on random state i think\n",
    "# filtered dataset get lower inertia :) so it seems to be good\n",
    "train()  # only need to run this once.\n"
   ]
  },
  {
   "cell_type": "code",
   "execution_count": null,
   "metadata": {},
   "outputs": [],
   "source": []
  }
 ],
 "metadata": {
  "kernelspec": {
   "display_name": "minecraft",
   "language": "python",
   "name": "minecraft"
  },
  "language_info": {
   "codemirror_mode": {
    "name": "ipython",
    "version": 3
   },
   "file_extension": ".py",
   "mimetype": "text/x-python",
   "name": "python",
   "nbconvert_exporter": "python",
   "pygments_lexer": "ipython3",
   "version": "3.9.7"
  }
 },
 "nbformat": 4,
 "nbformat_minor": 4
}
